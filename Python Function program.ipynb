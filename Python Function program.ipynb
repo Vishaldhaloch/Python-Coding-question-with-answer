{
 "cells": [
  {
   "cell_type": "code",
   "execution_count": 5,
   "id": "19a12174",
   "metadata": {},
   "outputs": [
    {
     "name": "stdout",
     "output_type": "stream",
     "text": [
      "1\n",
      "2\n",
      "3\n",
      "4\n",
      "5\n",
      "6\n",
      "7\n",
      "8\n",
      "9\n",
      "10\n"
     ]
    }
   ],
   "source": [
    "# Wap to print first 10 N number using function\n",
    "def natural(n):\n",
    "    for i in range(1,n):\n",
    "        print(i)\n",
    "        \n",
    "natural(11)        "
   ]
  },
  {
   "cell_type": "code",
   "execution_count": 6,
   "id": "bec42c61",
   "metadata": {},
   "outputs": [
    {
     "name": "stdout",
     "output_type": "stream",
     "text": [
      "1\n",
      "3\n",
      "5\n",
      "7\n",
      "9\n"
     ]
    }
   ],
   "source": [
    "# wap to print first N odd number using function\n",
    "def odd(n):\n",
    "    for i in range(1,n,2):\n",
    "        print(i)\n",
    "odd(11)        \n",
    "        "
   ]
  },
  {
   "cell_type": "code",
   "execution_count": 20,
   "id": "853ef8c4",
   "metadata": {},
   "outputs": [
    {
     "name": "stdout",
     "output_type": "stream",
     "text": [
      "0\n",
      "2\n",
      "4\n",
      "6\n",
      "8\n",
      "10\n",
      "12\n",
      "14\n",
      "16\n",
      "18\n"
     ]
    }
   ],
   "source": [
    "# wap to print first N even number using function\n",
    "def even(n):\n",
    "    for i in range(0,20,2):\n",
    "        print(i)\n",
    "even(12)        "
   ]
  },
  {
   "cell_type": "code",
   "execution_count": 49,
   "id": "c33c1c89",
   "metadata": {},
   "outputs": [
    {
     "name": "stdout",
     "output_type": "stream",
     "text": [
      "Enter=4\n",
      " the number 4 is not prime number\n"
     ]
    }
   ],
   "source": [
    "# wap to check number is prime or not\n",
    "def check_prime(n):\n",
    "    for i in range(2,n):\n",
    "        if n%i==0:\n",
    "            return False\n",
    "            break   \n",
    "    return True\n",
    "n=int(input(\"Enter=\"))\n",
    "if  not check_prime(n):\n",
    "    print(f\" the number {n} is not prime number\")    \n",
    "else:\n",
    "    print(f\" the number {n} is prime number\")"
   ]
  },
  {
   "cell_type": "code",
   "execution_count": null,
   "id": "a4d197d3",
   "metadata": {},
   "outputs": [],
   "source": [
    "# Wap to check number is armstrong or not using function\n",
    "def armstrong(n):\n",
    "    temp=n\n",
    "    sum=0\n",
    "    order=len(str(n))\n",
    "    while n!=0:\n",
    "        r=n%10\n",
    "        sum=sum+r**order\n",
    "        temp=temp//10\n",
    "        if temp==sum:\n",
    "            return True\n",
    "    return False\n",
    "\n",
    "armstrong(154)"
   ]
  },
  {
   "cell_type": "code",
   "execution_count": 80,
   "id": "bf91415a",
   "metadata": {},
   "outputs": [
    {
     "name": "stdout",
     "output_type": "stream",
     "text": [
      " The 15 is divisible by 5\n"
     ]
    }
   ],
   "source": [
    "# use f string\n",
    "n=15\n",
    "print(f\" The {n} is divisible by 5\")"
   ]
  },
  {
   "cell_type": "code",
   "execution_count": null,
   "id": "3cbefec4",
   "metadata": {},
   "outputs": [],
   "source": []
  },
  {
   "cell_type": "code",
   "execution_count": 52,
   "id": "5da1adfb",
   "metadata": {},
   "outputs": [
    {
     "name": "stdout",
     "output_type": "stream",
     "text": [
      "[5, 4, 3, 2, 1]\n"
     ]
    }
   ],
   "source": [
    "lst1 = [1,2,3,4,5]\n",
    "\n"
   ]
  },
  {
   "cell_type": "code",
   "execution_count": null,
   "id": "8d2ecb65",
   "metadata": {},
   "outputs": [],
   "source": []
  },
  {
   "cell_type": "code",
   "execution_count": null,
   "id": "631095d2",
   "metadata": {},
   "outputs": [],
   "source": []
  },
  {
   "cell_type": "code",
   "execution_count": null,
   "id": "f381cc10",
   "metadata": {},
   "outputs": [],
   "source": []
  },
  {
   "cell_type": "code",
   "execution_count": null,
   "id": "fab4388a",
   "metadata": {},
   "outputs": [],
   "source": []
  }
 ],
 "metadata": {
  "kernelspec": {
   "display_name": "Python 3 (ipykernel)",
   "language": "python",
   "name": "python3"
  },
  "language_info": {
   "codemirror_mode": {
    "name": "ipython",
    "version": 3
   },
   "file_extension": ".py",
   "mimetype": "text/x-python",
   "name": "python",
   "nbconvert_exporter": "python",
   "pygments_lexer": "ipython3",
   "version": "3.11.5"
  }
 },
 "nbformat": 4,
 "nbformat_minor": 5
}
