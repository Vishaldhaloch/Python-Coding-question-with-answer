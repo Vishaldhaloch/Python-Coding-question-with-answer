{
 "cells": [
  {
   "cell_type": "markdown",
   "id": "69ee44cd",
   "metadata": {},
   "source": [
    "# Built in function List method\n",
    "#append():adds an element at the end of list.\n",
    "list=[1,2,3,4]\n",
    "list1=list.append(5)\n",
    "print(list)\n"
   ]
  },
  {
   "cell_type": "code",
   "execution_count": 24,
   "id": "a4629d90",
   "metadata": {},
   "outputs": [
    {
     "name": "stdout",
     "output_type": "stream",
     "text": [
      "[]\n"
     ]
    }
   ],
   "source": [
    "#clear():remove all the elements from the list.\n",
    "a=[1,2,3,4]\n",
    "b=a.clear()\n",
    "print(a)"
   ]
  },
  {
   "cell_type": "code",
   "execution_count": 56,
   "id": "fa03053a",
   "metadata": {},
   "outputs": [
    {
     "name": "stdout",
     "output_type": "stream",
     "text": [
      "['hello', 'world', 'hi']\n"
     ]
    }
   ],
   "source": [
    "# Copy(): Return a copy of the list.\n",
    "a=[\"hello\",\"world\",\"hi\"]\n",
    "b=a.copy()\n",
    "print(b)"
   ]
  },
  {
   "cell_type": "code",
   "execution_count": 30,
   "id": "8ba46117",
   "metadata": {},
   "outputs": [
    {
     "name": "stdout",
     "output_type": "stream",
     "text": [
      "2\n"
     ]
    }
   ],
   "source": [
    "# count(): Returns the number of elements with the specified value\n",
    "a=[5,6,8,5,6]\n",
    "b=a.count(5)\n",
    "print(b)"
   ]
  },
  {
   "cell_type": "code",
   "execution_count": 34,
   "id": "618073a3",
   "metadata": {},
   "outputs": [
    {
     "name": "stdout",
     "output_type": "stream",
     "text": [
      "[12, 4, 5, 6, 7, 8, 5, 6]\n"
     ]
    }
   ],
   "source": [
    "# extend():Add the elements of a list (or any iterable), to the end of the current list\n",
    "a=[12,4,5,6]\n",
    "b=[7,8,5,6]\n",
    "a.extend(b)\n",
    "print(a)"
   ]
  },
  {
   "cell_type": "code",
   "execution_count": 38,
   "id": "4beabc30",
   "metadata": {},
   "outputs": [
    {
     "name": "stdout",
     "output_type": "stream",
     "text": [
      "1\n"
     ]
    }
   ],
   "source": [
    "# index()\tReturns the index of the first element with the specified value\n",
    "a=[\"hi\",\"helo\",2,5]\n",
    "b=a.index(\"helo\")\n",
    "print(b)"
   ]
  },
  {
   "cell_type": "code",
   "execution_count": 45,
   "id": "0458e69e",
   "metadata": {},
   "outputs": [
    {
     "name": "stdout",
     "output_type": "stream",
     "text": [
      "[1, 5, 'hi', 8, 6]\n"
     ]
    }
   ],
   "source": [
    "# insert()\tAdds an element at the specified position\n",
    "List=[1,5,8,6]\n",
    "List.insert(2,\"hi\")\n",
    "print(List)"
   ]
  },
  {
   "cell_type": "code",
   "execution_count": 46,
   "id": "cd10bd73",
   "metadata": {},
   "outputs": [
    {
     "name": "stdout",
     "output_type": "stream",
     "text": [
      "[2, 9, 7]\n"
     ]
    }
   ],
   "source": [
    "# pop()\tRemoves the element at the specified position\n",
    "list=[2,9,8,7]\n",
    "list.pop(2)\n",
    "print(list)"
   ]
  },
  {
   "cell_type": "code",
   "execution_count": 47,
   "id": "cf877e66",
   "metadata": {},
   "outputs": [
    {
     "name": "stdout",
     "output_type": "stream",
     "text": [
      "['hi', 2, 8]\n"
     ]
    }
   ],
   "source": [
    "# remove()\tRemoves the first item with the specified value\n",
    "a=[\"hi\",2,5,8]\n",
    "a.remove(5)\n",
    "print(a)"
   ]
  },
  {
   "cell_type": "code",
   "execution_count": 48,
   "id": "6704e6ef",
   "metadata": {},
   "outputs": [
    {
     "name": "stdout",
     "output_type": "stream",
     "text": [
      "[9, 8, 5, 'hello', 2]\n"
     ]
    }
   ],
   "source": [
    "# reverse()\tReverses the order of the list\n",
    "b=[2,\"hello\",5,8,9]\n",
    "b.reverse()\n",
    "print(b)"
   ]
  },
  {
   "cell_type": "code",
   "execution_count": 51,
   "id": "4a2aca70",
   "metadata": {},
   "outputs": [
    {
     "name": "stdout",
     "output_type": "stream",
     "text": [
      "[1, 1, 2, 5, 6, 8, 25]\n"
     ]
    }
   ],
   "source": [
    "# sort()\tSorts the list\n",
    "c=[1,5,1,8,2,25,6]\n",
    "c.sort()\n",
    "print(c)"
   ]
  },
  {
   "cell_type": "markdown",
   "id": "c1973f94",
   "metadata": {},
   "source": [
    "# Dictionary built in method\n",
    "# clear()\tRemoves all the elements from the dictionary\n",
    "Student={\"name\":\"Vishal\",\"Roll\":18,\"Section\":\"c\"}\n",
    "Student.clear()\n",
    "print(Student)"
   ]
  },
  {
   "cell_type": "code",
   "execution_count": 54,
   "id": "b44e313a",
   "metadata": {},
   "outputs": [
    {
     "name": "stdout",
     "output_type": "stream",
     "text": [
      "{1: 'vishal', 2: 'Rohit', 3: 'Happy'}\n"
     ]
    }
   ],
   "source": [
    "# copy()\tReturns a copy of the dictionary\n",
    "a={1:\"vishal\",2:\"Rohit\",3:\"Happy\"}\n",
    "b=a.copy()\n",
    "print(b)"
   ]
  },
  {
   "cell_type": "code",
   "execution_count": 55,
   "id": "056f2039",
   "metadata": {},
   "outputs": [
    {
     "name": "stdout",
     "output_type": "stream",
     "text": [
      "{1: None, 2: None, 3: None}\n"
     ]
    }
   ],
   "source": [
    "# fromkeys()\tReturns a dictionary with the specified keys and value\n",
    "#dict.fromkeys(keys, value) # value optional\n",
    "student={1,2,3}\n",
    "b=dict.fromkeys(student)\n",
    "print(b)\n"
   ]
  },
  {
   "cell_type": "code",
   "execution_count": 61,
   "id": "0663912b",
   "metadata": {},
   "outputs": [
    {
     "name": "stdout",
     "output_type": "stream",
     "text": [
      "Vishal\n"
     ]
    }
   ],
   "source": [
    "# get()\tReturns the value of the specified key\n",
    "# dictionary.get(keyname, value) value optional\n",
    "student={\"name\":\"Vishal\",\"Roll\":18,\"Section\":\"c\"}\n",
    "b=student.get(\"name\")\n",
    "print(b)\n",
    "\n"
   ]
  },
  {
   "cell_type": "code",
   "execution_count": 64,
   "id": "a5e21673",
   "metadata": {},
   "outputs": [
    {
     "name": "stdout",
     "output_type": "stream",
     "text": [
      "dict_items([('name', 'Vishal'), ('Roll', 18), ('Section', 'c')])\n"
     ]
    }
   ],
   "source": [
    "# items()\tReturns a list containing a tuple for each key value pair\n",
    "# syntax dictionary.items()  # no parameter\n",
    "student={\"name\":\"Vishal\",\"Roll\":18,\"Section\":\"c\"}\n",
    "x=student.items()\n",
    "print(x)"
   ]
  },
  {
   "cell_type": "code",
   "execution_count": 66,
   "id": "3b01897d",
   "metadata": {},
   "outputs": [
    {
     "name": "stdout",
     "output_type": "stream",
     "text": [
      "dict_keys(['name', 'Roll', 'Section'])\n"
     ]
    }
   ],
   "source": [
    "# keys()\tReturns a list containing the dictionary's keys\n",
    "#  syntax dictionary.keys() # no parameter\n",
    "student={\"name\":\"Vishal\",\"Roll\":18,\"Section\":\"c\"}\n",
    "b=student.keys()\n",
    "print(b)"
   ]
  },
  {
   "cell_type": "code",
   "execution_count": 69,
   "id": "14f5f5a0",
   "metadata": {},
   "outputs": [
    {
     "name": "stdout",
     "output_type": "stream",
     "text": [
      "{'name': 'Vishal', 'Section': 'c'}\n"
     ]
    }
   ],
   "source": [
    "# pop()\tRemoves the element with the specified key\n",
    "# syntax dictionary.pop(keyname, defaultvalue) # default value optional\n",
    "student={\"name\":\"Vishal\",\"Roll\":18,\"Section\":\"c\"}\n",
    "student.pop(\"Roll\")\n",
    "print(student)"
   ]
  },
  {
   "cell_type": "code",
   "execution_count": 72,
   "id": "41ebf423",
   "metadata": {},
   "outputs": [
    {
     "name": "stdout",
     "output_type": "stream",
     "text": [
      "{'name': 'Vishal', 'Roll': 18}\n"
     ]
    }
   ],
   "source": [
    "# popitem()\tRemoves the last inserted key-value pair\n",
    "# syntax dictionary.popitem() # no parameter\n",
    "student={\"name\":\"Vishal\",\"Roll\":18,\"Section\":\"c\"}\n",
    "student.popitem()\n",
    "print(student)"
   ]
  },
  {
   "cell_type": "code",
   "execution_count": 78,
   "id": "c80fbfdd",
   "metadata": {},
   "outputs": [
    {
     "name": "stdout",
     "output_type": "stream",
     "text": [
      "math\n"
     ]
    }
   ],
   "source": [
    "# setdefault()\tReturns the value of the specified key. If the key does not exist: insert the key, with the specified value\n",
    "# syntax dictionary.setdefault(keyname, value) # value optional\n",
    "# Get the value of the \"color\" item, if the \"color\" item does not exist, insert \"color\" with the value \"white\":\n",
    "student={\"name\":\"Vishal\",\"Roll\":18,\"Section\":\"c\"}\n",
    "# b=student.setdefault(\"name\",\"rohit\")\n",
    "c=student.setdefault(\"subject\",\"math\")\n",
    "print(c)\n",
    "# print(b)"
   ]
  },
  {
   "cell_type": "code",
   "execution_count": 81,
   "id": "a6f15304",
   "metadata": {},
   "outputs": [
    {
     "name": "stdout",
     "output_type": "stream",
     "text": [
      "{'name': 'Vishal', 'Roll': 18, 'Section': 'c', 'subject': 'science'}\n"
     ]
    }
   ],
   "source": [
    "# update()\tUpdates the dictionary with the specified key-value pairs\n",
    "student={\"name\":\"Vishal\",\"Roll\":18,\"Section\":\"c\"}\n",
    "student.update({\"subject\":\"science\"})\n",
    "print(student)\n"
   ]
  },
  {
   "cell_type": "code",
   "execution_count": 83,
   "id": "ef068c37",
   "metadata": {},
   "outputs": [
    {
     "name": "stdout",
     "output_type": "stream",
     "text": [
      "dict_values(['Vishal', 18, 'c'])\n"
     ]
    }
   ],
   "source": [
    "# values()\tReturns a list of all the values in the dictionary\n",
    "student={\"name\":\"Vishal\",\"Roll\":18,\"Section\":\"c\"}\n",
    "c=student.values()\n",
    "print(c)"
   ]
  },
  {
   "cell_type": "markdown",
   "id": "eb01d792",
   "metadata": {},
   "source": [
    "# Python Tuple Method\n",
    "# Tuple has only two built in  method\n",
    "# count()\tReturns the number of times a specified value occurs in a tuple\n",
    "tuple = (1, 3,3,4, 7, 8, 7, 5, 4, 6, 8, 5)\n",
    "count=tuple.count(4)\n",
    "print(count)\n"
   ]
  },
  {
   "cell_type": "code",
   "execution_count": 87,
   "id": "d074b22f",
   "metadata": {},
   "outputs": [
    {
     "name": "stdout",
     "output_type": "stream",
     "text": [
      "3\n"
     ]
    }
   ],
   "source": [
    "# index()\tSearches the tuple for a specified value and returns the position of where it was found\n",
    "tuple=(1,2,8,5,6,47,6,2,4)\n",
    "b=tuple.index(5)\n",
    "print(b)"
   ]
  },
  {
   "cell_type": "markdown",
   "id": "bbd13449",
   "metadata": {},
   "source": [
    "### Python Built in Set method"
   ]
  },
  {
   "cell_type": "code",
   "execution_count": 89,
   "id": "61258d7f",
   "metadata": {},
   "outputs": [
    {
     "name": "stdout",
     "output_type": "stream",
     "text": [
      "{1, 2, 3, 4}\n"
     ]
    }
   ],
   "source": [
    "# add()\tAdds an element to the set\n",
    "set={1,2,3}\n",
    "set.add(4)\n",
    "print(set)\n"
   ]
  },
  {
   "cell_type": "code",
   "execution_count": 93,
   "id": "aded826b",
   "metadata": {},
   "outputs": [
    {
     "name": "stdout",
     "output_type": "stream",
     "text": [
      "set()\n"
     ]
    }
   ],
   "source": [
    "# clear()\tRemoves all the elements from the set\n",
    "set={2,5,8,9}\n",
    "set.clear()\n",
    "print(set)"
   ]
  },
  {
   "cell_type": "code",
   "execution_count": 94,
   "id": "56171265",
   "metadata": {},
   "outputs": [
    {
     "name": "stdout",
     "output_type": "stream",
     "text": [
      "{8, 2, 5, 7}\n"
     ]
    }
   ],
   "source": [
    "# copy()\tReturns a copy of the set\n",
    "set={2,5,8,7}\n",
    "set1=set.copy()\n",
    "print(set1)"
   ]
  },
  {
   "cell_type": "code",
   "execution_count": 95,
   "id": "7e16d347",
   "metadata": {},
   "outputs": [
    {
     "name": "stdout",
     "output_type": "stream",
     "text": [
      "{'World', 'hi'}\n"
     ]
    }
   ],
   "source": [
    "# difference()\tReturns a set containing the difference between two or more sets\n",
    "# The difference() method returns a set that contains the difference between two sets.\n",
    "#Meaning: The returned set contains items that exist only in the first set, and not in both sets.\n",
    "\n",
    "set={\"hi\",\"Hello\",\"World\"}\n",
    "set1={\"apple\",\"Hello\",\"Cherry\"}\n",
    "x=set.difference(set1)\n",
    "print(x)"
   ]
  },
  {
   "cell_type": "code",
   "execution_count": 99,
   "id": "c9cb18d7",
   "metadata": {},
   "outputs": [
    {
     "name": "stdout",
     "output_type": "stream",
     "text": [
      "{2, 3}\n"
     ]
    }
   ],
   "source": [
    "# difference_update()\tRemoves the items in this set that are also included in another, specified set\n",
    "#The difference_update() method removes the items that exist in both sets.\n",
    "# The difference_update() method is different from the difference() method, \n",
    "#because the difference() method returns a new set, without the unwanted items, \n",
    "#and the difference_update() method removes the unwanted items from the original set.\n",
    "set={1,2,3}\n",
    "set2={4,5,1}\n",
    "set.difference_update(set2)\n",
    "print(set)"
   ]
  },
  {
   "cell_type": "code",
   "execution_count": 100,
   "id": "5c3066ff",
   "metadata": {},
   "outputs": [
    {
     "name": "stdout",
     "output_type": "stream",
     "text": [
      "{'Hello', 'Hi'}\n"
     ]
    }
   ],
   "source": [
    "# discard()\tRemove the specified item\n",
    "set={\"Hi\",\"Hello\",\"World\"}\n",
    "set.discard(\"World\")\n",
    "print(set)"
   ]
  },
  {
   "cell_type": "code",
   "execution_count": 101,
   "id": "a90e635f",
   "metadata": {},
   "outputs": [
    {
     "name": "stdout",
     "output_type": "stream",
     "text": [
      "{1}\n"
     ]
    }
   ],
   "source": [
    "# intersection()\tReturns a set, that is the intersection of two or more sets\n",
    "#The intersection() method returns a set that contains the similarity between two or more sets.\n",
    "# Meaning: The returned set contains only items that exist in both sets, \n",
    "#or in all sets if the comparison is done with more than two sets.\n",
    "set={1,2,3}\n",
    "set1={4,5,1}\n",
    "c=set.intersection(set1)\n",
    "print(c)"
   ]
  },
  {
   "cell_type": "code",
   "execution_count": 102,
   "id": "ee3b1a6c",
   "metadata": {},
   "outputs": [
    {
     "name": "stdout",
     "output_type": "stream",
     "text": [
      "{1}\n"
     ]
    }
   ],
   "source": [
    "# intersection_update()\tRemoves the items in this set that are not present in other, specified set(s)\n",
    "#The intersection_update() method removes the items that is not present in both sets \n",
    "#The intersection_update() method is different from the intersection() method,\n",
    "#because the intersection() method returns a new set, without the unwanted items, \n",
    "#and the intersection_update() method removes the unwanted items from the original set.\n",
    "set={1,2,3}\n",
    "set1={4,5,1}\n",
    "set.intersection_update(set1)\n",
    "print(set)"
   ]
  },
  {
   "cell_type": "code",
   "execution_count": 106,
   "id": "388cb5b6",
   "metadata": {},
   "outputs": [
    {
     "name": "stdout",
     "output_type": "stream",
     "text": [
      "True\n"
     ]
    }
   ],
   "source": [
    "# isdisjoint()\tReturns whether two sets have a intersection or not\n",
    "# The isdisjoint() method returns True if none of the items are present in both sets, otherwise it returns False.\n",
    "set={1,2,3}\n",
    "set1={4,5,6}\n",
    "z=set.isdisjoint(set1)\n",
    "print(z)"
   ]
  },
  {
   "cell_type": "code",
   "execution_count": 107,
   "id": "a8e317c7",
   "metadata": {},
   "outputs": [
    {
     "name": "stdout",
     "output_type": "stream",
     "text": [
      "True\n"
     ]
    }
   ],
   "source": [
    "# issubset()\tReturns whether another set contains this set or not\n",
    "#The issubset() method returns True if all items in the set exists in the specified set, otherwise it returns False.\n",
    "set={\"a\", \"b\", \"c\"}\n",
    "set1={\"f\", \"e\", \"d\", \"c\", \"b\", \"a\"}\n",
    "z=set.issubset(set1)\n",
    "print(z)"
   ]
  },
  {
   "cell_type": "code",
   "execution_count": 111,
   "id": "49f69ff6",
   "metadata": {},
   "outputs": [
    {
     "name": "stdout",
     "output_type": "stream",
     "text": [
      "True\n"
     ]
    }
   ],
   "source": [
    "# issuperset()\tReturns whether this set contains another set or not\n",
    "#The issuperset() method returns True if all items in the specified set exists in the original set, otherwise it returns False.\n",
    "set={\"f\", \"e\", \"d\", \"c\", \"b\", \"a\"}\n",
    "set1={\"a\", \"b\", \"c\"}\n",
    "z=set.issuperset(set1)\n",
    "print(z)"
   ]
  },
  {
   "cell_type": "code",
   "execution_count": 112,
   "id": "4e9d0226",
   "metadata": {},
   "outputs": [
    {
     "name": "stdout",
     "output_type": "stream",
     "text": [
      "{2, 5, 7}\n"
     ]
    }
   ],
   "source": [
    "# pop()\tRemoves an element from the set\n",
    "# The pop() method removes a random item from the set.\n",
    "set={2,5,8,7}\n",
    "set.pop()\n",
    "print(set)"
   ]
  },
  {
   "cell_type": "code",
   "execution_count": 115,
   "id": "55e26c51",
   "metadata": {},
   "outputs": [
    {
     "name": "stdout",
     "output_type": "stream",
     "text": [
      "{4, 5, 7, 9}\n"
     ]
    }
   ],
   "source": [
    "# remove()\tRemoves the specified element\n",
    "set={5,4,7,8,9}\n",
    "set.remove(8)\n",
    "print(set)"
   ]
  },
  {
   "cell_type": "code",
   "execution_count": 116,
   "id": "c03de923",
   "metadata": {},
   "outputs": [
    {
     "name": "stdout",
     "output_type": "stream",
     "text": [
      "{'microsoft', 'banana', 'google', 'cherry'}\n"
     ]
    }
   ],
   "source": [
    "# symmetric_difference()\tReturns a set with the symmetric differences of two sets\n",
    "# The symmetric_difference() method returns a set that contains all items from both set, \n",
    "#but not the items that are present in both sets.\n",
    "x = {\"apple\", \"banana\", \"cherry\"}\n",
    "y = {\"google\", \"microsoft\", \"apple\"}\n",
    "z=x.symmetric_difference(y)\n",
    "print(z)"
   ]
  },
  {
   "cell_type": "code",
   "execution_count": 118,
   "id": "a661cbb5",
   "metadata": {},
   "outputs": [
    {
     "name": "stdout",
     "output_type": "stream",
     "text": [
      "{'microsoft', 'banana', 'google', 'cherry'}\n"
     ]
    }
   ],
   "source": [
    "# symmetric_difference_update()\tinserts the symmetric differences from this set and another\n",
    "# The symmetric_difference_update() method updates the original set by removing items that are present in both sets,\n",
    "#and inserting the other items.\n",
    "x = {\"apple\", \"banana\", \"cherry\"}\n",
    "y = {\"google\", \"microsoft\", \"apple\"}\n",
    "x.symmetric_difference_update(y)\n",
    "print(x)"
   ]
  },
  {
   "cell_type": "code",
   "execution_count": 119,
   "id": "cd0685bd",
   "metadata": {},
   "outputs": [
    {
     "name": "stdout",
     "output_type": "stream",
     "text": [
      "{1, 2, 3, 4, 5}\n"
     ]
    }
   ],
   "source": [
    "#union()\tReturn a set containing the union of sets\n",
    "set={1,2,3}\n",
    "set1={4,5,1}\n",
    "z=set.union(set1)\n",
    "print(z)"
   ]
  },
  {
   "cell_type": "code",
   "execution_count": 120,
   "id": "3068d08e",
   "metadata": {},
   "outputs": [
    {
     "name": "stdout",
     "output_type": "stream",
     "text": [
      "{1, 2, 3, 4, 5}\n"
     ]
    }
   ],
   "source": [
    "# update()\tUpdate the set with another set, or any other iterable\n",
    "# The update() method updates the current set, by adding items from another set (or any other iterable).\n",
    "set={1,2,3}\n",
    "set1={4,5,1}\n",
    "set.update(set1)\n",
    "print(set)"
   ]
  },
  {
   "cell_type": "markdown",
   "id": "0cbaf5e7",
   "metadata": {},
   "source": [
    "# #String built in method"
   ]
  },
  {
   "cell_type": "code",
   "execution_count": 122,
   "id": "e9c39b6b",
   "metadata": {},
   "outputs": [
    {
     "name": "stdout",
     "output_type": "stream",
     "text": [
      "Welcome to my world\n"
     ]
    }
   ],
   "source": [
    "# capitalize()\tConverts the first character to upper case\n",
    "s= \"welcome to my world\"\n",
    "z=s.capitalize()\n",
    "print(z)\n"
   ]
  },
  {
   "cell_type": "code",
   "execution_count": 128,
   "id": "3bbb9588",
   "metadata": {},
   "outputs": [
    {
     "name": "stdout",
     "output_type": "stream",
     "text": [
      "welcome to my world\n"
     ]
    }
   ],
   "source": [
    "# casefold()\tConverts string into lower case\n",
    "s= \"Welcome To my World\"\n",
    "z=s.casefold()\n",
    "print(z)"
   ]
  },
  {
   "cell_type": "code",
   "execution_count": 130,
   "id": "ded4fa0c",
   "metadata": {},
   "outputs": [
    {
     "name": "stdout",
     "output_type": "stream",
     "text": [
      "  apple   \n"
     ]
    }
   ],
   "source": [
    "# center()\tReturns a centered string\n",
    "# The center() method will center align the string, using a specified character (space is default) as the fill character.\n",
    "# syntax string.center(length, character) # character optional\n",
    "s=\"apple\"\n",
    "z=s.center(10)\n",
    "print(z)"
   ]
  },
  {
   "cell_type": "code",
   "execution_count": 131,
   "id": "8f59e785",
   "metadata": {},
   "outputs": [
    {
     "name": "stdout",
     "output_type": "stream",
     "text": [
      "2\n"
     ]
    }
   ],
   "source": [
    "# count()\tThe count() method returns the number of times a specified value appears in the string.\n",
    "txt= \"I love apples, apple are my favorite fruit\"\n",
    "x = txt.count(\"apple\")\n",
    "print(x)"
   ]
  },
  {
   "cell_type": "code",
   "execution_count": 132,
   "id": "26c2b9c7",
   "metadata": {},
   "outputs": [
    {
     "name": "stdout",
     "output_type": "stream",
     "text": [
      "True\n"
     ]
    }
   ],
   "source": [
    "# endswith() method returns True if the string ends with the specified value, otherwise False.\n",
    "txt = \"Hello, welcome to my world.\"\n",
    "x = txt.endswith(\".\")\n",
    "print(x)"
   ]
  },
  {
   "cell_type": "code",
   "execution_count": null,
   "id": "b4dd0e22",
   "metadata": {},
   "outputs": [],
   "source": [
    "# The expandtabs() method sets the tab size to the specified number of whitespaces.\n",
    "txt = \"H\\te\\tl\\tl\\to\"\n",
    "x =  txt.expandtabs(2)\n",
    "print(x)"
   ]
  },
  {
   "cell_type": "code",
   "execution_count": 133,
   "id": "5e7e2092",
   "metadata": {},
   "outputs": [
    {
     "name": "stdout",
     "output_type": "stream",
     "text": [
      "7\n"
     ]
    }
   ],
   "source": [
    "#  find() method finds the first occurrence of the specified value.\n",
    "#The find() method returns -1 if the value is not found.\n",
    "The find() method returns -1 if the value is not found.\n",
    "txt = \"Hello, welcome to my world.\"\n",
    "x = txt.find(\"welcome\")\n",
    "print(x)"
   ]
  },
  {
   "cell_type": "code",
   "execution_count": 134,
   "id": "6eef941a",
   "metadata": {},
   "outputs": [
    {
     "name": "stdout",
     "output_type": "stream",
     "text": [
      "7\n"
     ]
    }
   ],
   "source": [
    "# index()\tSearches the string for a specified value and returns the position of where it was found\n",
    "txt = \"Hello, welcome to my world.\"\n",
    "x = txt.index(\"welcome\")\n",
    "print(x)"
   ]
  },
  {
   "cell_type": "code",
   "execution_count": 136,
   "id": "a68e4d92",
   "metadata": {},
   "outputs": [
    {
     "name": "stdout",
     "output_type": "stream",
     "text": [
      "True\n"
     ]
    }
   ],
   "source": [
    "# isalnum()\tReturns True if all characters in the string are alphanumeric\n",
    "txt = \"hello12\"\n",
    "x = txt.isalnum()\n",
    "print(x)"
   ]
  },
  {
   "cell_type": "code",
   "execution_count": 137,
   "id": "62d16336",
   "metadata": {},
   "outputs": [
    {
     "name": "stdout",
     "output_type": "stream",
     "text": [
      "True\n"
     ]
    }
   ],
   "source": [
    "# isalpha()\tReturns True if all characters in the string are in the alphabet\n",
    "s=\"helloXYz\"\n",
    "b=s.isalpha()\n",
    "print(b)"
   ]
  },
  {
   "cell_type": "code",
   "execution_count": null,
   "id": "a627b1dc",
   "metadata": {},
   "outputs": [],
   "source": [
    "# isdecimal() method returns True if all the characters are decimals (0-9).\n",
    "txt = \"1234\"\n",
    "x = txt.isdecimal()\n",
    "print(x)"
   ]
  },
  {
   "cell_type": "code",
   "execution_count": 138,
   "id": "79d37553",
   "metadata": {},
   "outputs": [
    {
     "name": "stdout",
     "output_type": "stream",
     "text": [
      "True\n"
     ]
    }
   ],
   "source": [
    "#isdigit() method returns True if all the characters are digits, otherwise False.\n",
    "d=\"5025874\"\n",
    "x=d.isdigit()\n",
    "print(x)\n"
   ]
  },
  {
   "cell_type": "code",
   "execution_count": null,
   "id": "673cde29",
   "metadata": {},
   "outputs": [],
   "source": [
    "# istitle() method returns True if all words in a text start with a upper case letter\n",
    "#AND the rest of the word are lower case letters, otherwise False.\n",
    "txt = \"Hello, And Welcome To My World!\"\n",
    "x = txt.istitle()\n",
    "print(x)\n"
   ]
  },
  {
   "cell_type": "code",
   "execution_count": null,
   "id": "205edf10",
   "metadata": {},
   "outputs": [],
   "source": [
    "# Join all items in a tuple into a string, using a hash character as separator:\n",
    "myTuple = (\"John\", \"Peter\", \"Vicky\")\n",
    "x = \"#\".join(myTuple)\n",
    "print(x)"
   ]
  },
  {
   "cell_type": "code",
   "execution_count": null,
   "id": "53f9f508",
   "metadata": {},
   "outputs": [],
   "source": [
    "# Return a 20 characters long, left justified version of the word \"banana\":\n",
    "txt = \"banana\"\n",
    "x = txt.ljust(20)\n",
    "print(x, \"is my favorite fruit.\")"
   ]
  },
  {
   "cell_type": "code",
   "execution_count": null,
   "id": "f33487cd",
   "metadata": {},
   "outputs": [],
   "source": [
    "# lstrip() Remove spaces to the left of the string:\n",
    "txt = \"     banana     \"\n",
    "x = txt.lstrip()\n",
    "print(\"of all fruits\", x, \"is my favorite\")\n"
   ]
  },
  {
   "cell_type": "code",
   "execution_count": null,
   "id": "3a8bc161",
   "metadata": {},
   "outputs": [],
   "source": [
    "# partition()\tReturns a tuple where the string is parted into three parts\n",
    "txt = \"I could eat bananas all day\"\n",
    "x = txt.partition(\"bananas\")\n",
    "print(x)\n"
   ]
  },
  {
   "cell_type": "code",
   "execution_count": 139,
   "id": "00c66c22",
   "metadata": {},
   "outputs": [
    {
     "name": "stdout",
     "output_type": "stream",
     "text": [
      "I like mango\n"
     ]
    }
   ],
   "source": [
    "#replace() method replaces a specified phrase with another specified phrase.\n",
    "txt = \"I like bananas\"\n",
    "x = txt.replace(\"bananas\", \"mango\")\n",
    "print(x)\n"
   ]
  },
  {
   "cell_type": "code",
   "execution_count": 143,
   "id": "f49bcae4",
   "metadata": {},
   "outputs": [
    {
     "name": "stdout",
     "output_type": "stream",
     "text": [
      "14\n"
     ]
    }
   ],
   "source": [
    "# rfind() method finds the last occurrence of the specified value.\n",
    "txt = \"My world , hi hello.\"\n",
    "x = txt.rfind(\"hello\")\n",
    "print(x)\n"
   ]
  },
  {
   "cell_type": "code",
   "execution_count": 152,
   "id": "819c3a54",
   "metadata": {},
   "outputs": [
    {
     "name": "stdout",
     "output_type": "stream",
     "text": [
      "['welcome', 'to', 'the', 'jungle']\n"
     ]
    }
   ],
   "source": [
    "# The split() method splits a string into a list.\n",
    "#You can specify the separator, default separator is any whitespace.\n",
    "txt = \"welcome to the jungle\"\n",
    "x = txt.split()\n",
    "print(x)\n",
    "txt = \"     banana     \"\n",
    "\n",
    "x = txt.strip()\n",
    "\n",
    "print(\"of all fruits\", x, \"is my favorite\")"
   ]
  },
  {
   "cell_type": "code",
   "execution_count": 153,
   "id": "0e3312fe",
   "metadata": {},
   "outputs": [
    {
     "name": "stdout",
     "output_type": "stream",
     "text": [
      "Welcome To My World\n"
     ]
    }
   ],
   "source": [
    "# title()\tConverts the first character of each word to upper case\n",
    "txt = \"Welcome to my world\"\n",
    "x = txt.title()\n",
    "print(x)\n"
   ]
  },
  {
   "cell_type": "code",
   "execution_count": 154,
   "id": "7090f3f7",
   "metadata": {},
   "outputs": [
    {
     "name": "stdout",
     "output_type": "stream",
     "text": [
      "of all fruits banana is my favorite\n"
     ]
    }
   ],
   "source": [
    "# strip() Remove spaces at the beginning and at the end of the string:\n",
    "txt = \"     banana     \"\n",
    "x = txt.strip()\n",
    "print(\"of all fruits\", x, \"is my favorite\")"
   ]
  },
  {
   "cell_type": "code",
   "execution_count": 155,
   "id": "ff5caf4e",
   "metadata": {},
   "outputs": [
    {
     "name": "stdout",
     "output_type": "stream",
     "text": [
      "['Thank you for the music', 'Welcome to the jungle']\n"
     ]
    }
   ],
   "source": [
    "#splitlines() method splits a string into a list. The splitting is done at line breaks.\n",
    "txt = \"Thank you for the music\\nWelcome to the jungle\"\n",
    "x = txt.splitlines()\n",
    "print(x)"
   ]
  },
  {
   "cell_type": "code",
   "execution_count": null,
   "id": "3c252431",
   "metadata": {},
   "outputs": [],
   "source": [
    "# startswith() method returns True if the string starts with the specified value, otherwise False.\n",
    "txt = \"Hello, welcome to my world.\"\n",
    "x = txt.startswith(\"Hello\")\n",
    "print(x)"
   ]
  },
  {
   "cell_type": "code",
   "execution_count": 1,
   "id": "277efe66",
   "metadata": {},
   "outputs": [
    {
     "name": "stdout",
     "output_type": "stream",
     "text": [
      "hELLO mY nAME iS peter\n"
     ]
    }
   ],
   "source": [
    "# swapcase()\tSwaps cases, lower case becomes upper case and vice versa\n",
    "txt = \"Hello My Name Is PETER\"\n",
    "x = txt.swapcase()\n",
    "print(x)"
   ]
  },
  {
   "cell_type": "code",
   "execution_count": 156,
   "id": "131bb84a",
   "metadata": {},
   "outputs": [
    {
     "name": "stdout",
     "output_type": "stream",
     "text": [
      "0000000050\n"
     ]
    }
   ],
   "source": [
    "# zfill() method adds zeros (0) at the beginning of the string, until it reaches the specified length.\n",
    "txt = \"50\"\n",
    "x = txt.zfill(10)\n",
    "print(x)\n"
   ]
  },
  {
   "cell_type": "code",
   "execution_count": null,
   "id": "9b13fe4d",
   "metadata": {},
   "outputs": [],
   "source": []
  },
  {
   "cell_type": "code",
   "execution_count": null,
   "id": "6a6ab82d",
   "metadata": {},
   "outputs": [],
   "source": []
  },
  {
   "cell_type": "code",
   "execution_count": null,
   "id": "c03aa722",
   "metadata": {},
   "outputs": [],
   "source": []
  },
  {
   "cell_type": "code",
   "execution_count": null,
   "id": "eed667d2",
   "metadata": {},
   "outputs": [],
   "source": []
  }
 ],
 "metadata": {
  "kernelspec": {
   "display_name": "Python 3 (ipykernel)",
   "language": "python",
   "name": "python3"
  },
  "language_info": {
   "codemirror_mode": {
    "name": "ipython",
    "version": 3
   },
   "file_extension": ".py",
   "mimetype": "text/x-python",
   "name": "python",
   "nbconvert_exporter": "python",
   "pygments_lexer": "ipython3",
   "version": "3.11.5"
  }
 },
 "nbformat": 4,
 "nbformat_minor": 5
}
