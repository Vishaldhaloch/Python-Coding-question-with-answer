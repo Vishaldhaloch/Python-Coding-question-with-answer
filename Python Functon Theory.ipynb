{
 "cells": [
  {
   "cell_type": "markdown",
   "id": "cefc78b0",
   "metadata": {},
   "source": [
    "# Function"
   ]
  },
  {
   "cell_type": "code",
   "execution_count": 1,
   "id": "de345138",
   "metadata": {},
   "outputs": [
    {
     "name": "stdout",
     "output_type": "stream",
     "text": [
      "3\n"
     ]
    }
   ],
   "source": [
    "# function:Python Functions is a block of statements that return the specific task.\n",
    "# Parameters: A parameter is the variable defined within the parentheses during function definition.\n",
    "# Here a,b are the parameters \n",
    "def sum(a,b): \n",
    "    print(a+b) \n",
    "    \n",
    "sum(1,2)"
   ]
  },
  {
   "cell_type": "code",
   "execution_count": 2,
   "id": "ea0399a3",
   "metadata": {},
   "outputs": [
    {
     "name": "stdout",
     "output_type": "stream",
     "text": [
      "3\n"
     ]
    }
   ],
   "source": [
    "# Arguments: An argument is a value that is passed to a function when it is called.\n",
    "def sum(a,b): \n",
    "    print(a+b) \n",
    "# Here the values 1,2 are arguments \n",
    "sum(1,2) "
   ]
  },
  {
   "cell_type": "code",
   "execution_count": null,
   "id": "cf343db7",
   "metadata": {},
   "outputs": [],
   "source": [
    "# Python functions can contain two types of arguments:\n",
    "#Positional Arguments\n",
    "#Keyword Arguments"
   ]
  },
  {
   "cell_type": "code",
   "execution_count": null,
   "id": "f0eea744",
   "metadata": {},
   "outputs": [],
   "source": [
    "#Positional Arguments:\n",
    "#Positional Arguments are needed to be included in proper order \n",
    "#i.e the first argument is always listed first when the function is called, \n",
    "#second argument needs to be called second and so on.\n",
    "def person_name(first_name,second_name): \n",
    "    print(first_name+second_name) \n",
    "    \n",
    "# First name is Ram placed first \n",
    "# Second name is Babu place second \n",
    "person_name(\"Ram\",\"Babu\")"
   ]
  },
  {
   "cell_type": "code",
   "execution_count": null,
   "id": "f2f19f5a",
   "metadata": {},
   "outputs": [],
   "source": [
    "# Keyword Arguments:\n",
    "#Keyword Arguments is an argument passed to a function or method which is preceded by a keyword and an equal to sign. \n",
    "#The order of keyword argument with respect to another keyword argument does not matter\n",
    "def person_name(first_name,second_name): \n",
    "    print(first_name+second_name) \n",
    "  \n",
    "# Here we are explicitly assigning the values  \n",
    "person_name(second_name=\"Babu\",first_name=\"Ram\")"
   ]
  },
  {
   "cell_type": "code",
   "execution_count": null,
   "id": "42baca23",
   "metadata": {},
   "outputs": [],
   "source": [
    "# Arbitrary Arguments, *args\n",
    "#If you do not know how many arguments that will be passed into your function, add a * before the parameter \n",
    "#name in the function definition.The function will receive a tuple of arguments\n",
    "def my_function(*kids):\n",
    "      print(\"The youngest child is \" + kids[2])\n",
    "my_function(\"Emil\", \"Tobias\", \"Linus\")"
   ]
  },
  {
   "cell_type": "code",
   "execution_count": null,
   "id": "5a535aee",
   "metadata": {},
   "outputs": [],
   "source": [
    "# Arbitrary Keyword Arguments, **kwargs\n",
    "#If you do not know how many keyword arguments that will be passed into your function, \n",
    "#add two asterisk: ** before the parameter name in the function the function will receive a dictionary of arguments\n",
    "def my_function(**kid):\n",
    "      print(\"His last name is \" + kid[\"lname\"])\n",
    "\n",
    "my_function(fname = \"Tobias\", lname = \"Refsnes\")\n",
    "\n"
   ]
  },
  {
   "cell_type": "code",
   "execution_count": null,
   "id": "f3abe82c",
   "metadata": {},
   "outputs": [],
   "source": [
    "# Default Parameter Value\n",
    "#If we call the function without argument, it uses the default value\n",
    "def my_function(country = \"Norway\"):\n",
    "      print(\"I am from \" + country)\n",
    "my_function(\"Sweden\")\n",
    "my_function()"
   ]
  },
  {
   "cell_type": "code",
   "execution_count": null,
   "id": "abaf4cce",
   "metadata": {},
   "outputs": [],
   "source": [
    "# Passing a List as an Argument\n",
    "# use any data types of argument to a function (string, number, list, dictionary etc.)\n",
    "#if you send a List as an argument, it will still be a List when it reaches the function:\n",
    "def my_function(food):\n",
    "      for x in food:\n",
    "        print(x)\n",
    "\n",
    "fruits = [\"apple\", \"banana\", \"cherry\"]\n",
    "\n",
    "my_function(fruits)"
   ]
  },
  {
   "cell_type": "code",
   "execution_count": null,
   "id": "b76dcadf",
   "metadata": {},
   "outputs": [],
   "source": [
    "# Positional-Only Arguments\n",
    "# function can have ONLY positional arguments, or ONLY keyword arguments.\n",
    "#To specify that a function can have only positional arguments, add , / after the arguments:\n",
    "def my_function(x, /):\n",
    "      print(x)\n",
    "\n",
    "my_function(3)"
   ]
  },
  {
   "cell_type": "code",
   "execution_count": null,
   "id": "52bc8cca",
   "metadata": {},
   "outputs": [],
   "source": [
    "# Without the , / you are actually allowed to use keyword arguments even if the function expects positional arguments\n",
    "def my_function(x):\n",
    "      print(x)\n",
    "\n",
    "my_function(x = 3)"
   ]
  },
  {
   "cell_type": "code",
   "execution_count": null,
   "id": "776a296d",
   "metadata": {},
   "outputs": [],
   "source": [
    "# Keyword-Only Arguments\n",
    "#To specify that a function can have only keyword arguments, add *, before the arguments:\n",
    "def my_function(*, x):\n",
    "      print(x)\n",
    "\n",
    "my_function(x = 3)"
   ]
  },
  {
   "cell_type": "code",
   "execution_count": null,
   "id": "6b900af2",
   "metadata": {},
   "outputs": [],
   "source": [
    "# Without the *, you are allowed to use positionale arguments even if the function expects keyword arguments\n",
    "def my_function(x):\n",
    "      print(x)\n",
    "\n",
    "my_function(3)"
   ]
  },
  {
   "cell_type": "code",
   "execution_count": null,
   "id": "3be274ab",
   "metadata": {},
   "outputs": [],
   "source": [
    "# Combine Positional-Only and Keyword-Only\n",
    "#You can combine the two argument types in the same function.\n",
    "#Any argument before the / , are positional-only, and any argument after the *, are keyword-only.\n",
    "def my_function(a, b, /, *, c, d):\n",
    "      print(a + b + c + d)\n",
    "\n",
    "my_function(5, 6, c = 7, d = 8)"
   ]
  },
  {
   "cell_type": "markdown",
   "id": "3d08e398",
   "metadata": {},
   "source": [
    "# Recursion: Python also accepts function recursion, which means a defined function can call itself.\n",
    "def tri_recursion(k):\n",
    "    if(k > 0):\n",
    "        result = k + tri_recursion(k - 1)\n",
    "        print(result)\n",
    "    else:\n",
    "        result = 0\n",
    "    return result\n",
    "\n",
    "print(\"\\n\\nRecursion Example Results\")\n",
    "tri_recursion(6)"
   ]
  },
  {
   "cell_type": "markdown",
   "id": "f3fe4e09",
   "metadata": {},
   "source": [
    "# Lambda Function"
   ]
  },
  {
   "cell_type": "code",
   "execution_count": null,
   "id": "7c5cd84b",
   "metadata": {},
   "outputs": [],
   "source": [
    "# A lambda function is a small anonymous function.\n",
    "# A lambda function can take any number of arguments, but can only have one expression.\n",
    "# Syntax lambda arguments : expression"
   ]
  },
  {
   "cell_type": "code",
   "execution_count": 4,
   "id": "a0f15693",
   "metadata": {},
   "outputs": [
    {
     "name": "stdout",
     "output_type": "stream",
     "text": [
      "15\n"
     ]
    }
   ],
   "source": [
    "x = lambda a : a + 10\n",
    "print(x(5))"
   ]
  },
  {
   "cell_type": "code",
   "execution_count": 5,
   "id": "aa035751",
   "metadata": {},
   "outputs": [
    {
     "name": "stdout",
     "output_type": "stream",
     "text": [
      "30\n"
     ]
    }
   ],
   "source": [
    "# Multiply argument a with argument b and return the result:\n",
    "x = lambda a, b : a * b\n",
    "print(x(5, 6))"
   ]
  },
  {
   "cell_type": "code",
   "execution_count": 6,
   "id": "5ee63f38",
   "metadata": {},
   "outputs": [
    {
     "name": "stdout",
     "output_type": "stream",
     "text": [
      "13\n"
     ]
    }
   ],
   "source": [
    "# Summarize argument a, b, and c and return the result:\n",
    "\n",
    "x = lambda a, b, c : a + b + c\n",
    "print(x(5, 6, 2))"
   ]
  },
  {
   "cell_type": "code",
   "execution_count": 18,
   "id": "4808b6c2",
   "metadata": {},
   "outputs": [
    {
     "name": "stdout",
     "output_type": "stream",
     "text": [
      "22\n"
     ]
    }
   ],
   "source": [
    "# Lambda functionn Use with function\n",
    "def myfunc(n):\n",
    "    return lambda a : a * n\n",
    "\n",
    "mydoubler = myfunc(2)\n",
    "print(mydoubler(11))    "
   ]
  },
  {
   "cell_type": "code",
   "execution_count": null,
   "id": "0391b32e",
   "metadata": {},
   "outputs": [],
   "source": [
    "# Filter() in python:The filter() method filters the given sequence with the help of a function that tests, \n",
    "#each element in the sequence to be true or not. \n",
    "# Syntax: filter(function, sequence) , parameter:\n",
    "# function: function that tests if each element of a sequence is true or not.\n",
    "s#equence: sequence which needs to be filtered, it can be sets, lists, tuples, or containers of any iterators."
   ]
  },
  {
   "cell_type": "code",
   "execution_count": null,
   "id": "69809b4d",
   "metadata": {},
   "outputs": [],
   "source": [
    "# function that filters vowels with acustom function\n",
    "def fun(variable):\n",
    "    letters = ['a', 'e', 'i', 'o', 'u']\n",
    "    if (variable in letters):\n",
    "        return True\n",
    "    else:\n",
    "        return False\n",
    " \n",
    " \n",
    "# sequence\n",
    "sequence = ['g', 'e', 'e', 'j', 'k', 's', 'p', 'r']\n",
    " \n",
    "# using filter function\n",
    "filtered = filter(fun, sequence)\n",
    " \n",
    "print('The filtered letters are:')\n",
    "for s in filtered:\n",
    "    print(s)"
   ]
  },
  {
   "cell_type": "code",
   "execution_count": 19,
   "id": "8e5829bf",
   "metadata": {},
   "outputs": [
    {
     "name": "stdout",
     "output_type": "stream",
     "text": [
      "[1, 3, 5, 13]\n",
      "[0, 2, 8]\n"
     ]
    }
   ],
   "source": [
    "# Filter function in python with lambdA\n",
    "# a list contains both even and odd numbers. \n",
    "seq = [0, 1, 2, 3, 5, 8, 13]\n",
    " \n",
    "# result contains odd numbers of the list\n",
    "result = filter(lambda x: x % 2 != 0, seq)\n",
    "print(list(result))\n",
    " \n",
    "# result contains even numbers of the list\n",
    "result = filter(lambda x: x % 2 == 0, seq)\n",
    "print(list(result))"
   ]
  },
  {
   "cell_type": "code",
   "execution_count": null,
   "id": "c5e1385a",
   "metadata": {},
   "outputs": [],
   "source": [
    "# Filter Function in Python with Lambda and Custom Function"
   ]
  },
  {
   "cell_type": "code",
   "execution_count": 20,
   "id": "fa2603cd",
   "metadata": {},
   "outputs": [
    {
     "name": "stdout",
     "output_type": "stream",
     "text": [
      "[3, 6, 9]\n"
     ]
    }
   ],
   "source": [
    "\n",
    "# Define a function to check \n",
    "# if a number is a multiple of 3\n",
    "def is_multiple_of_3(num):\n",
    "    return num % 3 == 0\n",
    " \n",
    " #Create a list of numbers to filter\n",
    "numbers = [1, 2, 3, 4, 5, 6, 7, 8, 9, 10]\n",
    " \n",
    "# Use filter and a lambda function to\n",
    "# filter the list of numbers and only\n",
    "# keep the ones that are multiples of 3\n",
    "result = list(filter(lambda x: is_multiple_of_3(x), numbers))\n",
    " \n",
    "# Print the result\n",
    "print(result)"
   ]
  },
  {
   "cell_type": "markdown",
   "id": "9e9fd039",
   "metadata": {},
   "source": [
    "# Python map() function"
   ]
  },
  {
   "cell_type": "code",
   "execution_count": null,
   "id": "351ea3c3",
   "metadata": {},
   "outputs": [],
   "source": [
    "# map() function returns a map object(which is an iterator) of the results \n",
    "#after applying the given function to each item of a given iterable (list, tuple etc.)\n",
    "# Syntax: map(fun, iter)\n",
    "#Parameters:fun: It is a function to which map passes each element of given iterable.\n",
    "#iter: It is iterable which is to be mapped."
   ]
  },
  {
   "cell_type": "code",
   "execution_count": null,
   "id": "1a6c3ad2",
   "metadata": {},
   "outputs": [],
   "source": [
    "def addition(n):\n",
    "    return n + n\n",
    " \n",
    "# We double all numbers using map()\n",
    "numbers = (1, 2, 3, 4)\n",
    "result = map(addition, numbers)\n",
    "print(list(result))"
   ]
  },
  {
   "cell_type": "code",
   "execution_count": null,
   "id": "029a7394",
   "metadata": {},
   "outputs": [],
   "source": [
    "# map() with Lambda Expressions"
   ]
  },
  {
   "cell_type": "code",
   "execution_count": null,
   "id": "4075fbbe",
   "metadata": {},
   "outputs": [],
   "source": [
    "numbers = (1, 2, 3, 4)\n",
    "result = map(lambda x: x + x, numbers)\n",
    "print(list(result))"
   ]
  },
  {
   "cell_type": "code",
   "execution_count": null,
   "id": "dd251a03",
   "metadata": {},
   "outputs": [],
   "source": [
    "# Add Two Lists Using map and lambda"
   ]
  },
  {
   "cell_type": "code",
   "execution_count": 21,
   "id": "282523bc",
   "metadata": {},
   "outputs": [
    {
     "name": "stdout",
     "output_type": "stream",
     "text": [
      "[5, 7, 9]\n"
     ]
    }
   ],
   "source": [
    "# Add two lists using map and lambda\n",
    "numbers1 = [1, 2, 3]\n",
    "numbers2 = [4, 5, 6]\n",
    "result = map(lambda x, y: x + y, numbers1, numbers2)\n",
    "print(list(result))"
   ]
  },
  {
   "cell_type": "code",
   "execution_count": null,
   "id": "e90b1b5c",
   "metadata": {},
   "outputs": [],
   "source": []
  },
  {
   "cell_type": "code",
   "execution_count": null,
   "id": "e68756e0",
   "metadata": {},
   "outputs": [],
   "source": []
  },
  {
   "cell_type": "code",
   "execution_count": null,
   "id": "ed83c018",
   "metadata": {},
   "outputs": [],
   "source": []
  }
 ],
 "metadata": {
  "kernelspec": {
   "display_name": "Python 3 (ipykernel)",
   "language": "python",
   "name": "python3"
  },
  "language_info": {
   "codemirror_mode": {
    "name": "ipython",
    "version": 3
   },
   "file_extension": ".py",
   "mimetype": "text/x-python",
   "name": "python",
   "nbconvert_exporter": "python",
   "pygments_lexer": "ipython3",
   "version": "3.11.5"
  }
 },
 "nbformat": 4,
 "nbformat_minor": 5
}
