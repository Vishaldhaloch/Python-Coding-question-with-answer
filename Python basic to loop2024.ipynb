{
 "cells": [
  {
   "cell_type": "code",
   "execution_count": 1,
   "id": "46e96bb9",
   "metadata": {},
   "outputs": [
    {
     "name": "stdout",
     "output_type": "stream",
     "text": [
      "Enter the number:10\n",
      "1\n",
      "2\n",
      "3\n",
      "4\n",
      "5\n",
      "6\n",
      "7\n",
      "8\n",
      "9\n",
      "10\n",
      "The sum of first 10 natural number: 55\n",
      "The average of first 10 natural number: 5\n"
     ]
    }
   ],
   "source": [
    "# Wap to sum and average of first 10 natural number\n",
    "n=int(input(\"Enter the number:\"))\n",
    "sum=0\n",
    "for i in range(1,n+1):\n",
    "    print(i)\n",
    "    sum+=i\n",
    "print(f\"The sum of first {n} natural number:\",sum)\n",
    "\n",
    "avg=sum//n\n",
    "print(f\"The average of first {n} natural number:\",avg)\n",
    "    "
   ]
  },
  {
   "cell_type": "code",
   "execution_count": 2,
   "id": "27c7b343",
   "metadata": {},
   "outputs": [
    {
     "name": "stdout",
     "output_type": "stream",
     "text": [
      "Enter the number:10\n",
      "2\n",
      "4\n",
      "6\n",
      "8\n",
      "10\n",
      "The sum of first 10 even number: 30\n",
      "The average of first 10 even number: 3\n"
     ]
    }
   ],
   "source": [
    "# Wap to sum and average of first 10 even number\n",
    "n=int(input(\"Enter the number:\"))\n",
    "even_sum=0\n",
    "for i in range(2,n+1,2):\n",
    "    print(i)\n",
    "    even_sum+=i\n",
    "print(f\"The sum of first {n} even number:\",even_sum) \n",
    "avg=even_sum//n\n",
    "print(f\"The average of first {n} even number:\",avg)"
   ]
  },
  {
   "cell_type": "code",
   "execution_count": 2,
   "id": "9ac6deca",
   "metadata": {},
   "outputs": [
    {
     "name": "stdout",
     "output_type": "stream",
     "text": [
      "Enter the number:10\n",
      "1\n",
      "3\n",
      "5\n",
      "7\n",
      "9\n",
      "The sum of first 10 odd number: 25\n",
      "The average of first 10 odd number: 2\n"
     ]
    }
   ],
   "source": [
    "# WAp to print sum and average of first 10 odd number\n",
    "n=int(input(\"Enter the number:\"))\n",
    "odd_sum=0\n",
    "for i in range(1,n+1,2):\n",
    "    print(i)\n",
    "    odd_sum+=i\n",
    "print(f\"The sum of first {n} odd number:\",odd_sum) \n",
    "avg=odd_sum//n\n",
    "print(f\"The average of first {n} odd number:\",avg)"
   ]
  },
  {
   "cell_type": "code",
   "execution_count": 4,
   "id": "3efa3d59",
   "metadata": {},
   "outputs": [
    {
     "name": "stdout",
     "output_type": "stream",
     "text": [
      "Enter the number:5\n",
      "2\n",
      "4\n",
      "6\n",
      "8\n",
      "10\n",
      "The sum of even number upto 5: 30\n",
      "The sum of avg of even number upto 5: 6\n"
     ]
    }
   ],
   "source": [
    "# Wap to sum and average of even number upto n\n",
    "n=int(input(\"Enter the number:\"))\n",
    "even_sum=0\n",
    "for i in range(2,2*n+1,2):\n",
    "        print(i)\n",
    "        even_sum=even_sum+i   \n",
    "print(f\"The sum of even number upto {n}:\",even_sum) \n",
    "avg=even_sum//n\n",
    "print(f\"The sum of avg of even number upto {n}:\",avg)"
   ]
  },
  {
   "cell_type": "code",
   "execution_count": 3,
   "id": "8d33caa9",
   "metadata": {},
   "outputs": [
    {
     "name": "stdout",
     "output_type": "stream",
     "text": [
      "Enter the number:5\n",
      "1\n",
      "3\n",
      "5\n",
      "7\n",
      "9\n",
      "25\n",
      "5\n"
     ]
    }
   ],
   "source": [
    "#Wap to sum and average of odd number upto n\n",
    "n=int(input(\"Enter the number:\"))\n",
    "sum=0\n",
    "for i in range(1,2*n+1,2):\n",
    "        print(i)\n",
    "        sum=sum+i   \n",
    "print(sum) \n",
    "avg=sum//n\n",
    "print(avg)"
   ]
  },
  {
   "cell_type": "code",
   "execution_count": 15,
   "id": "e90750d9",
   "metadata": {},
   "outputs": [
    {
     "name": "stdout",
     "output_type": "stream",
     "text": [
      "Enter the number:147\n",
      "one four seven\n"
     ]
    }
   ],
   "source": [
    "#Wap to convert number into digit\n",
    "n=int(input(\"Enter the number:\"))\n",
    "match n:\n",
    "    case 147:\n",
    "        print(\"one four seven\")\n",
    "    case 1:\n",
    "        print(\"No match found\")"
   ]
  },
  {
   "cell_type": "code",
   "execution_count": 30,
   "id": "738efb1d",
   "metadata": {},
   "outputs": [
    {
     "name": "stdout",
     "output_type": "stream",
     "text": [
      "Enter the number:10\n",
      "0 1 1 2 3 5 8 13 21 34 "
     ]
    }
   ],
   "source": [
    "# Wap to print fibonacci series \n",
    "n=int(input(\"Enter the number:\"))\n",
    "a,b=0,1\n",
    "for i in range(1,n+1):\n",
    "    print(a,end=\" \")\n",
    "    a,b=b,a+b"
   ]
  },
  {
   "cell_type": "code",
   "execution_count": 23,
   "id": "bcffd165",
   "metadata": {},
   "outputs": [
    {
     "name": "stdout",
     "output_type": "stream",
     "text": [
      "Enter the number:4\n",
      "   0 \n",
      "  1 1 \n",
      " 2 3 5 \n",
      "8 13 21 34 \n"
     ]
    }
   ],
   "source": [
    "# Wap to print pyramid of fibonacci series\n",
    "n=int(input(\"Enter the number:\"))\n",
    "a,b=0,1\n",
    "for i in range(1,n+1):\n",
    "    for j in range(1,(n-i)+1):\n",
    "        print(\"\",end=\" \")\n",
    "    for j in range(1,i+1):\n",
    "        print(a,end=\" \")\n",
    "        a,b=b,a+b\n",
    "    print()    "
   ]
  },
  {
   "cell_type": "code",
   "execution_count": 3,
   "id": "90b2f7d0",
   "metadata": {},
   "outputs": [
    {
     "name": "stdout",
     "output_type": "stream",
     "text": [
      "Enter the number:20\n",
      "2\n",
      "3\n",
      "5\n",
      "7\n",
      "11\n",
      "13\n",
      "17\n",
      "19\n"
     ]
    }
   ],
   "source": [
    "# Wap to print prime number upto n\n",
    "n=int(input(\"Enter the number:\"))\n",
    "for i in range(2,n+1):\n",
    "    flag=False\n",
    "    for j in range(2,i//2+1):\n",
    "        if i%j==0:\n",
    "            flag=True\n",
    "            break\n",
    "    if flag==False:            \n",
    "        print(i)"
   ]
  },
  {
   "cell_type": "code",
   "execution_count": 3,
   "id": "e7d6f2fc",
   "metadata": {},
   "outputs": [
    {
     "name": "stdout",
     "output_type": "stream",
     "text": [
      "Enter the number:5\n",
      "2\n",
      "3\n",
      "5\n",
      "7\n",
      "11\n"
     ]
    }
   ],
   "source": [
    "# Wap to print first N prime number\n",
    "n=int(input(\"Enter the number:\"))\n",
    "num=2\n",
    "k=0\n",
    "while k<n:\n",
    "    for i in range(2,num//2+1):\n",
    "        if num%i==0:\n",
    "            break\n",
    "    else:\n",
    "        print(num)\n",
    "        k=k+1\n",
    "    num=num+1    "
   ]
  },
  {
   "cell_type": "code",
   "execution_count": null,
   "id": "0c421cb5",
   "metadata": {},
   "outputs": [],
   "source": [
    "#  Wap to print Nth prime number\n",
    "n=int(input(\"Enter the number:\"))\n",
    "num=2\n",
    "k=0\n",
    "while k<n:\n",
    "    for i in range(2,num//2+1):\n",
    "        if num%i==0:\n",
    "            break\n",
    "    else:\n",
    "        if k==n-1:\n",
    "            print(num)\n",
    "        k=k+1\n",
    "        \n",
    "    num=num+2\n",
    "\n",
    "\n",
    "    "
   ]
  },
  {
   "cell_type": "code",
   "execution_count": 1,
   "id": "99f122dd",
   "metadata": {},
   "outputs": [
    {
     "name": "stdout",
     "output_type": "stream",
     "text": [
      "Enter the number:10\n",
      "20\n"
     ]
    }
   ],
   "source": [
    "# Wap to print nth even number\n",
    "n=int(input(\"Enter the number:\"))\n",
    "num=2\n",
    "k=0\n",
    "while k<n:\n",
    "    for i in range(2,num//2+1,2):\n",
    "        if i%2!=0:\n",
    "            print(i)\n",
    "    else:\n",
    "        if k==n-1:\n",
    "            print(num)\n",
    "        k=k+1\n",
    "    num=num+2  "
   ]
  },
  {
   "cell_type": "code",
   "execution_count": 2,
   "id": "f49cc667",
   "metadata": {},
   "outputs": [
    {
     "name": "stdout",
     "output_type": "stream",
     "text": [
      "Enter= 10\n",
      "20\n"
     ]
    }
   ],
   "source": [
    "#Wap to print nth even number\n",
    "n = int(input(\"Enter= \"))\n",
    "for i in range(1,n+1):\n",
    "    i = i*2\n",
    "print(i)\n",
    "    "
   ]
  },
  {
   "cell_type": "code",
   "execution_count": 3,
   "id": "e9b102de",
   "metadata": {},
   "outputs": [
    {
     "name": "stdout",
     "output_type": "stream",
     "text": [
      "Enter=10\n",
      "1\n",
      "3\n",
      "5\n",
      "7\n",
      "9\n",
      "9\n"
     ]
    }
   ],
   "source": [
    "# wap to print nth odd number\n",
    "n=int(input(\"Enter=\"))\n",
    "for i in range(1,n+1,2):\n",
    "    i=i*1\n",
    "    print(i)\n",
    "print(i)  "
   ]
  },
  {
   "cell_type": "code",
   "execution_count": null,
   "id": "94bacddf",
   "metadata": {},
   "outputs": [],
   "source": [
    "#Wap to check armstrong number using while loop\n",
    "n=int(input(\"enter the number:\"))\n",
    "sum=0\n",
    "temp=n\n",
    "order=len(str(n))\n",
    "while n!=0:\n",
    "    r=n%10\n",
    "    sum=sum+r**order\n",
    "    n=n//10\n",
    "if temp==sum:\n",
    "    print(\"armstrong number\")\n",
    "else:\n",
    "    print(\"not armstrong number\")"
   ]
  },
  {
   "cell_type": "code",
   "execution_count": null,
   "id": "36f0bd11",
   "metadata": {},
   "outputs": [],
   "source": [
    "# wap to reverse a number using for loop\n",
    "n=input(\"Enter the number:\")\n",
    "reverse=\"\"\n",
    "for i in n:\n",
    "    reverse=i+reverse\n",
    "print(reverse)"
   ]
  },
  {
   "cell_type": "code",
   "execution_count": null,
   "id": "94808cc7",
   "metadata": {},
   "outputs": [],
   "source": [
    "#Wap to reverse a number using while loop\n",
    "n=153\n",
    "while n!=0:\n",
    "    r=n%10\n",
    "    print(r,end=\"\")\n",
    "    n=n//10"
   ]
  },
  {
   "cell_type": "code",
   "execution_count": null,
   "id": "b2528705",
   "metadata": {},
   "outputs": [],
   "source": [
    "# wap to count the digit\n",
    "n=143\n",
    "count=0\n",
    "while n!=0:\n",
    "    r=n%10\n",
    "    n=n//10\n",
    "    count=count+1\n",
    "print(count)    \n",
    "    "
   ]
  },
  {
   "cell_type": "code",
   "execution_count": null,
   "id": "d9221599",
   "metadata": {},
   "outputs": [],
   "source": [
    "# wap to sum of digit\n",
    "n=143\n",
    "sum=0\n",
    "while n!=0:\n",
    "    r=n%10\n",
    "    n=n//10\n",
    "    sum=sum+r\n",
    "print(sum)    "
   ]
  },
  {
   "cell_type": "code",
   "execution_count": null,
   "id": "b8371e02",
   "metadata": {},
   "outputs": [],
   "source": [
    "# Wap to print count of digit using for loop\n",
    "n=134\n",
    "count=0\n",
    "for i in str(n):\n",
    "    count=count+1\n",
    "print(count)    "
   ]
  },
  {
   "cell_type": "code",
   "execution_count": null,
   "id": "2b244e69",
   "metadata": {},
   "outputs": [],
   "source": [
    "# Wap to print greatest among 2 number\n",
    "n1=int(input(\"Enter the 1st number:\"))\n",
    "n2=int(input(\"Enter the 2nd number:\"))\n",
    "if n1>n2:\n",
    "    print(f\"{n1} is greater than {n2}\")\n",
    "else:\n",
    "    print(f\"{n2} is greater than {n1}\")"
   ]
  },
  {
   "cell_type": "code",
   "execution_count": null,
   "id": "6bd6c474",
   "metadata": {},
   "outputs": [],
   "source": [
    "#Wap to print greatest among 3 number\n",
    "n1=int(input(\"Enter the 1st number:\"))\n",
    "n2=int(input(\"Enter the 2nd number:\"))\n",
    "n3=int(input(\"Enter the 3rd number:\"))\n",
    "if n1>n2 and n2>n3:\n",
    "    print(f\"number1:   {n1} is greater than number2:   {n2} and number3:   {n3}\")\n",
    "elif n2>n3 and n2>n1:\n",
    "    print(f\"{n2} is greater than {n1} and {n3}\")\n",
    "else:\n",
    "    print(f\"{n3} is greater than {n1} and {n2}\")"
   ]
  },
  {
   "cell_type": "code",
   "execution_count": null,
   "id": "9ebc8563",
   "metadata": {},
   "outputs": [],
   "source": [
    "#Wap to find the factorial number\n",
    "n=int(input(\"Enter the number:\"))\n",
    "fact=1\n",
    "if n==1:\n",
    "    print(\"factorial is 1\")\n",
    "else:\n",
    "    for i in range(1,n+1):\n",
    "#         print(\"fact1 before=\",fact)\n",
    "        fact=fact*i\n",
    "#         print(\"fact2 UPDATION=\",fact) \n",
    "    print(fact)"
   ]
  },
  {
   "cell_type": "code",
   "execution_count": null,
   "id": "f6e33940",
   "metadata": {},
   "outputs": [],
   "source": [
    "# Pattern programs left angled triangle\n",
    "n=int(input(\"Enter the number:\"))\n",
    "for i in range(1,n+1):\n",
    "    for j in range(1,i+1):\n",
    "        print(\"*\",end=\"\")\n",
    "    print()    "
   ]
  },
  {
   "cell_type": "code",
   "execution_count": null,
   "id": "b855d22a",
   "metadata": {},
   "outputs": [],
   "source": [
    "# Pattern reverse left angled triangle\n",
    "n=int(input(\"Enter the number:\"))\n",
    "for i in range(n,0,-1):\n",
    "    for j in range(1,i+1):\n",
    "        print(\"*\",end=\"\")\n",
    "    print()    "
   ]
  },
  {
   "cell_type": "code",
   "execution_count": null,
   "id": "6ffff9ab",
   "metadata": {},
   "outputs": [],
   "source": [
    "# Pattern  program to print right angled triangle\n",
    "n=int(input(\"Enter the number:\"))\n",
    "for i in range(1,n+1):\n",
    "    for space in range(1,(n-i)+1):\n",
    "        print(\" \",end=\"\")\n",
    "    for j in range(1,i+1):\n",
    "        print(\"*\",end=\"\")\n",
    "    print()       "
   ]
  },
  {
   "cell_type": "code",
   "execution_count": null,
   "id": "dfc0e0d6",
   "metadata": {},
   "outputs": [],
   "source": [
    "#wap to print inverse right angled triangle\n",
    "n=int(input(\"Enter the number:\"))\n",
    "for i in range(n,0,-1):\n",
    "    for space in range(1,(n-i)+1):\n",
    "        print(\" \",end=\"\")\n",
    "    for j in range(1,i+1):\n",
    "        print(\"*\",end=\"\")\n",
    "    print()    "
   ]
  },
  {
   "cell_type": "code",
   "execution_count": null,
   "id": "010ec016",
   "metadata": {},
   "outputs": [],
   "source": [
    "#Wap to print pyramid of triangle\n",
    "n=int(input(\"Enter the number:\"))\n",
    "for i in range(1,n+1):\n",
    "    for space in range(1,(n-i)+1):\n",
    "        print(\" \",end=\"\")\n",
    "    for j in range(1,i+1):\n",
    "        print(\"*\",end=\" \")\n",
    "    print()        "
   ]
  },
  {
   "cell_type": "code",
   "execution_count": null,
   "id": "f6b7b4c4",
   "metadata": {},
   "outputs": [],
   "source": [
    "#Wap to print inverse the pyramid of triangle\n",
    "n=int(input(\"Enter the number:\"))\n",
    "for i in range(n,0,-1):\n",
    "    for space in range(1,(n-i)+1):\n",
    "        print(\" \",end=\"\")\n",
    "    for j in range(1,i+1):\n",
    "        print(\"*\",end=\" \")\n",
    "    print()   "
   ]
  },
  {
   "cell_type": "code",
   "execution_count": null,
   "id": "fa5392f4",
   "metadata": {},
   "outputs": [],
   "source": [
    "#Wap to print pyramid of natural number\n",
    "num=int(input(\"Enter the number:\"))\n",
    "n=1\n",
    "for i in range(1,num+1):\n",
    "    for space in range(1,(num-i)+1):\n",
    "        print(\"\",end=\" \")\n",
    "    for j in range(1,i+1):\n",
    "        print(n,end=\" \")\n",
    "        n=n+1\n",
    "    print()"
   ]
  },
  {
   "cell_type": "code",
   "execution_count": null,
   "id": "ea114671",
   "metadata": {},
   "outputs": [],
   "source": [
    "# Wap to print pyramid of even number\n",
    "num=int(input(\"Enter the number:\"))\n",
    "n=2\n",
    "for i in range(1,num+1):\n",
    "    for space in range(1,(num-i)+1):\n",
    "        print(\"\",end=\" \")\n",
    "    for j in range(1,i+1):\n",
    "        print(n,end=\" \")\n",
    "        n=n+2\n",
    "    print()    "
   ]
  },
  {
   "cell_type": "code",
   "execution_count": null,
   "id": "aa30cfce",
   "metadata": {},
   "outputs": [],
   "source": [
    "# Wap to print pyramid of odd number\n",
    "num=int(input(\"Enter the number:\"))\n",
    "n=1\n",
    "for i in range(1,num+1):\n",
    "    for space in range(1,(num-i)+1):\n",
    "        print(\"\",end=\" \")\n",
    "    for j in range(1,i+1):\n",
    "        print(n,end=\" \")\n",
    "        n=n+2\n",
    "    print()   "
   ]
  },
  {
   "cell_type": "code",
   "execution_count": null,
   "id": "1cef1986",
   "metadata": {},
   "outputs": [],
   "source": [
    "# Wap to print first N armstrong number\n",
    "n=int(input(\"Enter the number:\"))\n",
    "num=1\n",
    "k=0\n",
    "while k<n:\n",
    "    sum=0\n",
    "    temp=num\n",
    "    order=len(str(num))\n",
    "    while temp!=0:\n",
    "        r=temp%10\n",
    "        sum=sum+r**order\n",
    "        temp=temp//10\n",
    "    if num==sum:\n",
    "        print(num)    \n",
    "        k=k+1\n",
    "    num=num+1    "
   ]
  },
  {
   "cell_type": "code",
   "execution_count": null,
   "id": "4b175e40",
   "metadata": {},
   "outputs": [],
   "source": [
    "# Wap to print armstrong nmber upto N\n",
    "n=int(input(\"Enter the number:\"))\n",
    "for i in range(1,n+1):\n",
    "    order=len(str(i))\n",
    "    sum=0\n",
    "    temp=i\n",
    "    \n",
    "    while temp!=0:\n",
    "        r=temp%10\n",
    "        sum=sum+r**order\n",
    "        temp=temp//10\n",
    "    if i==sum:\n",
    "        print(i)  "
   ]
  },
  {
   "cell_type": "code",
   "execution_count": null,
   "id": "3c94b6fe",
   "metadata": {},
   "outputs": [],
   "source": [
    "# Wap to nth armstrong number \n",
    "n=int(input(\"Enter the number:\"))\n",
    "num=1\n",
    "k=0\n",
    "while k<n:\n",
    "    sum=0\n",
    "    temp=num\n",
    "    order=len(str(num))\n",
    "    while temp!=0:\n",
    "        r=temp%10\n",
    "        sum=sum+r**order\n",
    "        temp=temp//10\n",
    "    if num==sum:\n",
    "#         print(num)\n",
    "        k=k+1\n",
    "    num=num+1 \n",
    "print(num-1)   "
   ]
  },
  {
   "cell_type": "code",
   "execution_count": null,
   "id": "0bd773c6",
   "metadata": {},
   "outputs": [],
   "source": [
    "# Wap to  print pyramid of armstrong number\n",
    "n=int(input(\"Enter the number:\"))\n",
    "num=1\n",
    "for i in range(1,n+1):\n",
    "    for j in range(1,(n-i)-1):\n",
    "        print(\" \",end=\"\")\n",
    "    for j in range(1,i+1):\n",
    "        sum=0\n",
    "        order=len(str(num))\n",
    "        temp=num \n",
    "        while temp!=0:\n",
    "            r=temp%10\n",
    "            sum=sum+r**order\n",
    "            temp=temp//10\n",
    "        if num==sum:\n",
    "            print(num,end=\" \")        \n",
    "        num=num+1\n",
    "    print()   "
   ]
  },
  {
   "cell_type": "code",
   "execution_count": null,
   "id": "1d9d6089",
   "metadata": {},
   "outputs": [],
   "source": [
    "# wap to print horizontal histogram\n",
    "n=(input(\"Enter the number:\"))\n",
    "for i in n:\n",
    "    print(\"*\"*(int(i)))"
   ]
  },
  {
   "cell_type": "code",
   "execution_count": null,
   "id": "a27c519b",
   "metadata": {},
   "outputs": [],
   "source": [
    "# wap to print vertically histogram\n",
    "list=[2,5,7]\n",
    "b=max(list)\n",
    "# print(b)\n",
    "for i in range(b,0,-1):\n",
    "    s=\" \"\n",
    "    for j in list:\n",
    "        if j>=i:\n",
    "            print(\" * \",end=\"\")\n",
    "#             s=s+\" * \"\n",
    "        else:\n",
    "            print(\"  \",end=\" \")\n",
    "    print()\n",
    "#             s=s+\"   \"       \n",
    "#     print(s)"
   ]
  },
  {
   "cell_type": "code",
   "execution_count": null,
   "id": "d2ae5752",
   "metadata": {},
   "outputs": [],
   "source": [
    "# pyramid of armstrong no.\n",
    "def check_arm(n):\n",
    "    sum=0\n",
    "    temp=n\n",
    "    order=len(str(n))\n",
    "    while n!=0:\n",
    "        r=n%10\n",
    "        sum=sum+r**order\n",
    "        n=n//10\n",
    "    return temp==sum\n",
    "\n",
    "    \n",
    "def pyramid(n):\n",
    "#     c=check_arm(n)\n",
    "    num=1\n",
    "    for i in range(1,n+1):\n",
    "        for j in range(1,(n-i)+1):\n",
    "            print(\"\",end=\" \")\n",
    "        for j in range(1,i+1):\n",
    "            while not check_arm(num):\n",
    "                num=num+1\n",
    "#                 print(\"num1\",num)\n",
    "            print(num,end=\" \")\n",
    "            num=num+1\n",
    "#             print(\"num2\",num)\n",
    "        print()\n",
    "        \n",
    "# check_arm(9)   \n",
    "pyramid(4)"
   ]
  },
  {
   "cell_type": "code",
   "execution_count": null,
   "id": "08de06c5",
   "metadata": {},
   "outputs": [],
   "source": []
  },
  {
   "cell_type": "code",
   "execution_count": null,
   "id": "b0a1ba56",
   "metadata": {},
   "outputs": [],
   "source": []
  },
  {
   "cell_type": "code",
   "execution_count": null,
   "id": "96176092",
   "metadata": {},
   "outputs": [],
   "source": []
  }
 ],
 "metadata": {
  "kernelspec": {
   "display_name": "Python 3 (ipykernel)",
   "language": "python",
   "name": "python3"
  },
  "language_info": {
   "codemirror_mode": {
    "name": "ipython",
    "version": 3
   },
   "file_extension": ".py",
   "mimetype": "text/x-python",
   "name": "python",
   "nbconvert_exporter": "python",
   "pygments_lexer": "ipython3",
   "version": "3.11.5"
  }
 },
 "nbformat": 4,
 "nbformat_minor": 5
}
