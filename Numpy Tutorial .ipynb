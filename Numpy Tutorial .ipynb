{
 "cells": [
  {
   "cell_type": "markdown",
   "id": "11cc51cb",
   "metadata": {},
   "source": [
    "# NUMPY"
   ]
  },
  {
   "cell_type": "code",
   "execution_count": 1,
   "id": "f8246027",
   "metadata": {},
   "outputs": [
    {
     "name": "stdout",
     "output_type": "stream",
     "text": [
      "[10 20 30]\n",
      "<class 'numpy.ndarray'>\n"
     ]
    }
   ],
   "source": [
    "import numpy as np\n",
    "a=np.array([10,20,30])    #create array element seprated with space\n",
    "print(a)                  # create 1d array\n",
    "print(type(a))"
   ]
  },
  {
   "cell_type": "code",
   "execution_count": 2,
   "id": "baf16de8",
   "metadata": {},
   "outputs": [
    {
     "name": "stdout",
     "output_type": "stream",
     "text": [
      "[10, 20, 30]\n"
     ]
    }
   ],
   "source": [
    "x=[10,20,30]       # create list seprated with comma\n",
    "print(x)"
   ]
  },
  {
   "cell_type": "code",
   "execution_count": 3,
   "id": "68d0d2f3",
   "metadata": {},
   "outputs": [
    {
     "name": "stdout",
     "output_type": "stream",
     "text": [
      "[10.  20.  30.   4.5]\n"
     ]
    }
   ],
   "source": [
    "a=np.array([10,20,30,4.5])\n",
    "print(a)"
   ]
  },
  {
   "cell_type": "code",
   "execution_count": 4,
   "id": "51b58376",
   "metadata": {},
   "outputs": [
    {
     "name": "stdout",
     "output_type": "stream",
     "text": [
      "['10' '20' '30' '4.5' 'hi']\n"
     ]
    }
   ],
   "source": [
    "a=np.array([10,20,30,4.5,\"hi\"])\n",
    "print(a)"
   ]
  },
  {
   "cell_type": "code",
   "execution_count": 5,
   "id": "a57c344f",
   "metadata": {},
   "outputs": [
    {
     "name": "stdout",
     "output_type": "stream",
     "text": [
      "[10 20 30  4]\n"
     ]
    }
   ],
   "source": [
    "a=np.array([10,20,30,4.5],dtype=np.int16)\n",
    "print(a)"
   ]
  },
  {
   "cell_type": "code",
   "execution_count": 6,
   "id": "c97f8630",
   "metadata": {},
   "outputs": [
    {
     "ename": "ValueError",
     "evalue": "could not convert string to float: 'hi'",
     "output_type": "error",
     "traceback": [
      "\u001b[1;31m---------------------------------------------------------------------------\u001b[0m",
      "\u001b[1;31mValueError\u001b[0m                                Traceback (most recent call last)",
      "Cell \u001b[1;32mIn[6], line 1\u001b[0m\n\u001b[1;32m----> 1\u001b[0m a\u001b[38;5;241m=\u001b[39mnp\u001b[38;5;241m.\u001b[39marray([\u001b[38;5;241m10\u001b[39m,\u001b[38;5;241m20\u001b[39m,\u001b[38;5;241m30\u001b[39m,\u001b[38;5;241m4.5\u001b[39m,\u001b[38;5;124m'\u001b[39m\u001b[38;5;124mhi\u001b[39m\u001b[38;5;124m'\u001b[39m],dtype\u001b[38;5;241m=\u001b[39mnp\u001b[38;5;241m.\u001b[39mfloat16)    \u001b[38;5;66;03m#string not convert to float\u001b[39;00m\n\u001b[0;32m      2\u001b[0m \u001b[38;5;28mprint\u001b[39m(a)\n",
      "\u001b[1;31mValueError\u001b[0m: could not convert string to float: 'hi'"
     ]
    }
   ],
   "source": [
    "a=np.array([10,20,30,4.5,'hi'],dtype=np.float16)    #string not convert to float\n",
    "print(a)"
   ]
  },
  {
   "cell_type": "code",
   "execution_count": 106,
   "id": "00c6f4e9",
   "metadata": {},
   "outputs": [
    {
     "name": "stdout",
     "output_type": "stream",
     "text": [
      "[ 10  20  30 246]\n"
     ]
    },
    {
     "name": "stderr",
     "output_type": "stream",
     "text": [
      "C:\\Users\\user\\AppData\\Local\\Temp\\ipykernel_8496\\1601642664.py:1: DeprecationWarning: NumPy will stop allowing conversion of out-of-bound Python integers to integer arrays.  The conversion of -10 to uint8 will fail in the future.\n",
      "For the old behavior, usually:\n",
      "    np.array(value).astype(dtype)`\n",
      "will give the desired result (the cast overflows).\n",
      "  a=np.array([10,20,30,-10],dtype=np.uint8)\n"
     ]
    }
   ],
   "source": [
    "a=np.array([10,20,30,-10],dtype=np.uint8)\n",
    "print(a)"
   ]
  },
  {
   "cell_type": "code",
   "execution_count": 107,
   "id": "9d23612c",
   "metadata": {},
   "outputs": [
    {
     "name": "stdout",
     "output_type": "stream",
     "text": [
      "[1 3 5 7 9]\n"
     ]
    }
   ],
   "source": [
    "a=np.arange(1,10,2) # arange use to create array we can create array with array func and arange func\n",
    "print(a)"
   ]
  },
  {
   "cell_type": "code",
   "execution_count": 108,
   "id": "ddd9f3db",
   "metadata": {},
   "outputs": [
    {
     "name": "stdout",
     "output_type": "stream",
     "text": [
      "[0 1 2 3 4 5 6 7 8 9]\n"
     ]
    }
   ],
   "source": [
    "a=np.arange(10)\n",
    "print(a)"
   ]
  },
  {
   "cell_type": "code",
   "execution_count": 109,
   "id": "35dcbe41",
   "metadata": {},
   "outputs": [
    {
     "name": "stdout",
     "output_type": "stream",
     "text": [
      "[5 6 7 8 9]\n"
     ]
    }
   ],
   "source": [
    "a=np.arange(5,10)\n",
    "print(a)"
   ]
  },
  {
   "cell_type": "code",
   "execution_count": 110,
   "id": "43a17884",
   "metadata": {},
   "outputs": [
    {
     "name": "stdout",
     "output_type": "stream",
     "text": [
      "[1.1 1.2 1.3 1.4 1.5 1.6 1.7 1.8 1.9 2.  2.1 2.2 2.3 2.4]\n"
     ]
    }
   ],
   "source": [
    "a=np.arange(1.1,2.5,.1)   # arange can take int/float as a args and return nd array\n",
    "print(a)"
   ]
  },
  {
   "cell_type": "code",
   "execution_count": 7,
   "id": "c985063d",
   "metadata": {},
   "outputs": [
    {
     "name": "stdout",
     "output_type": "stream",
     "text": [
      "[10 20 30  0]\n"
     ]
    },
    {
     "name": "stderr",
     "output_type": "stream",
     "text": [
      "C:\\Users\\user\\AppData\\Local\\Temp\\ipykernel_8496\\2317908011.py:1: DeprecationWarning: NumPy will stop allowing conversion of out-of-bound Python integers to integer arrays.  The conversion of 256 to uint8 will fail in the future.\n",
      "For the old behavior, usually:\n",
      "    np.array(value).astype(dtype)`\n",
      "will give the desired result (the cast overflows).\n",
      "  a=np.array([10,20,30,256],dtype=np.uint8)   # uint range only 255 we can give 256 it can be 0 outside of range\n"
     ]
    }
   ],
   "source": [
    "a=np.array([10,20,30,256],dtype=np.uint8)   # uint range only 255 we can give 256 it can be 0 outside of range\n",
    "print(a) "
   ]
  },
  {
   "cell_type": "code",
   "execution_count": 1,
   "id": "9eaa472f",
   "metadata": {},
   "outputs": [
    {
     "ename": "NameError",
     "evalue": "name 'np' is not defined",
     "output_type": "error",
     "traceback": [
      "\u001b[1;31m---------------------------------------------------------------------------\u001b[0m",
      "\u001b[1;31mNameError\u001b[0m                                 Traceback (most recent call last)",
      "Cell \u001b[1;32mIn[1], line 1\u001b[0m\n\u001b[1;32m----> 1\u001b[0m a\u001b[38;5;241m=\u001b[39mnp\u001b[38;5;241m.\u001b[39mzeros(\u001b[38;5;241m10\u001b[39m)       \u001b[38;5;66;03m# 5 is size\u001b[39;00m\n\u001b[0;32m      2\u001b[0m \u001b[38;5;28mprint\u001b[39m(a)\n\u001b[0;32m      3\u001b[0m a[\u001b[38;5;241m-\u001b[39m\u001b[38;5;241m1\u001b[39m]\u001b[38;5;241m=\u001b[39m\u001b[38;5;241m50\u001b[39m   \u001b[38;5;66;03m# 50 tells us index position of -1\u001b[39;00m\n",
      "\u001b[1;31mNameError\u001b[0m: name 'np' is not defined"
     ]
    }
   ],
   "source": [
    "a=np.zeros(10)       # 5 is size\n",
    "print(a)\n",
    "a[-1]=50   # 50 tells us index position of -1\n",
    "print(a)"
   ]
  },
  {
   "cell_type": "code",
   "execution_count": 9,
   "id": "5e4c1ab9",
   "metadata": {},
   "outputs": [
    {
     "name": "stdout",
     "output_type": "stream",
     "text": [
      "[1. 1. 1. 1. 1.]\n"
     ]
    }
   ],
   "source": [
    "a=np.ones(5)       # 5 is size by default it gives float\n",
    "print(a)"
   ]
  },
  {
   "cell_type": "code",
   "execution_count": 10,
   "id": "145ace97",
   "metadata": {},
   "outputs": [
    {
     "name": "stdout",
     "output_type": "stream",
     "text": [
      "[10 10 10 10 10]\n"
     ]
    }
   ],
   "source": [
    "a=np.full(5,10) # it takes size and initial value\n",
    "print(a)"
   ]
  },
  {
   "cell_type": "code",
   "execution_count": 11,
   "id": "a429d7eb",
   "metadata": {},
   "outputs": [
    {
     "name": "stdout",
     "output_type": "stream",
     "text": [
      "[ 5. 10. 15. 20. 25. 30. 35. 40. 45. 50.]\n"
     ]
    }
   ],
   "source": [
    "a=np.linspace(5,50,10)     # 5 and 50 both are inclusive  and  10 is size # not give a size it can take default size 50\n",
    "print(a)"
   ]
  },
  {
   "cell_type": "code",
   "execution_count": 12,
   "id": "5307f82a",
   "metadata": {},
   "outputs": [
    {
     "name": "stdout",
     "output_type": "stream",
     "text": [
      "[74 46  5 41 52 38  1 73  2 81]\n"
     ]
    }
   ],
   "source": [
    "a=np.random.randint(1,100,10) # low, high ,size it generate 10 value from 1 to 100 randomly and 100 in exclusive and repeat no.\n",
    "print(a)"
   ]
  },
  {
   "cell_type": "code",
   "execution_count": 13,
   "id": "da682503",
   "metadata": {},
   "outputs": [
    {
     "name": "stdout",
     "output_type": "stream",
     "text": [
      "[88.54302898 65.25121983 49.72667974 86.00798904 68.26561351 86.2548584\n",
      " 92.50606322 51.79786772 63.88847797 14.90209115]\n"
     ]
    }
   ],
   "source": [
    "a=np.random.uniform(1,100,10)  # it gives float no. low ,high ,size\n",
    "print(a)"
   ]
  },
  {
   "cell_type": "code",
   "execution_count": 14,
   "id": "935754c7",
   "metadata": {},
   "outputs": [
    {
     "name": "stdout",
     "output_type": "stream",
     "text": [
      "[0, 1, 2, 3, 4, 5, 6, 7, 8, 9, 10, 11, 12, 13, 14, 15, 16, 17, 18, 19]\n",
      "[ 0  1  2  3  4  5  6  7  8  9 10 11 12 13 14 15 16 17 18 19]\n",
      "216\n",
      "192\n"
     ]
    }
   ],
   "source": [
    "x=list(range(20)) #list consume more memory\n",
    "a=np.arange(20)  #array consume less memory fast compare to list\n",
    "print(x)\n",
    "print(a)\n",
    "import sys    #it help to get memory sixe\n",
    "print(sys.getsizeof(x))\n",
    "print(sys.getsizeof(a))"
   ]
  },
  {
   "cell_type": "code",
   "execution_count": 15,
   "id": "1fcd6393",
   "metadata": {},
   "outputs": [],
   "source": [
    "# Diff. list and ndarray(numpy array)\n",
    "# array support  boolean slicing \n",
    "# support broadcasting\n",
    "#similiar type of element\n",
    "#memory optimization\n",
    "#support statical operation\n",
    "\n",
    "#list any type of element\n",
    "#not support boolean slicing \n",
    "#not support broadcasting\n",
    "#poor support statical operation"
   ]
  },
  {
   "cell_type": "code",
   "execution_count": 16,
   "id": "b7f33897",
   "metadata": {},
   "outputs": [
    {
     "name": "stdout",
     "output_type": "stream",
     "text": [
      "[[1 2]\n",
      " [3 4]\n",
      " [5 6]]\n"
     ]
    }
   ],
   "source": [
    "a=np.array([[1,2],[3,4],[5,6]])  # create 2d array it is called matrix\n",
    "print(a)"
   ]
  },
  {
   "cell_type": "code",
   "execution_count": 17,
   "id": "057c9460",
   "metadata": {},
   "outputs": [],
   "source": [
    "#all 2D array is not matrix ,matrix is 2D array , 2D array is jagged array means diff size # matrix same size\n",
    "#numpy has no jagged array"
   ]
  },
  {
   "cell_type": "code",
   "execution_count": 18,
   "id": "02b7e547",
   "metadata": {},
   "outputs": [
    {
     "ename": "ValueError",
     "evalue": "setting an array element with a sequence. The requested array has an inhomogeneous shape after 1 dimensions. The detected shape was (3,) + inhomogeneous part.",
     "output_type": "error",
     "traceback": [
      "\u001b[1;31m---------------------------------------------------------------------------\u001b[0m",
      "\u001b[1;31mValueError\u001b[0m                                Traceback (most recent call last)",
      "Cell \u001b[1;32mIn[18], line 1\u001b[0m\n\u001b[1;32m----> 1\u001b[0m a\u001b[38;5;241m=\u001b[39mnp\u001b[38;5;241m.\u001b[39marray([[\u001b[38;5;241m1\u001b[39m,\u001b[38;5;241m2\u001b[39m],[\u001b[38;5;241m3\u001b[39m,\u001b[38;5;241m4\u001b[39m],[\u001b[38;5;241m5\u001b[39m]])  \u001b[38;5;66;03m#1D array numpy no jagged aray\u001b[39;00m\n\u001b[0;32m      2\u001b[0m \u001b[38;5;28mprint\u001b[39m(a)\n",
      "\u001b[1;31mValueError\u001b[0m: setting an array element with a sequence. The requested array has an inhomogeneous shape after 1 dimensions. The detected shape was (3,) + inhomogeneous part."
     ]
    }
   ],
   "source": [
    "a=np.array([[1,2],[3,4],[5]])  #1D array numpy no jagged aray\n",
    "print(a)"
   ]
  },
  {
   "cell_type": "code",
   "execution_count": 19,
   "id": "b30104d4",
   "metadata": {},
   "outputs": [
    {
     "name": "stdout",
     "output_type": "stream",
     "text": [
      "[[0. 0. 0. 0.]\n",
      " [0. 0. 0. 0.]\n",
      " [0. 0. 0. 0.]]\n",
      "[[0. 0. 0. 0.]\n",
      " [0. 0. 0. 0.]\n",
      " [0. 0. 0. 0.]]\n"
     ]
    }
   ],
   "source": [
    "a=np.zeros((3,4)) # row, colomn\n",
    "print(a)\n",
    "print(a)"
   ]
  },
  {
   "cell_type": "code",
   "execution_count": 20,
   "id": "1eece3de",
   "metadata": {},
   "outputs": [
    {
     "name": "stdout",
     "output_type": "stream",
     "text": [
      "[[1. 1. 1. 1.]\n",
      " [1. 1. 1. 1.]\n",
      " [1. 1. 1. 1.]]\n"
     ]
    }
   ],
   "source": [
    "a=np.ones((3,4))   # row colomn\n",
    "print(a)"
   ]
  },
  {
   "cell_type": "code",
   "execution_count": 21,
   "id": "cbb3b371",
   "metadata": {},
   "outputs": [
    {
     "name": "stdout",
     "output_type": "stream",
     "text": [
      "[[20 20 20 20]\n",
      " [20 20 20 20]\n",
      " [20 20 20 20]]\n"
     ]
    }
   ],
   "source": [
    "a=np.full((3,4),20)   # (r,c),initial value\n",
    "print(a)"
   ]
  },
  {
   "cell_type": "code",
   "execution_count": 22,
   "id": "c6344a94",
   "metadata": {},
   "outputs": [
    {
     "name": "stdout",
     "output_type": "stream",
     "text": [
      "[[50 12 45]\n",
      " [90 34 93]\n",
      " [65 10 32]]\n"
     ]
    }
   ],
   "source": [
    "a=np.random.randint(1,100,(3,3)) # low, high ,(r,c)\n",
    "print(a)"
   ]
  },
  {
   "cell_type": "code",
   "execution_count": 23,
   "id": "1f302cb0",
   "metadata": {},
   "outputs": [
    {
     "name": "stdout",
     "output_type": "stream",
     "text": [
      "[[15.63058193 12.11505987 20.51140315]\n",
      " [44.16991974  8.19006559 55.37723241]\n",
      " [32.60266336 93.48300538 94.39522664]]\n"
     ]
    }
   ],
   "source": [
    "a=np.random.uniform(1,100,(3,3))\n",
    "print(a)"
   ]
  },
  {
   "cell_type": "code",
   "execution_count": 24,
   "id": "20356a90",
   "metadata": {},
   "outputs": [
    {
     "name": "stdout",
     "output_type": "stream",
     "text": [
      "[[1. 0. 0.]\n",
      " [0. 1. 0.]\n",
      " [0. 0. 1.]]\n"
     ]
    }
   ],
   "source": [
    "a=np.eye(3,3)  # r,c eye means idendity matrix main diagonal is 1 and all is 0\n",
    "print(a)"
   ]
  },
  {
   "cell_type": "code",
   "execution_count": 25,
   "id": "0adbebce",
   "metadata": {},
   "outputs": [
    {
     "name": "stdout",
     "output_type": "stream",
     "text": [
      "[[7 1 4 4]\n",
      " [4 5 9 5]\n",
      " [9 7 9 6]]\n"
     ]
    }
   ],
   "source": [
    "a=np.random.randint(1,10,(3,4))   #numpy 2d array\n",
    "print(a)  "
   ]
  },
  {
   "cell_type": "code",
   "execution_count": 26,
   "id": "6dd6825d",
   "metadata": {},
   "outputs": [],
   "source": [
    "b=a.reshape(4,3,order='c')#c lang.(row major order reshape) i.e, read and write row wise #store in variable to use in program "
   ]
  },
  {
   "cell_type": "code",
   "execution_count": 27,
   "id": "8982a102",
   "metadata": {},
   "outputs": [],
   "source": [
    "c=a.reshape(4,3,order='f') #fortran lang.(colomn major order reshape) i.e, read and write colomn wise"
   ]
  },
  {
   "cell_type": "code",
   "execution_count": 28,
   "id": "22834488",
   "metadata": {},
   "outputs": [
    {
     "name": "stdout",
     "output_type": "stream",
     "text": [
      "[[7 1 4]\n",
      " [4 4 5]\n",
      " [9 5 9]\n",
      " [7 9 6]]\n"
     ]
    }
   ],
   "source": [
    "print(b)"
   ]
  },
  {
   "cell_type": "code",
   "execution_count": 29,
   "id": "400513c1",
   "metadata": {},
   "outputs": [
    {
     "name": "stdout",
     "output_type": "stream",
     "text": [
      "[[7 5 9]\n",
      " [4 7 4]\n",
      " [9 4 5]\n",
      " [1 9 6]]\n"
     ]
    }
   ],
   "source": [
    "print(c)"
   ]
  },
  {
   "cell_type": "code",
   "execution_count": 30,
   "id": "6f7ae103",
   "metadata": {},
   "outputs": [
    {
     "name": "stdout",
     "output_type": "stream",
     "text": [
      "[[7 1 4 4]\n",
      " [4 5 9 5]\n",
      " [9 7 9 6]]\n"
     ]
    }
   ],
   "source": [
    "print(a)"
   ]
  },
  {
   "cell_type": "code",
   "execution_count": 31,
   "id": "da1f08cc",
   "metadata": {},
   "outputs": [
    {
     "data": {
      "text/plain": [
       "array([[7, 1, 4],\n",
       "       [4, 4, 5],\n",
       "       [9, 5, 9],\n",
       "       [7, 9, 6]])"
      ]
     },
     "execution_count": 31,
     "metadata": {},
     "output_type": "execute_result"
    }
   ],
   "source": [
    "a.reshape(4,3) # not defined order so default order c "
   ]
  },
  {
   "cell_type": "code",
   "execution_count": 32,
   "id": "c621409c",
   "metadata": {},
   "outputs": [
    {
     "data": {
      "text/plain": [
       "array([[7, 1, 4, 4, 4, 5],\n",
       "       [9, 5, 9, 7, 9, 6]])"
      ]
     },
     "execution_count": 32,
     "metadata": {},
     "output_type": "execute_result"
    }
   ],
   "source": [
    "a.reshape(2,6)"
   ]
  },
  {
   "cell_type": "code",
   "execution_count": 33,
   "id": "194815af",
   "metadata": {},
   "outputs": [
    {
     "data": {
      "text/plain": [
       "array([[7, 1, 4, 4, 4, 5, 9, 5, 9, 7, 9, 6]])"
      ]
     },
     "execution_count": 33,
     "metadata": {},
     "output_type": "execute_result"
    }
   ],
   "source": [
    "a.reshape(1,12)"
   ]
  },
  {
   "cell_type": "code",
   "execution_count": 34,
   "id": "e4dd9d10",
   "metadata": {},
   "outputs": [
    {
     "data": {
      "text/plain": [
       "array([[7],\n",
       "       [1],\n",
       "       [4],\n",
       "       [4],\n",
       "       [4],\n",
       "       [5],\n",
       "       [9],\n",
       "       [5],\n",
       "       [9],\n",
       "       [7],\n",
       "       [9],\n",
       "       [6]])"
      ]
     },
     "execution_count": 34,
     "metadata": {},
     "output_type": "execute_result"
    }
   ],
   "source": [
    "a.reshape(12,1)"
   ]
  },
  {
   "cell_type": "code",
   "execution_count": 35,
   "id": "e0cda84d",
   "metadata": {},
   "outputs": [
    {
     "data": {
      "text/plain": [
       "array([[7, 1, 4],\n",
       "       [4, 4, 5],\n",
       "       [9, 5, 9],\n",
       "       [7, 9, 6]])"
      ]
     },
     "execution_count": 35,
     "metadata": {},
     "output_type": "execute_result"
    }
   ],
   "source": [
    "a.reshape(4,-1)"
   ]
  },
  {
   "cell_type": "code",
   "execution_count": 36,
   "id": "4f4523a1",
   "metadata": {},
   "outputs": [
    {
     "data": {
      "text/plain": [
       "array([[7, 1, 4],\n",
       "       [4, 4, 5],\n",
       "       [9, 5, 9],\n",
       "       [7, 9, 6]])"
      ]
     },
     "execution_count": 36,
     "metadata": {},
     "output_type": "execute_result"
    }
   ],
   "source": [
    "a.reshape(-1,3)  #auto compute through -1 meams knoe only one dimension"
   ]
  },
  {
   "cell_type": "code",
   "execution_count": 37,
   "id": "723b2a60",
   "metadata": {},
   "outputs": [
    {
     "ename": "ValueError",
     "evalue": "can only specify one unknown dimension",
     "output_type": "error",
     "traceback": [
      "\u001b[1;31m---------------------------------------------------------------------------\u001b[0m",
      "\u001b[1;31mValueError\u001b[0m                                Traceback (most recent call last)",
      "Cell \u001b[1;32mIn[37], line 1\u001b[0m\n\u001b[1;32m----> 1\u001b[0m a\u001b[38;5;241m.\u001b[39mreshape(\u001b[38;5;241m-\u001b[39m\u001b[38;5;241m1\u001b[39m,\u001b[38;5;241m-\u001b[39m\u001b[38;5;241m1\u001b[39m)\n",
      "\u001b[1;31mValueError\u001b[0m: can only specify one unknown dimension"
     ]
    }
   ],
   "source": [
    "a.reshape(-1,-1)"
   ]
  },
  {
   "cell_type": "code",
   "execution_count": 38,
   "id": "ff078a0c",
   "metadata": {},
   "outputs": [
    {
     "data": {
      "text/plain": [
       "array([[7, 1, 4, 4],\n",
       "       [4, 5, 9, 5],\n",
       "       [9, 7, 9, 6]])"
      ]
     },
     "execution_count": 38,
     "metadata": {},
     "output_type": "execute_result"
    }
   ],
   "source": [
    "a"
   ]
  },
  {
   "cell_type": "code",
   "execution_count": 39,
   "id": "a228e174",
   "metadata": {},
   "outputs": [],
   "source": [
    "a.resize(3,6,refcheck=False)#reshape use same size and change dimension value and resize means change size and dimension value"
   ]
  },
  {
   "cell_type": "code",
   "execution_count": 40,
   "id": "428b6379",
   "metadata": {},
   "outputs": [
    {
     "data": {
      "text/plain": [
       "array([[7, 1, 4, 4, 4, 5],\n",
       "       [9, 5, 9, 7, 9, 6],\n",
       "       [0, 0, 0, 0, 0, 0]])"
      ]
     },
     "execution_count": 40,
     "metadata": {},
     "output_type": "execute_result"
    }
   ],
   "source": [
    "a"
   ]
  },
  {
   "cell_type": "code",
   "execution_count": 41,
   "id": "002de4e2",
   "metadata": {},
   "outputs": [],
   "source": [
    "a.resize(6,3)"
   ]
  },
  {
   "cell_type": "code",
   "execution_count": 42,
   "id": "9bed5876",
   "metadata": {},
   "outputs": [
    {
     "data": {
      "text/plain": [
       "array([[7, 1, 4],\n",
       "       [4, 4, 5],\n",
       "       [9, 5, 9],\n",
       "       [7, 9, 6],\n",
       "       [0, 0, 0],\n",
       "       [0, 0, 0]])"
      ]
     },
     "execution_count": 42,
     "metadata": {},
     "output_type": "execute_result"
    }
   ],
   "source": [
    "a"
   ]
  },
  {
   "cell_type": "code",
   "execution_count": 43,
   "id": "6db46eb2",
   "metadata": {},
   "outputs": [],
   "source": [
    "a.resize(3,3,refcheck=False) #to give new size use reference"
   ]
  },
  {
   "cell_type": "code",
   "execution_count": 44,
   "id": "289b806c",
   "metadata": {},
   "outputs": [
    {
     "data": {
      "text/plain": [
       "array([[7, 1, 4],\n",
       "       [4, 4, 5],\n",
       "       [9, 5, 9]])"
      ]
     },
     "execution_count": 44,
     "metadata": {},
     "output_type": "execute_result"
    }
   ],
   "source": [
    "a"
   ]
  },
  {
   "cell_type": "code",
   "execution_count": 45,
   "id": "72cbdb93",
   "metadata": {},
   "outputs": [
    {
     "data": {
      "text/plain": [
       "array([[7, 1, 4, 4],\n",
       "       [4, 5, 9, 5],\n",
       "       [9, 7, 1, 4],\n",
       "       [4, 4, 5, 9],\n",
       "       [5, 9, 7, 1],\n",
       "       [4, 4, 4, 5]])"
      ]
     },
     "execution_count": 45,
     "metadata": {},
     "output_type": "execute_result"
    }
   ],
   "source": [
    "b=np.resize(a,(6,4))  \n",
    "b"
   ]
  },
  {
   "cell_type": "code",
   "execution_count": 46,
   "id": "25b9b925",
   "metadata": {},
   "outputs": [],
   "source": [
    "#diff, a,resizr and np.resiz\n",
    "#a.size()\n",
    "#method of array \n",
    "#modify existing array\n",
    "#fill zero if size is changed\n",
    "#refcheck=false,if we change size\n",
    "\n",
    "# np.resize()\n",
    "#function of numpy\n",
    "#return a copy\n",
    "#repeat element if size is changed\n",
    "#not applicable"
   ]
  },
  {
   "cell_type": "code",
   "execution_count": 47,
   "id": "c31186f5",
   "metadata": {},
   "outputs": [],
   "source": [
    "#diff reshaepe and resize\n",
    "#reshape\n",
    "#new size is not possible we can only change dimension\n",
    "#one -ve dims allow\n",
    "\n",
    "#resize\n",
    "#new size is possible along with dims\n",
    "# not allow\n"
   ]
  },
  {
   "cell_type": "code",
   "execution_count": 48,
   "id": "7e3877d4",
   "metadata": {},
   "outputs": [
    {
     "data": {
      "text/plain": [
       "array([[[7, 1, 4, 4],\n",
       "        [4, 5, 9, 5]],\n",
       "\n",
       "       [[9, 7, 1, 4],\n",
       "        [4, 4, 5, 9]],\n",
       "\n",
       "       [[5, 9, 7, 1],\n",
       "        [4, 4, 4, 5]]])"
      ]
     },
     "execution_count": 48,
     "metadata": {},
     "output_type": "execute_result"
    }
   ],
   "source": [
    "b.reshape(3,2,4)  #  create 3d array using reshape ,2 is row and 4 is colomn (3 is size of 3d array)\n"
   ]
  },
  {
   "cell_type": "code",
   "execution_count": 49,
   "id": "b4d99866",
   "metadata": {},
   "outputs": [
    {
     "data": {
      "text/plain": [
       "array([[[7, 1, 4],\n",
       "        [4, 4, 5]],\n",
       "\n",
       "       [[9, 5, 9],\n",
       "        [7, 1, 4]],\n",
       "\n",
       "       [[4, 4, 5],\n",
       "        [9, 5, 9]],\n",
       "\n",
       "       [[7, 1, 4],\n",
       "        [4, 4, 5]]])"
      ]
     },
     "execution_count": 49,
     "metadata": {},
     "output_type": "execute_result"
    }
   ],
   "source": [
    "b.reshape(4,2,3)  # 3d array means array of 2d"
   ]
  },
  {
   "cell_type": "code",
   "execution_count": 50,
   "id": "5464061e",
   "metadata": {},
   "outputs": [
    {
     "data": {
      "text/plain": [
       "array([[[[7, 1],\n",
       "         [4, 4],\n",
       "         [4, 5]],\n",
       "\n",
       "        [[9, 5],\n",
       "         [9, 7],\n",
       "         [1, 4]]],\n",
       "\n",
       "\n",
       "       [[[4, 4],\n",
       "         [5, 9],\n",
       "         [5, 9]],\n",
       "\n",
       "        [[7, 1],\n",
       "         [4, 4],\n",
       "         [4, 5]]]])"
      ]
     },
     "execution_count": 50,
     "metadata": {},
     "output_type": "execute_result"
    }
   ],
   "source": [
    "b.reshape(2,2,3,2) # create 4d array means array of 3d 2 is size of 4d array .2 is size of 3d array"
   ]
  },
  {
   "cell_type": "code",
   "execution_count": 51,
   "id": "3deba35c",
   "metadata": {},
   "outputs": [
    {
     "data": {
      "text/plain": [
       "array([7, 1, 4, 4, 4, 5, 9, 5, 9, 7, 1, 4, 4, 4, 5, 9, 5, 9, 7, 1, 4, 4,\n",
       "       4, 5])"
      ]
     },
     "execution_count": 51,
     "metadata": {},
     "output_type": "execute_result"
    }
   ],
   "source": [
    "b.flatten() #convert  2d, 3d ,4d...array to 1d array use flatten()"
   ]
  },
  {
   "cell_type": "code",
   "execution_count": 52,
   "id": "f35dfc7b",
   "metadata": {},
   "outputs": [
    {
     "data": {
      "text/plain": [
       "array([7, 4, 9, 4, 5, 4, 1, 5, 7, 4, 9, 4, 4, 9, 1, 5, 7, 4, 4, 5, 4, 9,\n",
       "       1, 5])"
      ]
     },
     "execution_count": 52,
     "metadata": {},
     "output_type": "execute_result"
    }
   ],
   "source": [
    "b.flatten(order='f') #flatten create new 1d array not modify"
   ]
  },
  {
   "cell_type": "code",
   "execution_count": 53,
   "id": "d01179d0",
   "metadata": {},
   "outputs": [
    {
     "data": {
      "text/plain": [
       "array([[7, 1, 4, 4],\n",
       "       [4, 5, 9, 5],\n",
       "       [9, 7, 1, 4],\n",
       "       [4, 4, 5, 9],\n",
       "       [5, 9, 7, 1],\n",
       "       [4, 4, 4, 5]])"
      ]
     },
     "execution_count": 53,
     "metadata": {},
     "output_type": "execute_result"
    }
   ],
   "source": [
    "b"
   ]
  },
  {
   "cell_type": "code",
   "execution_count": 54,
   "id": "18c4bcc5",
   "metadata": {},
   "outputs": [
    {
     "data": {
      "text/plain": [
       "array([0, 1, 2, 3, 4, 5, 6, 7, 8, 9])"
      ]
     },
     "execution_count": 54,
     "metadata": {},
     "output_type": "execute_result"
    }
   ],
   "source": [
    "a=np.arange(10) #1 d array\n",
    "a"
   ]
  },
  {
   "cell_type": "code",
   "execution_count": 55,
   "id": "951eb912",
   "metadata": {},
   "outputs": [
    {
     "data": {
      "text/plain": [
       "array([[0, 1, 2, 3, 4],\n",
       "       [5, 6, 7, 8, 9]])"
      ]
     },
     "execution_count": 55,
     "metadata": {},
     "output_type": "execute_result"
    }
   ],
   "source": [
    "a.reshape(2,5)  # use reshape/resize to convert 1d array into 2d, 3d ...."
   ]
  },
  {
   "cell_type": "code",
   "execution_count": 56,
   "id": "acb6b5c4",
   "metadata": {},
   "outputs": [],
   "source": [
    "import numpy as np"
   ]
  },
  {
   "cell_type": "code",
   "execution_count": 57,
   "id": "444f17f0",
   "metadata": {},
   "outputs": [],
   "source": [
    "a=np.random.randint(1,100,10)"
   ]
  },
  {
   "cell_type": "code",
   "execution_count": 58,
   "id": "651f2153",
   "metadata": {},
   "outputs": [
    {
     "name": "stdout",
     "output_type": "stream",
     "text": [
      "[31  6 51 52 81 80 84 54 16  7]\n"
     ]
    }
   ],
   "source": [
    "print(a)"
   ]
  },
  {
   "cell_type": "code",
   "execution_count": 59,
   "id": "6ffc2339",
   "metadata": {},
   "outputs": [
    {
     "name": "stdout",
     "output_type": "stream",
     "text": [
      "[[46 73 53]\n",
      " [15 74 87]\n",
      " [17 79 72]]\n"
     ]
    }
   ],
   "source": [
    "b=np.random.randint(1,100,(3,3))\n",
    "print(b)"
   ]
  },
  {
   "cell_type": "code",
   "execution_count": 60,
   "id": "87421ede",
   "metadata": {},
   "outputs": [
    {
     "name": "stdout",
     "output_type": "stream",
     "text": [
      "6\n",
      "15\n",
      "[46 15 17]\n",
      "[15 73 53]\n",
      "1\n",
      "3\n"
     ]
    }
   ],
   "source": [
    "print(a.min()) # return min element from array\n",
    "print(b.min())  #return min element from array\n",
    "print(b.min(axis=1)) #return min element from each row of array\n",
    "print(b.min(axis=0))#return min element from each column of array\n",
    "print(a.argmin())#return index of min element from  array#return index of min element from  array\n",
    "print(b.argmin())# first flatten then return index of min element from  array#return index of min element from  array"
   ]
  },
  {
   "cell_type": "code",
   "execution_count": 61,
   "id": "ea50456e",
   "metadata": {},
   "outputs": [
    {
     "name": "stdout",
     "output_type": "stream",
     "text": [
      "84\n",
      "87\n",
      "[73 87 79]\n",
      "[46 79 87]\n",
      "6\n",
      "6\n"
     ]
    }
   ],
   "source": [
    "print(a.max())\n",
    "print(b.max())\n",
    "print(b.max(axis=1))\n",
    "print(b.max(axis=0))\n",
    "print(a.argmax())\n",
    "print(a.argmax())"
   ]
  },
  {
   "cell_type": "code",
   "execution_count": 62,
   "id": "609801cc",
   "metadata": {},
   "outputs": [
    {
     "name": "stdout",
     "output_type": "stream",
     "text": [
      "462\n",
      "516\n",
      "[172 176 168]\n",
      "[ 78 226 212]\n"
     ]
    }
   ],
   "source": [
    "print(a.sum())#return sum of all element present in array\n",
    "print(b.sum())#return sum of all element present in array\n",
    "print(b.sum(axis=1))#return sum of all element present in each row from  array\n",
    "print(b.sum(axis=0))#return sum of all element present in each  colomn from  array"
   ]
  },
  {
   "cell_type": "code",
   "execution_count": 63,
   "id": "c0cf8353",
   "metadata": {},
   "outputs": [
    {
     "name": "stdout",
     "output_type": "stream",
     "text": [
      "[31  6 51 52 81 80 84 54 16  7]\n"
     ]
    }
   ],
   "source": [
    "print(a)"
   ]
  },
  {
   "cell_type": "code",
   "execution_count": 64,
   "id": "ae5f0287",
   "metadata": {},
   "outputs": [
    {
     "name": "stdout",
     "output_type": "stream",
     "text": [
      "(array([], dtype=int64),)\n",
      "(array([0, 2, 3, 4, 5, 6, 7], dtype=int64),)\n"
     ]
    }
   ],
   "source": [
    "print(np.where(a==93))# return indexing using where condition is satisfy\n",
    "print(np.where(a>=24))#np.function,array.method"
   ]
  },
  {
   "cell_type": "code",
   "execution_count": 65,
   "id": "2f796116",
   "metadata": {},
   "outputs": [
    {
     "name": "stdout",
     "output_type": "stream",
     "text": [
      "462\n",
      "462\n"
     ]
    }
   ],
   "source": [
    "print(a.sum()) #print sum using array method\n",
    "print(np.sum(a)) #print sum using numpy function"
   ]
  },
  {
   "cell_type": "code",
   "execution_count": 66,
   "id": "b17212f3",
   "metadata": {},
   "outputs": [
    {
     "name": "stdout",
     "output_type": "stream",
     "text": [
      "46.2\n",
      "46.2\n"
     ]
    }
   ],
   "source": [
    "print(a.mean()) #mean\n",
    "print(np.mean(a))"
   ]
  },
  {
   "cell_type": "code",
   "execution_count": 67,
   "id": "e0a7e063",
   "metadata": {},
   "outputs": [
    {
     "name": "stdout",
     "output_type": "stream",
     "text": [
      "28.62795836241208\n",
      "51.5\n"
     ]
    }
   ],
   "source": [
    "print(a.std())  #standard deviation\n",
    "print(np.median(a)) #median"
   ]
  },
  {
   "cell_type": "markdown",
   "id": "4ddb2782",
   "metadata": {},
   "source": [
    "# Broadcasting"
   ]
  },
  {
   "cell_type": "code",
   "execution_count": 68,
   "id": "e853a761",
   "metadata": {},
   "outputs": [
    {
     "data": {
      "text/plain": [
       "array([31,  6, 51, 52, 81, 80, 84, 54, 16,  7])"
      ]
     },
     "execution_count": 68,
     "metadata": {},
     "output_type": "execute_result"
    }
   ],
   "source": [
    "a"
   ]
  },
  {
   "cell_type": "code",
   "execution_count": 69,
   "id": "4a24e521",
   "metadata": {},
   "outputs": [
    {
     "name": "stdout",
     "output_type": "stream",
     "text": [
      "[32  7 52 53 82 81 85 55 17  8]\n"
     ]
    }
   ],
   "source": [
    "print(a+1) #return new array after pointing   broadcasting arthematic"
   ]
  },
  {
   "cell_type": "code",
   "execution_count": 70,
   "id": "003301f7",
   "metadata": {},
   "outputs": [
    {
     "ename": "TypeError",
     "evalue": "can only concatenate list (not \"int\") to list",
     "output_type": "error",
     "traceback": [
      "\u001b[1;31m---------------------------------------------------------------------------\u001b[0m",
      "\u001b[1;31mTypeError\u001b[0m                                 Traceback (most recent call last)",
      "Cell \u001b[1;32mIn[70], line 2\u001b[0m\n\u001b[0;32m      1\u001b[0m x\u001b[38;5;241m=\u001b[39m[\u001b[38;5;241m10\u001b[39m,\u001b[38;5;241m12\u001b[39m,\u001b[38;5;241m30\u001b[39m] \u001b[38;5;66;03m#list has no broadcasting\u001b[39;00m\n\u001b[1;32m----> 2\u001b[0m \u001b[38;5;28mprint\u001b[39m(x\u001b[38;5;241m+\u001b[39m\u001b[38;5;241m1\u001b[39m)\n",
      "\u001b[1;31mTypeError\u001b[0m: can only concatenate list (not \"int\") to list"
     ]
    }
   ],
   "source": [
    "x=[10,12,30] #list has no broadcasting\n",
    "print(x+1)"
   ]
  },
  {
   "cell_type": "code",
   "execution_count": 71,
   "id": "80e6af7f",
   "metadata": {},
   "outputs": [
    {
     "name": "stdout",
     "output_type": "stream",
     "text": [
      "[11, 13, 31]\n"
     ]
    }
   ],
   "source": [
    "y=[]  #through list add 1 element using for loop\n",
    "for i in x:\n",
    "    y.append(i+1)\n",
    "print(y)"
   ]
  },
  {
   "cell_type": "code",
   "execution_count": 72,
   "id": "b907dc8d",
   "metadata": {},
   "outputs": [
    {
     "name": "stdout",
     "output_type": "stream",
     "text": [
      "[5.56776436 2.44948974 7.14142843 7.21110255 9.         8.94427191\n",
      " 9.16515139 7.34846923 4.         2.64575131]\n"
     ]
    }
   ],
   "source": [
    "b=np.sqrt(a) #return new array after computing sqrt of each element in array\n",
    "print(b)"
   ]
  },
  {
   "cell_type": "code",
   "execution_count": 73,
   "id": "55912ab2",
   "metadata": {},
   "outputs": [
    {
     "data": {
      "text/plain": [
       "array([5.57, 2.45, 7.14, 7.21, 9.  , 8.94, 9.17, 7.35, 4.  , 2.65])"
      ]
     },
     "execution_count": 73,
     "metadata": {},
     "output_type": "execute_result"
    }
   ],
   "source": [
    "np.round(b,2) #return new array after doing broadcast round of 2 decimal place"
   ]
  },
  {
   "cell_type": "code",
   "execution_count": 74,
   "id": "c47459ee",
   "metadata": {},
   "outputs": [
    {
     "data": {
      "text/plain": [
       "array([3.4339872 , 1.79175947, 3.93182563, 3.95124372, 4.39444915,\n",
       "       4.38202663, 4.4308168 , 3.98898405, 2.77258872, 1.94591015])"
      ]
     },
     "execution_count": 74,
     "metadata": {},
     "output_type": "execute_result"
    }
   ],
   "source": [
    "np.log(a) #base e"
   ]
  },
  {
   "cell_type": "code",
   "execution_count": 75,
   "id": "798e239b",
   "metadata": {},
   "outputs": [
    {
     "data": {
      "text/plain": [
       "array([1.49136169, 0.77815125, 1.70757018, 1.71600334, 1.90848502,\n",
       "       1.90308999, 1.92427929, 1.73239376, 1.20411998, 0.84509804])"
      ]
     },
     "execution_count": 75,
     "metadata": {},
     "output_type": "execute_result"
    }
   ],
   "source": [
    "np.log10(a)"
   ]
  },
  {
   "cell_type": "code",
   "execution_count": 76,
   "id": "84979210",
   "metadata": {},
   "outputs": [
    {
     "data": {
      "text/plain": [
       "array([4.95419631, 2.5849625 , 5.67242534, 5.70043972, 6.33985   ,\n",
       "       6.32192809, 6.39231742, 5.7548875 , 4.        , 2.80735492])"
      ]
     },
     "execution_count": 76,
     "metadata": {},
     "output_type": "execute_result"
    }
   ],
   "source": [
    "np.log2(a)"
   ]
  },
  {
   "cell_type": "code",
   "execution_count": 77,
   "id": "8eaf757c",
   "metadata": {},
   "outputs": [
    {
     "name": "stdout",
     "output_type": "stream",
     "text": [
      "[189 231 202 197 204]\n",
      "[63.   77.   67.33 65.67 68.  ]\n"
     ]
    }
   ],
   "source": [
    "m=np.array([56,65,76,76,46]) #find avg. marks\n",
    "c=np.array([67,89,38,66,59])\n",
    "p=np.array([66,77,88,55,99])\n",
    "print(m+c+p)\n",
    "print(np.round((m+c+p)/3,2))"
   ]
  },
  {
   "cell_type": "code",
   "execution_count": 78,
   "id": "8b14070c",
   "metadata": {},
   "outputs": [
    {
     "name": "stdout",
     "output_type": "stream",
     "text": [
      "(array([0, 3, 4], dtype=int64),)\n",
      "(array([1, 2], dtype=int64),)\n",
      "(array([2], dtype=int64),)\n"
     ]
    }
   ],
   "source": [
    "x=np.array([56,65,67,76,46])  #check the which  poisition has  same array with where condition\n",
    "y=np.array([56,89,38,76,46])\n",
    "print(np.where(x==y))\n",
    "print(np.where(x!=y))\n",
    "print(np.where(x>y))\n",
    "        "
   ]
  },
  {
   "cell_type": "code",
   "execution_count": 79,
   "id": "efe34719",
   "metadata": {},
   "outputs": [
    {
     "name": "stdout",
     "output_type": "stream",
     "text": [
      "60000\n",
      "45000\n"
     ]
    }
   ],
   "source": [
    "x=[20000,15000,60000,45000,25000]\n",
    "for i in x:\n",
    "    if(i>30000):\n",
    "        print(i)\n"
   ]
  },
  {
   "cell_type": "code",
   "execution_count": 80,
   "id": "227a11f2",
   "metadata": {},
   "outputs": [
    {
     "name": "stdout",
     "output_type": "stream",
     "text": [
      "[20000 15000 60000 45000 25000]\n"
     ]
    }
   ],
   "source": [
    "a=np.array(x)\n",
    "print(a)\n",
    "#x[start:stop:end]\n",
    "#array[condition]"
   ]
  },
  {
   "cell_type": "code",
   "execution_count": 81,
   "id": "2389e806",
   "metadata": {},
   "outputs": [
    {
     "data": {
      "text/plain": [
       "array([60000, 45000])"
      ]
     },
     "execution_count": 81,
     "metadata": {},
     "output_type": "execute_result"
    }
   ],
   "source": [
    "a[a>30000] #conditional slicing in array"
   ]
  },
  {
   "cell_type": "code",
   "execution_count": 82,
   "id": "41da0644",
   "metadata": {},
   "outputs": [
    {
     "name": "stdout",
     "output_type": "stream",
     "text": [
      "[40 66 42 46 42 42 71 49 27 78]\n"
     ]
    }
   ],
   "source": [
    "a=np.random.randint(1,100,10)\n",
    "print(a)"
   ]
  },
  {
   "cell_type": "code",
   "execution_count": 83,
   "id": "58b98590",
   "metadata": {},
   "outputs": [
    {
     "data": {
      "text/plain": [
       "array([40, 66, 42, 46, 42, 42, 71, 78])"
      ]
     },
     "execution_count": 83,
     "metadata": {},
     "output_type": "execute_result"
    }
   ],
   "source": [
    "a[(a>50) | (a%2==0)]# boolean and conditional slicing use more statement  usebitwise operator use to combine\n"
   ]
  },
  {
   "cell_type": "code",
   "execution_count": 84,
   "id": "64302be3",
   "metadata": {},
   "outputs": [
    {
     "data": {
      "text/plain": [
       "array([66, 78])"
      ]
     },
     "execution_count": 84,
     "metadata": {},
     "output_type": "execute_result"
    }
   ],
   "source": [
    "a[(a>50) & (a%2==0)]"
   ]
  },
  {
   "cell_type": "code",
   "execution_count": 85,
   "id": "156ccc75",
   "metadata": {},
   "outputs": [
    {
     "name": "stdout",
     "output_type": "stream",
     "text": [
      "[[2 7 8]\n",
      " [2 1 3]\n",
      " [4 8 7]]\n"
     ]
    }
   ],
   "source": [
    "m=np.random.randint(1,10,(3,3))\n",
    "print(m)"
   ]
  },
  {
   "cell_type": "code",
   "execution_count": 86,
   "id": "49e00808",
   "metadata": {},
   "outputs": [
    {
     "data": {
      "text/plain": [
       "array([[2, 2, 4],\n",
       "       [7, 1, 8],\n",
       "       [8, 3, 7]])"
      ]
     },
     "execution_count": 86,
     "metadata": {},
     "output_type": "execute_result"
    }
   ],
   "source": [
    "m.transpose()    # transpose means rows convert colomn and colomn convert row"
   ]
  },
  {
   "cell_type": "code",
   "execution_count": 87,
   "id": "ed1b73a0",
   "metadata": {},
   "outputs": [
    {
     "data": {
      "text/plain": [
       "array([[2, 2, 4],\n",
       "       [7, 1, 8],\n",
       "       [8, 3, 7]])"
      ]
     },
     "execution_count": 87,
     "metadata": {},
     "output_type": "execute_result"
    }
   ],
   "source": [
    "m.T  # T means transpose"
   ]
  },
  {
   "cell_type": "code",
   "execution_count": 88,
   "id": "7d6a6f65",
   "metadata": {},
   "outputs": [
    {
     "data": {
      "text/plain": [
       "array([[2, 7, 8],\n",
       "       [2, 1, 3],\n",
       "       [4, 8, 7]])"
      ]
     },
     "execution_count": 88,
     "metadata": {},
     "output_type": "execute_result"
    }
   ],
   "source": [
    "m"
   ]
  },
  {
   "cell_type": "code",
   "execution_count": 89,
   "id": "30c17d25",
   "metadata": {},
   "outputs": [
    {
     "data": {
      "text/plain": [
       "array([[ 4, 14, 16],\n",
       "       [ 4,  2,  6],\n",
       "       [ 8, 16, 14]])"
      ]
     },
     "execution_count": 89,
     "metadata": {},
     "output_type": "execute_result"
    }
   ],
   "source": [
    "m*2 #  multiply by 2 each no. give new matrix existing not change"
   ]
  },
  {
   "cell_type": "code",
   "execution_count": 90,
   "id": "9cd5bf9c",
   "metadata": {},
   "outputs": [
    {
     "name": "stdout",
     "output_type": "stream",
     "text": [
      "[[2 7 8]\n",
      " [2 1 3]\n",
      " [4 8 7]]\n"
     ]
    }
   ],
   "source": [
    "n=m.T\n",
    "print(m)"
   ]
  },
  {
   "cell_type": "code",
   "execution_count": 91,
   "id": "b44a4ea4",
   "metadata": {},
   "outputs": [
    {
     "name": "stdout",
     "output_type": "stream",
     "text": [
      "[[2 2 4]\n",
      " [7 1 8]\n",
      " [8 3 7]]\n"
     ]
    }
   ],
   "source": [
    "print(n)"
   ]
  },
  {
   "cell_type": "code",
   "execution_count": 92,
   "id": "27939cd3",
   "metadata": {},
   "outputs": [
    {
     "data": {
      "text/plain": [
       "array([[ 4, 14, 32],\n",
       "       [14,  1, 24],\n",
       "       [32, 24, 49]])"
      ]
     },
     "execution_count": 92,
     "metadata": {},
     "output_type": "execute_result"
    }
   ],
   "source": [
    "m*n # element by element multiply"
   ]
  },
  {
   "cell_type": "code",
   "execution_count": 93,
   "id": "42c19b35",
   "metadata": {},
   "outputs": [
    {
     "data": {
      "text/plain": [
       "array([[117,  35, 120],\n",
       "       [ 35,  14,  37],\n",
       "       [120,  37, 129]])"
      ]
     },
     "execution_count": 93,
     "metadata": {},
     "output_type": "execute_result"
    }
   ],
   "source": [
    "np.dot(m,n)  #dot product of two matrix using dot function"
   ]
  },
  {
   "cell_type": "code",
   "execution_count": 94,
   "id": "6512df5e",
   "metadata": {},
   "outputs": [
    {
     "data": {
      "text/plain": [
       "array([[117,  35, 120],\n",
       "       [ 35,  14,  37],\n",
       "       [120,  37, 129]])"
      ]
     },
     "execution_count": 94,
     "metadata": {},
     "output_type": "execute_result"
    }
   ],
   "source": [
    "m@n   # another way  to find dot product using @ operator"
   ]
  },
  {
   "cell_type": "code",
   "execution_count": 95,
   "id": "6769cd67",
   "metadata": {},
   "outputs": [
    {
     "data": {
      "text/plain": [
       "array([40, 66, 42, 46, 42, 42, 71, 49, 27, 78])"
      ]
     },
     "execution_count": 95,
     "metadata": {},
     "output_type": "execute_result"
    }
   ],
   "source": [
    "a"
   ]
  },
  {
   "cell_type": "code",
   "execution_count": 96,
   "id": "1e3ba4db",
   "metadata": {},
   "outputs": [],
   "source": [
    "a[0]=100 #replace the value of index poistion"
   ]
  },
  {
   "cell_type": "code",
   "execution_count": 97,
   "id": "d43bd48b",
   "metadata": {},
   "outputs": [
    {
     "name": "stdout",
     "output_type": "stream",
     "text": [
      "[100  66  42  46  42  42  71  49  27  78]\n"
     ]
    }
   ],
   "source": [
    "print(a)"
   ]
  },
  {
   "cell_type": "code",
   "execution_count": 98,
   "id": "52e81855",
   "metadata": {},
   "outputs": [],
   "source": [
    "a[a>50]=200 #replace 50 greater value with 200"
   ]
  },
  {
   "cell_type": "code",
   "execution_count": 99,
   "id": "1651f823",
   "metadata": {},
   "outputs": [
    {
     "data": {
      "text/plain": [
       "array([200, 200,  42,  46,  42,  42, 200,  49,  27, 200])"
      ]
     },
     "execution_count": 99,
     "metadata": {},
     "output_type": "execute_result"
    }
   ],
   "source": [
    "a"
   ]
  },
  {
   "cell_type": "code",
   "execution_count": 100,
   "id": "e3cabd96",
   "metadata": {},
   "outputs": [
    {
     "ename": "ValueError",
     "evalue": "cannot delete array elements",
     "output_type": "error",
     "traceback": [
      "\u001b[1;31m---------------------------------------------------------------------------\u001b[0m",
      "\u001b[1;31mValueError\u001b[0m                                Traceback (most recent call last)",
      "Cell \u001b[1;32mIn[100], line 1\u001b[0m\n\u001b[1;32m----> 1\u001b[0m \u001b[38;5;28;01mdel\u001b[39;00m a[\u001b[38;5;241m0\u001b[39m]\n",
      "\u001b[1;31mValueError\u001b[0m: cannot delete array elements"
     ]
    }
   ],
   "source": [
    "del a[0] #replace array element but not delete"
   ]
  },
  {
   "cell_type": "code",
   "execution_count": 101,
   "id": "a7c0c5db",
   "metadata": {},
   "outputs": [
    {
     "data": {
      "text/plain": [
       "array([200,  42,  46,  42,  42, 200,  49,  27, 200])"
      ]
     },
     "execution_count": 101,
     "metadata": {},
     "output_type": "execute_result"
    }
   ],
   "source": [
    "np.delete(a,0) #gives new array"
   ]
  },
  {
   "cell_type": "code",
   "execution_count": 102,
   "id": "7d1c38e6",
   "metadata": {},
   "outputs": [
    {
     "data": {
      "text/plain": [
       "array([[2, 7, 8],\n",
       "       [2, 1, 3],\n",
       "       [4, 8, 7]])"
      ]
     },
     "execution_count": 102,
     "metadata": {},
     "output_type": "execute_result"
    }
   ],
   "source": [
    "m"
   ]
  },
  {
   "cell_type": "code",
   "execution_count": 103,
   "id": "48a46c9f",
   "metadata": {},
   "outputs": [
    {
     "data": {
      "text/plain": [
       "array([7, 8, 2, 1, 3, 4, 8, 7])"
      ]
     },
     "execution_count": 103,
     "metadata": {},
     "output_type": "execute_result"
    }
   ],
   "source": [
    "np.delete(m,0) # first flatten the matrix and del array from gives index poisition and gives flaten array"
   ]
  },
  {
   "cell_type": "code",
   "execution_count": 104,
   "id": "a2fbbd75",
   "metadata": {},
   "outputs": [
    {
     "data": {
      "text/plain": [
       "array([[2, 7, 8],\n",
       "       [2, 1, 3],\n",
       "       [4, 8, 7]])"
      ]
     },
     "execution_count": 104,
     "metadata": {},
     "output_type": "execute_result"
    }
   ],
   "source": [
    "m"
   ]
  },
  {
   "cell_type": "code",
   "execution_count": 105,
   "id": "b919ab9c",
   "metadata": {},
   "outputs": [
    {
     "data": {
      "text/plain": [
       "array([2, 8, 2, 4, 8])"
      ]
     },
     "execution_count": 105,
     "metadata": {},
     "output_type": "execute_result"
    }
   ],
   "source": [
    "m[m%2==0] #conditional slicing on matrix gives flaten array "
   ]
  },
  {
   "cell_type": "code",
   "execution_count": null,
   "id": "9c0c0b69",
   "metadata": {},
   "outputs": [],
   "source": []
  },
  {
   "cell_type": "code",
   "execution_count": null,
   "id": "70af8252",
   "metadata": {},
   "outputs": [],
   "source": []
  },
  {
   "cell_type": "code",
   "execution_count": null,
   "id": "e6149ea9",
   "metadata": {},
   "outputs": [],
   "source": []
  },
  {
   "cell_type": "code",
   "execution_count": null,
   "id": "71916a43",
   "metadata": {},
   "outputs": [],
   "source": []
  },
  {
   "cell_type": "code",
   "execution_count": null,
   "id": "d2d2921b",
   "metadata": {},
   "outputs": [],
   "source": []
  }
 ],
 "metadata": {
  "kernelspec": {
   "display_name": "Python 3 (ipykernel)",
   "language": "python",
   "name": "python3"
  },
  "language_info": {
   "codemirror_mode": {
    "name": "ipython",
    "version": 3
   },
   "file_extension": ".py",
   "mimetype": "text/x-python",
   "name": "python",
   "nbconvert_exporter": "python",
   "pygments_lexer": "ipython3",
   "version": "3.11.5"
  },
  "vscode": {
   "interpreter": {
    "hash": "5238573367df39f7286bb46f9ff5f08f63a01a80960060ce41e3c79b190280fa"
   }
  }
 },
 "nbformat": 4,
 "nbformat_minor": 5
}
