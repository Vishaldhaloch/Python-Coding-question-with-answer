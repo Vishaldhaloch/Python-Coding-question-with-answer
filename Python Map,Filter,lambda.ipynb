{
 "cells": [
  {
   "cell_type": "code",
   "execution_count": 1,
   "id": "4e2aa6cf",
   "metadata": {},
   "outputs": [
    {
     "name": "stdout",
     "output_type": "stream",
     "text": [
      "[10000, 12000, 8000, 15000, 9000]\n"
     ]
    }
   ],
   "source": [
    "sal=[10000,12000,8000,15000,9000]\n",
    "print(sal)"
   ]
  },
  {
   "cell_type": "code",
   "execution_count": 2,
   "id": "a9975591",
   "metadata": {},
   "outputs": [
    {
     "name": "stdout",
     "output_type": "stream",
     "text": [
      "[10500.0, 12600.0, 8400.0, 15750.0, 9450.0]\n"
     ]
    }
   ],
   "source": [
    "sal2=[]\n",
    "for s in sal:\n",
    "    sal2.append(s+(s*5/100))\n",
    "print(sal2)    "
   ]
  },
  {
   "cell_type": "code",
   "execution_count": 3,
   "id": "0b90f38c",
   "metadata": {},
   "outputs": [
    {
     "name": "stdout",
     "output_type": "stream",
     "text": [
      "[10500.0, 12600.0, 8400.0, 15750.0, 9450.0]\n"
     ]
    }
   ],
   "source": [
    "def changeSal(s):\n",
    "    return s+(s*5/100)\n",
    "sal=[10000,12000,8000,15000,9000]\n",
    "\n",
    "sal2=[]\n",
    "for s in sal:\n",
    "    sal2.append(changeSal(s))\n",
    "print(sal2)"
   ]
  },
  {
   "cell_type": "code",
   "execution_count": 4,
   "id": "829ad648",
   "metadata": {},
   "outputs": [],
   "source": [
    "# map(): (fun,seq/list)"
   ]
  },
  {
   "cell_type": "code",
   "execution_count": 5,
   "id": "656f7f04",
   "metadata": {},
   "outputs": [
    {
     "name": "stdout",
     "output_type": "stream",
     "text": [
      "[10500.0, 12600.0, 8400.0, 15750.0, 9450.0]\n"
     ]
    }
   ],
   "source": [
    "m=map(changeSal,sal)\n",
    "print(list(m))"
   ]
  },
  {
   "cell_type": "code",
   "execution_count": 6,
   "id": "c8c59a93",
   "metadata": {},
   "outputs": [
    {
     "name": "stdout",
     "output_type": "stream",
     "text": [
      "4\n"
     ]
    }
   ],
   "source": [
    "x=['sonu','sachin','hi','virat kohli']\n",
    "print(len(x))"
   ]
  },
  {
   "cell_type": "code",
   "execution_count": 7,
   "id": "e633b7a0",
   "metadata": {},
   "outputs": [
    {
     "name": "stdout",
     "output_type": "stream",
     "text": [
      "[4, 6, 2, 11]\n"
     ]
    }
   ],
   "source": [
    "m=list(map(len,x))    # get all character length using map, in map first pass fun and then list,tuple etc.\n",
    "print(m)"
   ]
  },
  {
   "cell_type": "code",
   "execution_count": 8,
   "id": "fd4b8a18",
   "metadata": {},
   "outputs": [
    {
     "name": "stdout",
     "output_type": "stream",
     "text": [
      "['10', '20', '30', '40']\n"
     ]
    }
   ],
   "source": [
    "x=['10','20','30','40']\n",
    "print(x)"
   ]
  },
  {
   "cell_type": "code",
   "execution_count": 9,
   "id": "61732279",
   "metadata": {},
   "outputs": [
    {
     "name": "stdout",
     "output_type": "stream",
     "text": [
      "[10, 20, 30, 40]\n",
      "100\n"
     ]
    }
   ],
   "source": [
    "k=list(map(int,x))     # convert string into int using map\n",
    "print(k)\n",
    "print(sum(k))"
   ]
  },
  {
   "cell_type": "code",
   "execution_count": 10,
   "id": "46842f0c",
   "metadata": {},
   "outputs": [
    {
     "name": "stdout",
     "output_type": "stream",
     "text": [
      "4.0\n"
     ]
    }
   ],
   "source": [
    "x=[16,25,30,125,200]\n",
    "import math\n",
    "print(math.sqrt(16))"
   ]
  },
  {
   "cell_type": "code",
   "execution_count": 11,
   "id": "1e574428",
   "metadata": {},
   "outputs": [
    {
     "name": "stdout",
     "output_type": "stream",
     "text": [
      "[4.0, 5.0, 5.477225575051661, 11.180339887498949, 14.142135623730951]\n"
     ]
    }
   ],
   "source": [
    "y=list(map(math.sqrt,x))\n",
    "print(y)"
   ]
  },
  {
   "cell_type": "code",
   "execution_count": 12,
   "id": "d048d44f",
   "metadata": {},
   "outputs": [
    {
     "name": "stdout",
     "output_type": "stream",
     "text": [
      "['sonu', 'monu', 'chintu', 'pintu']\n"
     ]
    }
   ],
   "source": [
    "n=['sonu','monu','Chintu','Pintu']\n",
    "m=list(map(str.lower,n))\n",
    "print(m)"
   ]
  },
  {
   "cell_type": "code",
   "execution_count": 13,
   "id": "cdf0818b",
   "metadata": {},
   "outputs": [
    {
     "name": "stdout",
     "output_type": "stream",
     "text": [
      "[15, 26, 37, 48, 24]\n"
     ]
    }
   ],
   "source": [
    "basic=[10,20,30,40,15]      # multiple list with map()\n",
    "hra=[5,6,7,8,9]\n",
    "\n",
    "\n",
    "def sal(b,h):\n",
    "    return b+h\n",
    "\n",
    "netsal=list(map(sal,basic,hra))\n",
    "print(netsal)"
   ]
  },
  {
   "cell_type": "code",
   "execution_count": 14,
   "id": "b0cbd575",
   "metadata": {},
   "outputs": [],
   "source": [
    "# Filter(fun return boolean,seq)"
   ]
  },
  {
   "cell_type": "code",
   "execution_count": 15,
   "id": "b2ed1c0b",
   "metadata": {},
   "outputs": [
    {
     "name": "stdout",
     "output_type": "stream",
     "text": [
      "[10, 20, 0, 5]\n"
     ]
    }
   ],
   "source": [
    "def check(num):       # filter() works only true value\n",
    "    if(num>=0):\n",
    "        return True\n",
    "    else:\n",
    "        return False\n",
    "    \n",
    "x=[10,-5,20,0,-4,-3,5]  \n",
    "\n",
    "y=list(filter(check,x))\n",
    "print(y)"
   ]
  },
  {
   "cell_type": "code",
   "execution_count": 16,
   "id": "6426a5f6",
   "metadata": {},
   "outputs": [
    {
     "name": "stdout",
     "output_type": "stream",
     "text": [
      "[2, 4, 6, 8, 10]\n"
     ]
    }
   ],
   "source": [
    "x=[1,2,3,4,5,6,7,8,9,10]\n",
    "\n",
    "def even(num):\n",
    "    if(num%2==0):\n",
    "        return True\n",
    "    else:\n",
    "        return False\n",
    "print(list(filter(even,x)))    "
   ]
  },
  {
   "cell_type": "markdown",
   "id": "0843d479",
   "metadata": {},
   "source": [
    "# types of function"
   ]
  },
  {
   "cell_type": "markdown",
   "id": "526f27c2",
   "metadata": {},
   "source": [
    "- named fun (def keyword\n",
    "- anonymous fun (lambda keyword"
   ]
  },
  {
   "cell_type": "code",
   "execution_count": 17,
   "id": "6cd02f68",
   "metadata": {},
   "outputs": [],
   "source": [
    "def add(a,b):\n",
    "    return a+b"
   ]
  },
  {
   "cell_type": "code",
   "execution_count": 18,
   "id": "f67b3bca",
   "metadata": {},
   "outputs": [
    {
     "name": "stdout",
     "output_type": "stream",
     "text": [
      "30\n"
     ]
    }
   ],
   "source": [
    "print(add(10,20))"
   ]
  },
  {
   "cell_type": "code",
   "execution_count": 19,
   "id": "32195824",
   "metadata": {},
   "outputs": [
    {
     "name": "stdout",
     "output_type": "stream",
     "text": [
      "[3, 2, 6]\n"
     ]
    }
   ],
   "source": [
    "x=['abc','hi','abcdef']\n",
    "print(list(map(len,x)))"
   ]
  },
  {
   "cell_type": "code",
   "execution_count": 20,
   "id": "71f8cb94",
   "metadata": {},
   "outputs": [
    {
     "name": "stdout",
     "output_type": "stream",
     "text": [
      "[1, 4, 9, 16, 25, 36, 49]\n"
     ]
    }
   ],
   "source": [
    "def sqr(num):\n",
    "    return num*num\n",
    "\n",
    "\n",
    "x=[1,2,3,4,5,6,7]\n",
    "print(list(map(sqr,x)))"
   ]
  },
  {
   "cell_type": "code",
   "execution_count": 21,
   "id": "48924478",
   "metadata": {},
   "outputs": [
    {
     "name": "stdout",
     "output_type": "stream",
     "text": [
      "[1, 4, 9, 16, 25, 36, 49, 64, 81]\n",
      "[2, 4, 6, 8]\n",
      "[1, 3, 5, 7, 9]\n"
     ]
    }
   ],
   "source": [
    "x=[1,2,3,4,5,6,7,8,9]\n",
    "print(list(map(lambda num:num*num,x)))\n",
    "print(list(filter(lambda num:num%2==0,x)))\n",
    "print(list(filter(lambda num:num%2!=0,x)))"
   ]
  },
  {
   "cell_type": "code",
   "execution_count": 22,
   "id": "fdc341e7",
   "metadata": {},
   "outputs": [],
   "source": [
    "# nested function"
   ]
  },
  {
   "cell_type": "code",
   "execution_count": 23,
   "id": "650263d6",
   "metadata": {},
   "outputs": [],
   "source": [
    "def show():           # outer/top lvl fun\n",
    "    print(\"apple\")\n",
    "    def disp():       # nested fun/local fun\n",
    "        print(\"mango\")\n",
    "    disp()   \n",
    "    print(\"orange\")  \n",
    "    disp()"
   ]
  },
  {
   "cell_type": "code",
   "execution_count": 24,
   "id": "b6e29e1d",
   "metadata": {},
   "outputs": [
    {
     "name": "stdout",
     "output_type": "stream",
     "text": [
      "apple\n",
      "mango\n",
      "orange\n",
      "mango\n"
     ]
    }
   ],
   "source": [
    "show()"
   ]
  },
  {
   "cell_type": "code",
   "execution_count": 25,
   "id": "0fc0173e",
   "metadata": {},
   "outputs": [],
   "source": [
    "# use case nested fun"
   ]
  },
  {
   "cell_type": "code",
   "execution_count": 26,
   "id": "fc880446",
   "metadata": {},
   "outputs": [
    {
     "name": "stdout",
     "output_type": "stream",
     "text": [
      "in disp 10\n",
      "in show after disp call 10\n"
     ]
    }
   ],
   "source": [
    "def show():\n",
    "    x=10\n",
    "    def disp():      \n",
    "        print(\"in disp\",x)\n",
    "    disp()   \n",
    "    print(\"in show after disp call\",x)  \n",
    "    \n",
    "    \n",
    "show()    "
   ]
  },
  {
   "cell_type": "code",
   "execution_count": 27,
   "id": "4a247a26",
   "metadata": {},
   "outputs": [
    {
     "name": "stdout",
     "output_type": "stream",
     "text": [
      "in disp 20\n",
      "in show after disp call 10\n"
     ]
    }
   ],
   "source": [
    "def show():\n",
    "    x=10\n",
    "    def disp():\n",
    "        x=20\n",
    "        print(\"in disp\",x)\n",
    "    disp()   \n",
    "    print(\"in show after disp call\",x)  \n",
    "    \n",
    "    \n",
    "show()  "
   ]
  },
  {
   "cell_type": "code",
   "execution_count": 28,
   "id": "572f3df2",
   "metadata": {},
   "outputs": [
    {
     "name": "stdout",
     "output_type": "stream",
     "text": [
      "in disp 20\n",
      "in show after disp call 10\n"
     ]
    }
   ],
   "source": [
    "def show():\n",
    "    x=10\n",
    "    def disp():\n",
    "        x=20\n",
    "        print(\"in disp\",x)\n",
    "    disp()   \n",
    "    print(\"in show after disp call\",x)  \n",
    "    \n",
    "    \n",
    "show()  "
   ]
  },
  {
   "cell_type": "code",
   "execution_count": null,
   "id": "629563ad",
   "metadata": {},
   "outputs": [],
   "source": [
    "# Clousre fun: nested fun that uses data of its outer fun"
   ]
  },
  {
   "cell_type": "markdown",
   "id": "42d5738f",
   "metadata": {},
   "source": [
    "# Generator"
   ]
  },
  {
   "cell_type": "markdown",
   "id": "fd67927a",
   "metadata": {},
   "source": [
    "- return sequence use with for loop"
   ]
  },
  {
   "cell_type": "code",
   "execution_count": 38,
   "id": "eade61e7",
   "metadata": {},
   "outputs": [
    {
     "name": "stdout",
     "output_type": "stream",
     "text": [
      "10\n",
      "12\n",
      "14\n"
     ]
    }
   ],
   "source": [
    "def myrange(start,end):\n",
    "    yield start\n",
    "    start=start+2\n",
    "    yield start\n",
    "    start= start+2\n",
    "    yield start\n",
    "    start=start+2\n",
    "    \n",
    "    \n",
    "for i in myrange(10,30):\n",
    "    print(i)"
   ]
  },
  {
   "cell_type": "code",
   "execution_count": 43,
   "id": "afa228eb",
   "metadata": {},
   "outputs": [
    {
     "name": "stdout",
     "output_type": "stream",
     "text": [
      "10\n",
      "14\n",
      "18\n",
      "22\n",
      "26\n"
     ]
    }
   ],
   "source": [
    "def myrange(start,end):\n",
    "    while(start<end):\n",
    "        yield start\n",
    "        start=start+4\n",
    "  \n",
    "    \n",
    "    \n",
    "for i in myrange(10,30):\n",
    "    print(i)"
   ]
  },
  {
   "cell_type": "code",
   "execution_count": 49,
   "id": "edf137f5",
   "metadata": {},
   "outputs": [
    {
     "name": "stdout",
     "output_type": "stream",
     "text": [
      "10\n",
      "12.5\n",
      "15.0\n",
      "17.5\n",
      "20.0\n",
      "22.5\n",
      "25.0\n",
      "27.5\n"
     ]
    }
   ],
   "source": [
    "def myrange(start,end,step):\n",
    "    while(start<end):\n",
    "        yield start\n",
    "        start=start+step\n",
    "  \n",
    "    \n",
    "    \n",
    "for i in myrange(10,30,2.5):     # pass int and float\n",
    "    print(i)"
   ]
  },
  {
   "cell_type": "code",
   "execution_count": 50,
   "id": "cdf78ccf",
   "metadata": {},
   "outputs": [
    {
     "name": "stdout",
     "output_type": "stream",
     "text": [
      "a\n",
      "b\n",
      "c\n",
      "d\n",
      "e\n",
      "f\n",
      "g\n",
      "h\n",
      "i\n",
      "j\n"
     ]
    }
   ],
   "source": [
    "def myrange(start,end,step):\n",
    "    while(start<end):\n",
    "        yield start\n",
    "        start=ord(start)+step\n",
    "        start=chr(start)\n",
    "  \n",
    "    \n",
    "    \n",
    "for i in myrange('a','k',1):     # pass int and float\n",
    "    print(i)"
   ]
  },
  {
   "cell_type": "code",
   "execution_count": 51,
   "id": "a1804328",
   "metadata": {},
   "outputs": [
    {
     "data": {
      "text/plain": [
       "65"
      ]
     },
     "execution_count": 51,
     "metadata": {},
     "output_type": "execute_result"
    }
   ],
   "source": [
    "ord('A')        # ord() gives ascii value of any char"
   ]
  },
  {
   "cell_type": "code",
   "execution_count": 52,
   "id": "3e6c6ed9",
   "metadata": {},
   "outputs": [
    {
     "data": {
      "text/plain": [
       "97"
      ]
     },
     "execution_count": 52,
     "metadata": {},
     "output_type": "execute_result"
    }
   ],
   "source": [
    "ord('a')"
   ]
  },
  {
   "cell_type": "code",
   "execution_count": 53,
   "id": "7822f3c9",
   "metadata": {},
   "outputs": [
    {
     "data": {
      "text/plain": [
       "'d'"
      ]
     },
     "execution_count": 53,
     "metadata": {},
     "output_type": "execute_result"
    }
   ],
   "source": [
    "chr(100)    # chr() gives  character "
   ]
  },
  {
   "cell_type": "code",
   "execution_count": 54,
   "id": "0b584119",
   "metadata": {},
   "outputs": [
    {
     "name": "stdout",
     "output_type": "stream",
     "text": [
      "c\n"
     ]
    }
   ],
   "source": [
    "i=ord('a')\n",
    "i=i+2\n",
    "print(chr(i))"
   ]
  },
  {
   "cell_type": "code",
   "execution_count": null,
   "id": "edb4cbbc",
   "metadata": {},
   "outputs": [],
   "source": []
  },
  {
   "cell_type": "code",
   "execution_count": null,
   "id": "edc240f1",
   "metadata": {},
   "outputs": [],
   "source": []
  }
 ],
 "metadata": {
  "kernelspec": {
   "display_name": "Python 3 (ipykernel)",
   "language": "python",
   "name": "python3"
  },
  "language_info": {
   "codemirror_mode": {
    "name": "ipython",
    "version": 3
   },
   "file_extension": ".py",
   "mimetype": "text/x-python",
   "name": "python",
   "nbconvert_exporter": "python",
   "pygments_lexer": "ipython3",
   "version": "3.9.13"
  }
 },
 "nbformat": 4,
 "nbformat_minor": 5
}
