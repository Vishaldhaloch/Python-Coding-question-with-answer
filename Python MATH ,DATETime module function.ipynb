{
 "cells": [
  {
   "cell_type": "code",
   "execution_count": 2,
   "id": "09c0d828",
   "metadata": {},
   "outputs": [
    {
     "name": "stdout",
     "output_type": "stream",
     "text": [
      "2\n",
      "6\n",
      "-5\n",
      "23\n"
     ]
    }
   ],
   "source": [
    "# math.ceil()\tRounds a number up to the nearest integer\n",
    "import math\n",
    "print(math.ceil(1.4))\n",
    "print(math.ceil(5.3))\n",
    "print(math.ceil(-5.3))\n",
    "print(math.ceil(22.6))\n"
   ]
  },
  {
   "cell_type": "code",
   "execution_count": 7,
   "id": "afb35c0b",
   "metadata": {},
   "outputs": [
    {
     "name": "stdout",
     "output_type": "stream",
     "text": [
      "0\n",
      "1\n",
      "5\n",
      "-6\n",
      "22\n"
     ]
    }
   ],
   "source": [
    "# math.floor() method rounds a number DOWN to the nearest integer\n",
    "import math\n",
    "print(math.floor(0.6))\n",
    "print(math.floor(1.8))\n",
    "print(math.floor(5.3))\n",
    "print(math.floor(-5.3))\n",
    "print(math.floor(22.6))\n"
   ]
  },
  {
   "cell_type": "code",
   "execution_count": 4,
   "id": "830d3813",
   "metadata": {},
   "outputs": [
    {
     "name": "stdout",
     "output_type": "stream",
     "text": [
      "1.0000066849139877\n",
      "0.6931471805599453\n",
      "0.0\n"
     ]
    }
   ],
   "source": [
    "# math.log()\tReturns the natural logarithm of a number, or the logarithm of number to base\n",
    "import math\n",
    "print(math.log(2.7183))\n",
    "print(math.log(2))\n",
    "print(math.log(1))"
   ]
  },
  {
   "cell_type": "code",
   "execution_count": 5,
   "id": "ff6d84f6",
   "metadata": {},
   "outputs": [
    {
     "name": "stdout",
     "output_type": "stream",
     "text": [
      "729.0\n"
     ]
    }
   ],
   "source": [
    "# math.pow()\tReturns the value of x to the power of y\n",
    "import math\n",
    "#Return the value of 9 raised to the power of 3\n",
    "print(math.pow(9, 3))\n"
   ]
  },
  {
   "cell_type": "code",
   "execution_count": 6,
   "id": "fc4295a6",
   "metadata": {},
   "outputs": [
    {
     "name": "stdout",
     "output_type": "stream",
     "text": [
      "3.0\n",
      "5.0\n",
      "4.0\n"
     ]
    }
   ],
   "source": [
    "# math.sqrt()\tReturns the square root of a number\n",
    "import math\n",
    "# Return the square root of different numbers\n",
    "print (math.sqrt(9))\n",
    "print (math.sqrt(25))\n",
    "print (math.sqrt(16))"
   ]
  },
  {
   "cell_type": "code",
   "execution_count": 7,
   "id": "4c76528e",
   "metadata": {},
   "outputs": [
    {
     "name": "stdout",
     "output_type": "stream",
     "text": [
      "66.43\n",
      "7.0\n"
     ]
    }
   ],
   "source": [
    "# fabs(x)\tReturns the absolute value of the number\n",
    "\n",
    "#Print absolute values from numbers\n",
    "print(math.fabs(-66.43))\n",
    "print(math.fabs(-7))"
   ]
  },
  {
   "cell_type": "code",
   "execution_count": 8,
   "id": "6574ce65",
   "metadata": {},
   "outputs": [
    {
     "name": "stdout",
     "output_type": "stream",
     "text": [
      "120\n"
     ]
    }
   ],
   "source": [
    "# factorial(x)\tReturns the factorial of the number\n",
    "import math    \n",
    "x = 5\n",
    "print (math.factorial(x))"
   ]
  },
  {
   "cell_type": "code",
   "execution_count": 8,
   "id": "93719b10",
   "metadata": {},
   "outputs": [
    {
     "name": "stdout",
     "output_type": "stream",
     "text": [
      "1706861021.8312907\n"
     ]
    }
   ],
   "source": [
    "# Date time module\n",
    "#time.time() methods return the current time in seconds since epoch. It returns a floating-point number.\n",
    "import time\n",
    "curr = time.time()\n",
    "print(\"Current time in seconds since epoch =\", curr)"
   ]
  },
  {
   "cell_type": "code",
   "execution_count": 9,
   "id": "6d2ee4aa",
   "metadata": {},
   "outputs": [
    {
     "name": "stdout",
     "output_type": "stream",
     "text": [
      "Today's date is 2024-02-02\n"
     ]
    }
   ],
   "source": [
    "#Get the Current Date\n",
    "#To return the current local date today() function of the date class is used. \n",
    "#today() function comes with several attributes (year, month, and day). \n",
    "from datetime import date\n",
    "today = date.today()\n",
    "print(\"Today's date is\", today)"
   ]
  },
  {
   "cell_type": "code",
   "execution_count": 11,
   "id": "55b74086",
   "metadata": {},
   "outputs": [
    {
     "name": "stdout",
     "output_type": "stream",
     "text": [
      "Current year: 2024\n",
      "Current month: 1\n",
      "Current day: 27\n"
     ]
    }
   ],
   "source": [
    "#Get Today’s Year, Month, and Date\n",
    "#We can get the year, month, and date attributes from the date object using the year,\n",
    "#month and date attribute of the date class.\n",
    "from datetime import date\n",
    "today = date.today() \n",
    "print(\"Current year:\", today.year)\n",
    "print(\"Current month:\", today.month)\n",
    "print(\"Current day:\", today.day)"
   ]
  },
  {
   "cell_type": "code",
   "execution_count": 6,
   "id": "01754486",
   "metadata": {},
   "outputs": [
    {
     "name": "stdout",
     "output_type": "stream",
     "text": [
      "1706860898.4742603\n",
      "2024-02-02\n"
     ]
    }
   ],
   "source": [
    "# Get Date from Timestamp\n",
    "import time\n",
    "import datetime\n",
    "today_time=time.time()\n",
    "print(today_time)\n",
    "date = datetime.date.fromtimestamp(today_time)\n",
    "print(date)"
   ]
  },
  {
   "cell_type": "code",
   "execution_count": 13,
   "id": "43806353",
   "metadata": {},
   "outputs": [
    {
     "name": "stdout",
     "output_type": "stream",
     "text": [
      "2024-01-27 13:46:31.295914\n"
     ]
    }
   ],
   "source": [
    "# Import the datetime module and display the current date:\n",
    "\n",
    "import datetime\n",
    "\n",
    "x = datetime.datetime.now()\n",
    "print(x)\n"
   ]
  },
  {
   "cell_type": "code",
   "execution_count": 14,
   "id": "9ea81f2e",
   "metadata": {},
   "outputs": [
    {
     "name": "stdout",
     "output_type": "stream",
     "text": [
      "Current date and time is 2024-01-27 13:51:37.212580\n"
     ]
    }
   ],
   "source": [
    "# current date and time \n",
    "from datetime import datetime \n",
    "# Calling now() function\n",
    "today = datetime.now() \n",
    "print(\"Current date and time is\", today)"
   ]
  },
  {
   "cell_type": "code",
   "execution_count": 15,
   "id": "e05d271b",
   "metadata": {},
   "outputs": [
    {
     "name": "stdout",
     "output_type": "stream",
     "text": [
      "June\n"
     ]
    }
   ],
   "source": [
    "# The strftime() Method\n",
    "#The datetime object has a method for formatting date objects into readable strings.\n",
    "#The method is called strftime(), and takes one parameter, format, to specify the format of the returned string:\n",
    "import datetime\n",
    "x = datetime.datetime(2018, 6, 1)\n",
    "print(x.strftime(\"%B\"))"
   ]
  },
  {
   "cell_type": "code",
   "execution_count": null,
   "id": "8214970d",
   "metadata": {},
   "outputs": [],
   "source": []
  }
 ],
 "metadata": {
  "kernelspec": {
   "display_name": "Python 3 (ipykernel)",
   "language": "python",
   "name": "python3"
  },
  "language_info": {
   "codemirror_mode": {
    "name": "ipython",
    "version": 3
   },
   "file_extension": ".py",
   "mimetype": "text/x-python",
   "name": "python",
   "nbconvert_exporter": "python",
   "pygments_lexer": "ipython3",
   "version": "3.11.5"
  }
 },
 "nbformat": 4,
 "nbformat_minor": 5
}
