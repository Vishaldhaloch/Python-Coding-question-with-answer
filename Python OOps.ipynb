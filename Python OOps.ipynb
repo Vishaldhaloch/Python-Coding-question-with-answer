{
 "cells": [
  {
   "cell_type": "code",
   "execution_count": 2,
   "id": "a5d62c8b",
   "metadata": {},
   "outputs": [
    {
     "name": "stdout",
     "output_type": "stream",
     "text": [
      "calling is possible\n",
      "gaming is possible\n"
     ]
    }
   ],
   "source": [
    "class Mobile:\n",
    "    def calling(self):\n",
    "        print(\"calling is possible\")\n",
    "class Smartphone(Mobile):\n",
    "    def gaming(self):\n",
    "        print(\"gaming is possible\")\n",
    "        \n",
    "obj=Smartphone()\n",
    "obj.calling()\n",
    "obj.gaming()\n",
    "        \n",
    "        \n",
    "        "
   ]
  },
  {
   "cell_type": "code",
   "execution_count": 48,
   "id": "e2189131",
   "metadata": {},
   "outputs": [
    {
     "name": "stdout",
     "output_type": "stream",
     "text": [
      "vishal 10\n",
      "vishal 10\n"
     ]
    }
   ],
   "source": [
    "class Person:\n",
    "      def __init__(self, name, id):\n",
    "        self.name = name\n",
    "        self.id = id\n",
    " \n",
    "      def Display(self):\n",
    "            print(self.name, self.id)\n",
    "            \n",
    "      def show(self):\n",
    "            print(self.name, self.id)  \n",
    "emp=Person(\"vishal\",10) \n",
    "emp.Display()\n",
    "emp.show()"
   ]
  },
  {
   "cell_type": "code",
   "execution_count": 10,
   "id": "5eb5a40c",
   "metadata": {},
   "outputs": [
    {
     "name": "stdout",
     "output_type": "stream",
     "text": [
      "John\n",
      "36\n"
     ]
    }
   ],
   "source": [
    "class Person:\n",
    "    def __init__(self, name, age):\n",
    "        self.name = name\n",
    "        self.age = age\n",
    "\n",
    "p1 = Person(\"John\", 36)\n",
    "\n",
    "print(p1.name)\n",
    "print(p1.age)"
   ]
  },
  {
   "cell_type": "code",
   "execution_count": 22,
   "id": "815dadbc",
   "metadata": {},
   "outputs": [
    {
     "name": "stdout",
     "output_type": "stream",
     "text": [
      "Simon\n"
     ]
    }
   ],
   "source": [
    "#Public Access Modifier:\n",
    "#The members of a class that are declared public are easily accessible from any part of the program. \n",
    "#All data members and member functions of a class are public by default. \n",
    "\n",
    "# program to illustrate public access modifier in a class\n",
    " \n",
    "class Teacher:\n",
    "    def __init__(self,name,salary):\n",
    "        self.name=name\n",
    "        self.salary=salary\n",
    "t1=Teacher(\"Simon\", 12500)\n",
    "print(t1.name)"
   ]
  },
  {
   "cell_type": "code",
   "execution_count": 17,
   "id": "d21c9ac1",
   "metadata": {},
   "outputs": [
    {
     "ename": "AttributeError",
     "evalue": "'Teacher' object has no attribute '__name'",
     "output_type": "error",
     "traceback": [
      "\u001b[1;31m---------------------------------------------------------------------------\u001b[0m",
      "\u001b[1;31mAttributeError\u001b[0m                            Traceback (most recent call last)",
      "Cell \u001b[1;32mIn[17], line 11\u001b[0m\n\u001b[0;32m      9\u001b[0m         \u001b[38;5;28mself\u001b[39m\u001b[38;5;241m.\u001b[39m__salary\u001b[38;5;241m=\u001b[39msalary\n\u001b[0;32m     10\u001b[0m t1\u001b[38;5;241m=\u001b[39mTeacher(\u001b[38;5;124m\"\u001b[39m\u001b[38;5;124mSimon\u001b[39m\u001b[38;5;124m\"\u001b[39m, \u001b[38;5;241m12500\u001b[39m)\n\u001b[1;32m---> 11\u001b[0m \u001b[38;5;28mprint\u001b[39m(t1\u001b[38;5;241m.\u001b[39m__name)\n",
      "\u001b[1;31mAttributeError\u001b[0m: 'Teacher' object has no attribute '__name'"
     ]
    }
   ],
   "source": [
    "#Private access modifier in Python\n",
    "#A double underscore “__” makes the variable private as well as secure \n",
    "#and the members of the class which is declared private are accessible within the class. \n",
    "#Also, it is not possible to access them outside the class because it will throw an error.\n",
    "class Teacher:\n",
    "    def __init__(self,name,salary):\n",
    "        self.__name=name\n",
    "        self.__salary=salary\n",
    "t1=Teacher(\"Simon\", 12500)\n",
    "print(t1.__name)"
   ]
  },
  {
   "cell_type": "code",
   "execution_count": 19,
   "id": "878d0d16",
   "metadata": {},
   "outputs": [
    {
     "name": "stdout",
     "output_type": "stream",
     "text": [
      "Simon\n"
     ]
    }
   ],
   "source": [
    "#access the private members outside the class \n",
    "class Teacher:\n",
    "    def __init__(self,name,salary):\n",
    "        self.__name=name\n",
    "        self.__salary=salary\n",
    "t1=Teacher(\"Simon\", 12500)\n",
    "print(t1._Teacher__name)"
   ]
  },
  {
   "cell_type": "code",
   "execution_count": 55,
   "id": "3ff7465d",
   "metadata": {},
   "outputs": [
    {
     "name": "stdout",
     "output_type": "stream",
     "text": [
      "Simon\n",
      "500\n"
     ]
    }
   ],
   "source": [
    "#Protected access modifier in Python\n",
    "\n",
    "#The data member of the class is declared protected by adding a single underscore “_” and this prevents it from being access.\n",
    "#The protected members of the class can be accessed by other members within the class \n",
    "#also it can be accessible to the class derived from it.\n",
    "\n",
    "class Teacher:\n",
    "    def __init__(self,name,salary):\n",
    "        self._name=name\n",
    "        self._salary=500\n",
    "t1=Teacher(\"Simon\", 12500)\n",
    "print(t1._name)\n",
    "print(t1._salary)\n"
   ]
  },
  {
   "cell_type": "code",
   "execution_count": 32,
   "id": "694ba01b",
   "metadata": {},
   "outputs": [
    {
     "name": "stdout",
     "output_type": "stream",
     "text": [
      "10\n",
      "1\n"
     ]
    }
   ],
   "source": [
    "# static method depend on static\n",
    "class calc:\n",
    "    @staticmethod\n",
    "    def add(x):\n",
    "        print(x)\n",
    "calc.add(10)    \n",
    "calc.add(1)"
   ]
  },
  {
   "cell_type": "code",
   "execution_count": 31,
   "id": "88618d2d",
   "metadata": {},
   "outputs": [
    {
     "name": "stdout",
     "output_type": "stream",
     "text": [
      "rohit\n"
     ]
    }
   ],
   "source": [
    "# class method depend on class \n",
    "class student:\n",
    "    name=\"rohit\"\n",
    "    @classmethod\n",
    "    def mobile(cls):\n",
    "        print(cls.name)\n",
    "               \n",
    "student.mobile()        \n",
    "\n",
    "        "
   ]
  },
  {
   "cell_type": "code",
   "execution_count": 33,
   "id": "2433eefa",
   "metadata": {},
   "outputs": [
    {
     "name": "stdout",
     "output_type": "stream",
     "text": [
      "My name is xyz\n"
     ]
    }
   ],
   "source": [
    " # method Over writting\n",
    "class Myclass:\n",
    "    def show(self):\n",
    "        print(\"Mi name is abc\")\n",
    "        \n",
    "    def show(self):\n",
    "        print(\"My name is xyz\")\n",
    "        \n",
    "obj = Myclass()\n",
    "\n",
    "obj.show()"
   ]
  },
  {
   "cell_type": "code",
   "execution_count": 108,
   "id": "eda061bb",
   "metadata": {},
   "outputs": [
    {
     "name": "stdout",
     "output_type": "stream",
     "text": [
      "The current name is Rohit\n",
      "The current country is India\n",
      "The current age is 24\n"
     ]
    }
   ],
   "source": [
    "\n",
    "import time\n",
    "import datetime\n",
    "class Person:\n",
    "    def __init__(self,name,country,date_of_birth):\n",
    "        self.name=name\n",
    "        self.country=country\n",
    "        self.date_of_birth= date_of_birth\n",
    "# datetime.datetime.strftime(date_of_birth,\"%Y-%m-%d)        \n",
    "                            \n",
    "    def calculate_age(self):\n",
    "        current_date=date.today()\n",
    "        current_age=current_date.year-self.date_of_birth.year\n",
    "        if current_date < date(current_date.year,self.date_of_birth.month,self.date_of_birth.day):\n",
    "            current_age-=1\n",
    "        return current_age\n",
    "        \n",
    "        \n",
    "obj=Person(\"Rohit\",\"India\",date(2000,1,10))\n",
    "print(\"The current name is\",obj.name)\n",
    "print(\"The current country is\",obj.country)\n",
    "b=obj.calculate_age()\n",
    "print(\"The current age is\",b)\n",
    "\n",
    "        "
   ]
  },
  {
   "cell_type": "code",
   "execution_count": null,
   "id": "c646bc9c",
   "metadata": {},
   "outputs": [],
   "source": []
  },
  {
   "cell_type": "code",
   "execution_count": null,
   "id": "8823a531",
   "metadata": {},
   "outputs": [],
   "source": []
  },
  {
   "cell_type": "code",
   "execution_count": null,
   "id": "5b62600b",
   "metadata": {},
   "outputs": [],
   "source": []
  },
  {
   "cell_type": "code",
   "execution_count": null,
   "id": "6c5c3efc",
   "metadata": {},
   "outputs": [],
   "source": []
  },
  {
   "cell_type": "code",
   "execution_count": null,
   "id": "ef87bf41",
   "metadata": {},
   "outputs": [],
   "source": []
  }
 ],
 "metadata": {
  "kernelspec": {
   "display_name": "Python 3 (ipykernel)",
   "language": "python",
   "name": "python3"
  },
  "language_info": {
   "codemirror_mode": {
    "name": "ipython",
    "version": 3
   },
   "file_extension": ".py",
   "mimetype": "text/x-python",
   "name": "python",
   "nbconvert_exporter": "python",
   "pygments_lexer": "ipython3",
   "version": "3.11.5"
  }
 },
 "nbformat": 4,
 "nbformat_minor": 5
}
