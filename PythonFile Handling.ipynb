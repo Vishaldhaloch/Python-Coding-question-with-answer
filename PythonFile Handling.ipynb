{
 "cells": [
  {
   "cell_type": "code",
   "execution_count": 3,
   "id": "6ae9c71c",
   "metadata": {},
   "outputs": [],
   "source": [
    "f = open(\"student.txt\",\"w\")\n",
    "w = f.write(\"hi python \")\n",
    "f.close()"
   ]
  },
  {
   "cell_type": "code",
   "execution_count": 6,
   "id": "dd0bd566",
   "metadata": {},
   "outputs": [
    {
     "name": "stdout",
     "output_type": "stream",
     "text": [
      "hi python \n"
     ]
    }
   ],
   "source": [
    "f = open(\"student.txt\",\"r\")\n",
    "w = f.read()\n",
    "print(w)\n",
    "f.close()"
   ]
  },
  {
   "cell_type": "code",
   "execution_count": 28,
   "id": "160a281a",
   "metadata": {},
   "outputs": [],
   "source": [
    "a = open(\"employee.txt\",\"w\")\n",
    "l = [\"a\",'\\n',\"b\",'\\n',\"c\"'\\n',\"d\"]\n",
    "for i in l:\n",
    "    a.write(i)\n",
    "a.close()\n"
   ]
  },
  {
   "cell_type": "code",
   "execution_count": 1,
   "id": "20a1672b",
   "metadata": {},
   "outputs": [],
   "source": [
    "data = \"st.txt\"\n",
    "f = open(data,\"w\")\n",
    "c = f.write(\"hi python\"',')\n",
    "d = f.write('hello')\n",
    "f.close()"
   ]
  },
  {
   "cell_type": "code",
   "execution_count": 2,
   "id": "d776bc88",
   "metadata": {},
   "outputs": [
    {
     "name": "stdout",
     "output_type": "stream",
     "text": [
      "h\n",
      "i\n",
      " \n",
      "p\n",
      "y\n",
      "t\n",
      "h\n",
      "o\n",
      "n\n",
      ",\n",
      "h\n",
      "e\n",
      "l\n",
      "l\n",
      "o\n",
      "['hi python', 'hello']\n"
     ]
    }
   ],
   "source": [
    "f = open(data,\"r\")\n",
    "c = f.read()\n",
    "for i in c:\n",
    "    print(i)\n",
    "print(c.split(\",\"))\n",
    "# d = f.read()\n",
    "# print(c)\n",
    "# print(d)\n",
    "f.close()"
   ]
  },
  {
   "cell_type": "code",
   "execution_count": 3,
   "id": "6f0ddbcf",
   "metadata": {},
   "outputs": [],
   "source": [
    "with open(\"data.txt\",\"w\") as f:\n",
    "    f.write(\"hi python\")\n",
    "    "
   ]
  },
  {
   "cell_type": "code",
   "execution_count": 4,
   "id": "7d1d227b",
   "metadata": {},
   "outputs": [
    {
     "name": "stdout",
     "output_type": "stream",
     "text": [
      "hi python\n"
     ]
    }
   ],
   "source": [
    "with open(\"data.txt\",\"r\") as f:\n",
    "    a = f.read()\n",
    "    print(a)"
   ]
  },
  {
   "cell_type": "code",
   "execution_count": null,
   "id": "1548364a",
   "metadata": {},
   "outputs": [],
   "source": []
  },
  {
   "cell_type": "code",
   "execution_count": null,
   "id": "1c0b94d8",
   "metadata": {},
   "outputs": [],
   "source": []
  },
  {
   "cell_type": "code",
   "execution_count": null,
   "id": "9d88a906",
   "metadata": {},
   "outputs": [],
   "source": []
  },
  {
   "cell_type": "code",
   "execution_count": null,
   "id": "d3bbc8c5",
   "metadata": {},
   "outputs": [],
   "source": []
  },
  {
   "cell_type": "code",
   "execution_count": null,
   "id": "b01f21b5",
   "metadata": {},
   "outputs": [],
   "source": []
  }
 ],
 "metadata": {
  "kernelspec": {
   "display_name": "Python 3 (ipykernel)",
   "language": "python",
   "name": "python3"
  },
  "language_info": {
   "codemirror_mode": {
    "name": "ipython",
    "version": 3
   },
   "file_extension": ".py",
   "mimetype": "text/x-python",
   "name": "python",
   "nbconvert_exporter": "python",
   "pygments_lexer": "ipython3",
   "version": "3.11.5"
  }
 },
 "nbformat": 4,
 "nbformat_minor": 5
}
