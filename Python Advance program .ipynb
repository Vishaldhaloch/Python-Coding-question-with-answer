{
 "cells": [
  {
   "cell_type": "code",
   "execution_count": 31,
   "id": "703f3909",
   "metadata": {},
   "outputs": [
    {
     "name": "stdout",
     "output_type": "stream",
     "text": [
      "Enter the lower salary = 10000\n",
      "Enter the upper salary40000\n",
      "10000\n",
      "16000\n",
      "20000\n",
      "40000\n",
      "30000\n"
     ]
    }
   ],
   "source": [
    "salary = [10000,50000,16000,20000,40000,30000]\n",
    "lower = int(input(\"Enter the lower salary = \"))\n",
    "upper = int(input(\"Enter the upper salary\"))\n",
    "for i in salary:\n",
    "    if  i >= lower and i <= upper:\n",
    "        print(i)\n",
    "\n",
    "        \n",
    "    \n",
    "        "
   ]
  },
  {
   "cell_type": "code",
   "execution_count": 2,
   "id": "15d4a474",
   "metadata": {},
   "outputs": [
    {
     "name": "stdout",
     "output_type": "stream",
     "text": [
      "Enter the string = rohi\n",
      "rohit\n",
      "yes\n",
      "rohim\n",
      "yes\n"
     ]
    }
   ],
   "source": [
    "# find string and match substring\n",
    "\n",
    "s =[\"Vishal\",\"rohit\",\"sand\",\"rohim\",\"sandy\"]\n",
    "b = str(input(\"Enter the string = \")).casefold()\n",
    "match = False\n",
    "for i in s:\n",
    "    if b in i:\n",
    "        match = True\n",
    "        print(i)\n",
    "        print(\"yes\")\n",
    "if not match:\n",
    "    print(\"no\")\n",
    "    \n",
    "\n"
   ]
  },
  {
   "cell_type": "code",
   "execution_count": 124,
   "id": "a74befbf",
   "metadata": {},
   "outputs": [
    {
     "name": "stdout",
     "output_type": "stream",
     "text": [
      "Enter the contact = 7450\n",
      "74500\n",
      "yes\n",
      "74501\n",
      "yes\n"
     ]
    }
   ],
   "source": [
    "c = [\"74500\",\"74501\",\"50200\",\"50201\"]\n",
    "e = str(input(\"Enter the contact = \"))\n",
    "match = False\n",
    "for i in c:\n",
    "    if e in i:\n",
    "        match = True\n",
    "        print(i)\n",
    "        print(\"yes\")\n",
    "if not match:\n",
    "    print(\"no\")\n",
    "        "
   ]
  },
  {
   "cell_type": "code",
   "execution_count": 4,
   "id": "914ea054",
   "metadata": {},
   "outputs": [
    {
     "name": "stdout",
     "output_type": "stream",
     "text": [
      "Enter the contact = 745\n",
      "['74500', '74501']\n"
     ]
    }
   ],
   "source": [
    "c = [\"74500\",\"74501\",\"50200\",\"50201\"]\n",
    "e = str(input(\"Enter the contact = \"))\n",
    "m_c = []\n",
    "for i in c:\n",
    "    if e in i:\n",
    "        m_c.append(i)\n",
    "print(m_c)\n",
    "    "
   ]
  },
  {
   "cell_type": "code",
   "execution_count": 11,
   "id": "5b9d1148",
   "metadata": {},
   "outputs": [
    {
     "name": "stdout",
     "output_type": "stream",
     "text": [
      "Enter the string = r\n",
      "['rohim', 'rohit']\n"
     ]
    }
   ],
   "source": [
    "# find string and match substring\n",
    "\n",
    "s =[\"Vishal\",\"rohit\",\"sand\",\"rohim\",\"sandy\"]\n",
    "b = str(input(\"Enter the string = \")).casefold()\n",
    "m_n = []\n",
    "for i in s:\n",
    "    if b in i:\n",
    "        m_n.append(i)\n",
    "        m_n.sort()\n",
    "print(m_n)\n",
    "# print(m_n)"
   ]
  },
  {
   "cell_type": "code",
   "execution_count": 22,
   "id": "e03402ae",
   "metadata": {},
   "outputs": [
    {
     "name": "stdout",
     "output_type": "stream",
     "text": [
      "[100, 500, 1000, 2000, 5000]\n"
     ]
    }
   ],
   "source": [
    "s = [1000,100,5000,2000,500]\n",
    "for i in range(0,len(s)):\n",
    "    for j in range(i+1,len(s)):\n",
    "        if s[i] > s[j]:\n",
    "            s[i],s[j] = s[j],s[i]\n",
    "print(s)\n",
    "    "
   ]
  },
  {
   "cell_type": "code",
   "execution_count": 49,
   "id": "8e43bb3f",
   "metadata": {},
   "outputs": [
    {
     "name": "stdout",
     "output_type": "stream",
     "text": [
      "[1, 2, 10, 23]\n"
     ]
    }
   ],
   "source": [
    "# Python3 program for Bubble Sort Algorithm Implementation\n",
    "def bubbleSort(arr):\n",
    "    n = len(arr)\n",
    "    \n",
    "\t# For loop to traverse through all \n",
    "\t# element in an array\n",
    "    for i in range(n):\n",
    "        for j in range(0, n - i - 1):\n",
    "            \n",
    "\t\t\t# Range of the array is from 0 to n-i-1\n",
    "\t\t\t# Swap the elements if the element found \n",
    "\t\t\t#is greater than the adjacent element\n",
    "            if arr[j] > arr[j + 1]:\n",
    "                arr[j], arr[j + 1] = arr[j + 1], arr[j]\n",
    "\n",
    "# Example to test the above code\n",
    "arr = [ 2, 1, 10, 23 ]\n",
    "\n",
    "bubbleSort(arr)\n",
    "print(arr)"
   ]
  },
  {
   "cell_type": "code",
   "execution_count": null,
   "id": "5778d98e",
   "metadata": {},
   "outputs": [],
   "source": []
  },
  {
   "cell_type": "code",
   "execution_count": null,
   "id": "cd4bd183",
   "metadata": {},
   "outputs": [],
   "source": []
  }
 ],
 "metadata": {
  "kernelspec": {
   "display_name": "Python 3 (ipykernel)",
   "language": "python",
   "name": "python3"
  },
  "language_info": {
   "codemirror_mode": {
    "name": "ipython",
    "version": 3
   },
   "file_extension": ".py",
   "mimetype": "text/x-python",
   "name": "python",
   "nbconvert_exporter": "python",
   "pygments_lexer": "ipython3",
   "version": "3.11.5"
  }
 },
 "nbformat": 4,
 "nbformat_minor": 5
}
