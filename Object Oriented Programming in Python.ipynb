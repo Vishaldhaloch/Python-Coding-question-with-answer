{
 "cells": [
  {
   "cell_type": "markdown",
   "id": "e80b77ff",
   "metadata": {},
   "source": [
    "# OOPS"
   ]
  },
  {
   "cell_type": "markdown",
   "id": "d515ef5f",
   "metadata": {},
   "source": [
    "- it is a technique that simplify automation of real world entities(objects)\n",
    "- there are following concepts related to oop\n",
    "- Object\n",
    "- Class\n",
    "- Inheritance\n",
    "- Encapsulation\n",
    "- Polymorphism\n",
    "- Abstraction etc.\n",
    "- there are multiple language that provide implementations of above concepts like:\n",
    "- simula,SmallTalk,c++,Python,Objective C,Swift,J#,Java,R,Ruby,Kotlin etc."
   ]
  },
  {
   "cell_type": "markdown",
   "id": "172876aa",
   "metadata": {},
   "source": [
    "# Object:"
   ]
  },
  {
   "cell_type": "markdown",
   "id": "9b53583d",
   "metadata": {},
   "source": [
    "- Any real world entity(Physical or Logical) having properties and behaviours(Functionalities).\n",
    "- An object is an instance of a class.\n",
    "- Object is a dynamically allocated memory block hence size of object is not known in advance."
   ]
  },
  {
   "cell_type": "markdown",
   "id": "93eec29d",
   "metadata": {},
   "source": [
    "# Class"
   ]
  },
  {
   "cell_type": "markdown",
   "id": "b8a4b6fb",
   "metadata": {},
   "source": [
    "- A calss is a blueprint/template for creating similiar instances.\n",
    "- A class represents a datatype."
   ]
  },
  {
   "cell_type": "markdown",
   "id": "d68812e6",
   "metadata": {},
   "source": [
    "# Syntax for Creating Python Class:"
   ]
  },
  {
   "cell_type": "markdown",
   "id": "a7f010c9",
   "metadata": {},
   "source": [
    "- class classname:\n",
    "-        stmts\n",
    "- or\n",
    "- class classname():\n",
    "-      stmts"
   ]
  },
  {
   "cell_type": "markdown",
   "id": "05411cf5",
   "metadata": {},
   "source": [
    "# Create class"
   ]
  },
  {
   "cell_type": "code",
   "execution_count": 1,
   "id": "951b8e07",
   "metadata": {},
   "outputs": [
    {
     "name": "stdout",
     "output_type": "stream",
     "text": [
      "<__main__.car object at 0x000001BA37D41F70> 1899312193392\n",
      "<__main__.car object at 0x000001BA37D33730> 1899312133936\n",
      "<__main__.emp object at 0x000001BA37D41F40> 1899312193344\n"
     ]
    }
   ],
   "source": [
    "class car:\n",
    "    pass\n",
    "\n",
    "\n",
    "class emp:\n",
    "    pass\n",
    "\n",
    "# syntax to create instances of a python calss\n",
    "# classname()---- anonymous instance\n",
    "car()\n",
    "emp()\n",
    "\n",
    "#refvar=classsname()   ------reachable instance(object)\n",
    "a=car()\n",
    "b=car()\n",
    "c=emp()\n",
    "print(a,id(a))\n",
    "print(b,id(b))\n",
    "print(c,id(c))"
   ]
  },
  {
   "cell_type": "code",
   "execution_count": 2,
   "id": "f991a48c",
   "metadata": {},
   "outputs": [],
   "source": [
    "# Behaviour: it is represented by a method of a class and we use it write any logic."
   ]
  },
  {
   "cell_type": "code",
   "execution_count": 3,
   "id": "86c6de19",
   "metadata": {},
   "outputs": [
    {
     "name": "stdout",
     "output_type": "stream",
     "text": [
      "this is show functon\n",
      "this is show method\n"
     ]
    }
   ],
   "source": [
    "# pass obj for practice understand but mostly use (self)\n",
    "def show():       # Create funtion\n",
    "    print(\"this is show functon\")\n",
    "    \n",
    "class test:\n",
    "    def show(obj):             # Create method (fun write in inside class is called method)\n",
    "        print(\"this is show method\")\n",
    "        \n",
    "show()       # Call to show fun        \n",
    "        \n",
    "t=test()      \n",
    "t.show()     # Call method, by interpreter default t.show(t)\n",
    "   "
   ]
  },
  {
   "cell_type": "code",
   "execution_count": 4,
   "id": "701d2469",
   "metadata": {},
   "outputs": [
    {
     "name": "stdout",
     "output_type": "stream",
     "text": [
      "this is m2\n",
      "this is m1\n"
     ]
    }
   ],
   "source": [
    "# In one class create multiple method.\n",
    "class A:\n",
    "    def m1(obj):     # pass single parameter (receive obj to call method)\n",
    "        print(\"this is m1\")\n",
    "class B:\n",
    "    def m2(obj):    \n",
    "        print(\"this is m2\")\n",
    "        \n",
    "b=B()\n",
    "b.m2()\n",
    "a=A()\n",
    "a.m1()"
   ]
  },
  {
   "cell_type": "code",
   "execution_count": 5,
   "id": "15b2b8d0",
   "metadata": {},
   "outputs": [
    {
     "name": "stdout",
     "output_type": "stream",
     "text": [
      "this is m1\n",
      "this is m2\n",
      "this is m1\n",
      "this is m1\n",
      "this is m2\n"
     ]
    }
   ],
   "source": [
    "class A:\n",
    "    def m1(obj):\n",
    "        print(\"this is m1\")\n",
    "        \n",
    "    def m2(obj):\n",
    "        print(\"this is m2\")\n",
    "a=A() \n",
    "a.m1()\n",
    "a.m2()\n",
    "a.m1()\n",
    "a.m1()\n",
    "a.m2()       "
   ]
  },
  {
   "cell_type": "code",
   "execution_count": 6,
   "id": "851da2c3",
   "metadata": {},
   "outputs": [
    {
     "name": "stdout",
     "output_type": "stream",
     "text": [
      "this is m1\n",
      "this is m1\n",
      "this is m1\n"
     ]
    }
   ],
   "source": [
    "class A:\n",
    "    def m1(self):\n",
    "        print(\"this is m1\")\n",
    "a1=A()\n",
    "a2=A()\n",
    "a3=A()\n",
    "\n",
    "\n",
    "a1.m1()    # a1.m1(a1)\n",
    "a2.m1()    # a2.m1(a2)\n",
    "a3.m1()    # a3.m1(a3)"
   ]
  },
  {
   "cell_type": "code",
   "execution_count": 7,
   "id": "8309683e",
   "metadata": {},
   "outputs": [
    {
     "name": "stdout",
     "output_type": "stream",
     "text": [
      "this is m1 10\n"
     ]
    }
   ],
   "source": [
    "class A:\n",
    "    def m1(self,i):\n",
    "        print(\"this is m1\",i)\n",
    "        \n",
    "a1=A()\n",
    "\n",
    "a1.m1(10)     # a1.m1(a1,10)  # pass self argument, but 1st as obj and pass self args as 2nd.\n",
    "        "
   ]
  },
  {
   "cell_type": "code",
   "execution_count": 8,
   "id": "fcd932e5",
   "metadata": {},
   "outputs": [
    {
     "name": "stdout",
     "output_type": "stream",
     "text": [
      "this is m\n",
      "this is m\n",
      "this is m\n"
     ]
    }
   ],
   "source": [
    "# diff. way to call object and method\n",
    "class A:\n",
    "    def m(self):\n",
    "        print(\"this is m\")\n",
    "        \n",
    "a1=A()\n",
    "a1.m()\n",
    "a1.m()\n",
    "a1.m()       "
   ]
  },
  {
   "cell_type": "code",
   "execution_count": 9,
   "id": "9195883e",
   "metadata": {},
   "outputs": [
    {
     "name": "stdout",
     "output_type": "stream",
     "text": [
      "this is m\n",
      "this is m\n",
      "this is m\n"
     ]
    }
   ],
   "source": [
    "class A:\n",
    "    def m(self):\n",
    "        print(\"this is m\")\n",
    "        \n",
    "a1=A()\n",
    "a2=A()\n",
    "a3=A()\n",
    "a1.m() \n",
    "a2.m()\n",
    "a3.m()"
   ]
  },
  {
   "cell_type": "code",
   "execution_count": 10,
   "id": "654e9aa8",
   "metadata": {},
   "outputs": [
    {
     "name": "stdout",
     "output_type": "stream",
     "text": [
      "101 2000\n",
      "102 2000\n",
      "101 4000\n",
      "102 2000\n"
     ]
    }
   ],
   "source": [
    "class account:\n",
    "    pass\n",
    "a1=account()\n",
    "a2=account()\n",
    "a1.acn=101                     # properties use with object name\n",
    "a1.bal=2000\n",
    "a2.acn=102\n",
    "a2.bal=2000\n",
    "\n",
    "print(a1.acn,a1.bal)\n",
    "print(a2.acn,a2.bal)\n",
    "\n",
    "a1.bal=4000                # update bal\n",
    "print(a1.acn,a1.bal)\n",
    "print(a2.acn,a2.bal)    "
   ]
  },
  {
   "cell_type": "code",
   "execution_count": 11,
   "id": "da110995",
   "metadata": {},
   "outputs": [
    {
     "name": "stdout",
     "output_type": "stream",
     "text": [
      "this is constructor\n",
      "this is constructor\n"
     ]
    }
   ],
   "source": [
    "class account:\n",
    "    def __init__(self):       # constructor is special method. It can initialize the object.\n",
    "        print(\"this is constructor\")\n",
    "           \n",
    "a1=account() \n",
    "a2=account()       "
   ]
  },
  {
   "cell_type": "code",
   "execution_count": 12,
   "id": "f2920cb4",
   "metadata": {},
   "outputs": [
    {
     "name": "stdout",
     "output_type": "stream",
     "text": [
      "101 2000\n",
      "101 2000\n"
     ]
    }
   ],
   "source": [
    "class account:\n",
    "    def __init__(self): \n",
    "        self.acn=101\n",
    "        self.bal=2000\n",
    "               \n",
    "a1=account() \n",
    "a2=account()   \n",
    "print(a1.acn,a1.bal)\n",
    "print(a2.acn,a2.bal)"
   ]
  },
  {
   "cell_type": "code",
   "execution_count": 13,
   "id": "5b16a0f6",
   "metadata": {},
   "outputs": [
    {
     "name": "stdout",
     "output_type": "stream",
     "text": [
      "101 2000\n",
      "102 2000\n"
     ]
    }
   ],
   "source": [
    "class account:\n",
    "    def __init__(self,a,b): \n",
    "        self.acn=a\n",
    "        self.bal=b\n",
    "               \n",
    "a1=account(101,2000) \n",
    "a2=account(102,2000)   \n",
    "print(a1.acn,a1.bal)\n",
    "print(a2.acn,a2.bal)"
   ]
  },
  {
   "cell_type": "code",
   "execution_count": 14,
   "id": "390cc796",
   "metadata": {},
   "outputs": [
    {
     "name": "stdout",
     "output_type": "stream",
     "text": [
      "101 2000\n",
      "102 2000\n",
      "103 1000\n"
     ]
    }
   ],
   "source": [
    "class account:\n",
    "    def __init__(self,a,b=1000): \n",
    "        self.acn=a\n",
    "        self.bal=b\n",
    "               \n",
    "a1=account(101,2000) \n",
    "a2=account(102,2000) \n",
    "a3=account(103)\n",
    "print(a1.acn,a1.bal)\n",
    "print(a2.acn,a2.bal)\n",
    "print(a3.acn,a3.bal)"
   ]
  },
  {
   "cell_type": "code",
   "execution_count": 53,
   "id": "1a74090c",
   "metadata": {},
   "outputs": [
    {
     "name": "stdout",
     "output_type": "stream",
     "text": [
      "enter account no:232\n",
      "enter balance:334\n",
      "enter account no:23\n",
      "enter balance:66\n",
      "enter account no:33\n",
      "enter balance:66\n",
      "232 334\n",
      "23 66\n",
      "33 66\n"
     ]
    }
   ],
   "source": [
    "# take user input\n",
    "class account:\n",
    "    def __init__(self): \n",
    "        self.acn=int(input(\"enter account no:\"))\n",
    "        self.bal=int(input(\"enter balance:\"))\n",
    "               \n",
    "a1=account() \n",
    "a2=account() \n",
    "a3=account()\n",
    "print(a1.acn,a1.bal)\n",
    "print(a2.acn,a2.bal)\n",
    "print(a3.acn,a3.bal)"
   ]
  },
  {
   "cell_type": "markdown",
   "id": "95445755",
   "metadata": {},
   "source": [
    "# Types of properties/data memebers"
   ]
  },
  {
   "cell_type": "markdown",
   "id": "1d04a735",
   "metadata": {},
   "source": [
    "- instances data members : belongs to  individual object e.g.-acn,bal\n",
    "- class data members: share to all objects e.g.- bank ifsc code"
   ]
  },
  {
   "cell_type": "code",
   "execution_count": 54,
   "id": "cbbc4cfb",
   "metadata": {},
   "outputs": [
    {
     "name": "stdout",
     "output_type": "stream",
     "text": [
      "101 1000 abc123\n",
      "102 2000 abc123\n",
      "101 5000 klm456\n",
      "102 2000 klm456\n"
     ]
    }
   ],
   "source": [
    "class account:\n",
    "    ifsc=\"abc123\"            # ifsc class data members (write direct with class )\n",
    "    \n",
    "    \n",
    "    def __init__(self,a,b):    \n",
    "        self.acn=a              # acn instant data members  (write with constructor is instant data members)         \n",
    "        self.bal=b               # bal instant data members\n",
    "    \n",
    "a1=account(101,1000)\n",
    "a2=account(102,2000)\n",
    "    \n",
    "print(a1.acn,a1.bal,a1.ifsc)\n",
    "print(a2.acn,a2.bal,a2.ifsc)\n",
    "\n",
    "account.ifsc=\"klm456\"\n",
    "a1.bal=5000\n",
    "\n",
    "print(a1.acn,a1.bal,a1.ifsc)\n",
    "print(a2.acn,a2.bal,a2.ifsc)"
   ]
  },
  {
   "cell_type": "markdown",
   "id": "eaa2fa03",
   "metadata": {},
   "source": [
    "# Types of Methods"
   ]
  },
  {
   "cell_type": "markdown",
   "id": "8af6581e",
   "metadata": {},
   "source": [
    "- Instance Method\n",
    "- Class Method\n",
    "- Static Method"
   ]
  },
  {
   "cell_type": "code",
   "execution_count": 55,
   "id": "cc171e33",
   "metadata": {},
   "outputs": [
    {
     "name": "stdout",
     "output_type": "stream",
     "text": [
      "this is m1\n",
      "this is m2\n",
      "this is m3\n"
     ]
    }
   ],
   "source": [
    "class test:\n",
    "    def m1(self):                 # instance method\n",
    "        print(\"this is m1\")\n",
    "        \n",
    "    @classmethod                 # Decorators:(@classmethod) any method/fun to enchnce/change in fun  \n",
    "    def m2(cls):                 # class method\n",
    "        print(\"this is m2\")\n",
    "        \n",
    "    @staticmethod    \n",
    "    def m3():                   # static method\n",
    "        print(\"this is m3\")\n",
    "        \n",
    "t=test()\n",
    "t.m1()       \n",
    "test.m2()\n",
    "test.m3()       "
   ]
  },
  {
   "cell_type": "markdown",
   "id": "8ee90b2e",
   "metadata": {},
   "source": [
    "# Instance metod"
   ]
  },
  {
   "cell_type": "markdown",
   "id": "9704411b",
   "metadata": {},
   "source": [
    "- if logic depends on instance data members"
   ]
  },
  {
   "cell_type": "markdown",
   "id": "6bc3a4ba",
   "metadata": {},
   "source": [
    "# Class method"
   ]
  },
  {
   "cell_type": "markdown",
   "id": "3ab5f3ef",
   "metadata": {},
   "source": [
    "- if logic depend on class data members\n"
   ]
  },
  {
   "cell_type": "markdown",
   "id": "9e7407c7",
   "metadata": {},
   "source": [
    "# Static method"
   ]
  },
  {
   "cell_type": "markdown",
   "id": "7e887ec1",
   "metadata": {},
   "source": [
    "- If logic does not depend on istance/class data members\n"
   ]
  },
  {
   "cell_type": "code",
   "execution_count": 56,
   "id": "35529a01",
   "metadata": {},
   "outputs": [
    {
     "name": "stdout",
     "output_type": "stream",
     "text": [
      "30\n"
     ]
    }
   ],
   "source": [
    "# eg. of Class method\n",
    "class calc:\n",
    "    x=10\n",
    "    y=20\n",
    "    \n",
    "    @classmethod\n",
    "    def add(cls):\n",
    "        print(cls.x+cls.y)\n",
    "    \n",
    "    \n",
    "calc.add()        "
   ]
  },
  {
   "cell_type": "code",
   "execution_count": 57,
   "id": "397e9399",
   "metadata": {},
   "outputs": [
    {
     "name": "stdout",
     "output_type": "stream",
     "text": [
      "30\n"
     ]
    }
   ],
   "source": [
    "# eg. of Instance method\n",
    "class calc:\n",
    "    def __init__(self):\n",
    "        self.x=10\n",
    "        self.y=20\n",
    "    \n",
    "    def add(self):\n",
    "        print(self.x+self.y)\n",
    "    \n",
    "obj=calc()\n",
    "obj.add()  "
   ]
  },
  {
   "cell_type": "code",
   "execution_count": 58,
   "id": "e238e16b",
   "metadata": {},
   "outputs": [],
   "source": [
    "# eg. of Static method"
   ]
  },
  {
   "cell_type": "code",
   "execution_count": 59,
   "id": "a4e23734",
   "metadata": {},
   "outputs": [
    {
     "name": "stdout",
     "output_type": "stream",
     "text": [
      "30\n"
     ]
    }
   ],
   "source": [
    "class calc:\n",
    "    @staticmethod\n",
    "    def add(x,y):\n",
    "        print(x+y)\n",
    "        \n",
    "calc.add(10,20)        \n",
    "        "
   ]
  },
  {
   "cell_type": "markdown",
   "id": "5bd099de",
   "metadata": {},
   "source": [
    "# Inheritance"
   ]
  },
  {
   "cell_type": "code",
   "execution_count": 60,
   "id": "51b38782",
   "metadata": {},
   "outputs": [
    {
     "name": "stdout",
     "output_type": "stream",
     "text": [
      "this is calling\n",
      "this is msg\n"
     ]
    }
   ],
   "source": [
    "# Single level inheritance\n",
    "class telephone:\n",
    "    def calling(self):\n",
    "        print(\"this is calling\")\n",
    "        \n",
    "        \n",
    "class mobile(telephone):     # mobile class is child, telephone class is parent\n",
    "    def msg(self):\n",
    "        print(\"this is msg\")\n",
    "        \n",
    "m=mobile()        \n",
    "m.calling()\n",
    "m.msg()\n",
    "        "
   ]
  },
  {
   "cell_type": "code",
   "execution_count": 61,
   "id": "e5f4cb59",
   "metadata": {},
   "outputs": [],
   "source": [
    "# Multilevel: "
   ]
  },
  {
   "cell_type": "code",
   "execution_count": 62,
   "id": "71eca5a3",
   "metadata": {},
   "outputs": [
    {
     "name": "stdout",
     "output_type": "stream",
     "text": [
      "this is calling\n",
      "this is msg\n",
      "this is download\n"
     ]
    }
   ],
   "source": [
    "class telephone:\n",
    "    def calling(self):\n",
    "        print(\"this is calling\")\n",
    "                \n",
    "class mobile(telephone):    \n",
    "    def msg(self):\n",
    "        print(\"this is msg\")\n",
    "                \n",
    "class smartphone(mobile): \n",
    "    def appdownload(self):\n",
    "        print(\"this is download\")\n",
    "        \n",
    "sp=smartphone()        \n",
    "sp.calling()\n",
    "sp.msg()\n",
    "sp.appdownload()\n",
    "        "
   ]
  },
  {
   "cell_type": "code",
   "execution_count": 63,
   "id": "c3b7435d",
   "metadata": {},
   "outputs": [],
   "source": [
    "# Multiple"
   ]
  },
  {
   "cell_type": "code",
   "execution_count": 64,
   "id": "8546d033",
   "metadata": {},
   "outputs": [
    {
     "name": "stdout",
     "output_type": "stream",
     "text": [
      "this is calling\n",
      "this is picture\n",
      "this is msg\n"
     ]
    }
   ],
   "source": [
    "class telephone:\n",
    "    def calling(self):\n",
    "        print(\"this is calling\")\n",
    "        \n",
    "class camera:\n",
    "    def picture(self):\n",
    "        print(\"this is picture\")\n",
    "        \n",
    "class mobile(telephone,camera):\n",
    "    def msg(self):\n",
    "        print(\"this is msg\")\n",
    "        \n",
    "m=mobile()\n",
    "m.calling()\n",
    "m.picture()\n",
    "m.msg()       "
   ]
  },
  {
   "cell_type": "code",
   "execution_count": 65,
   "id": "b3042917",
   "metadata": {},
   "outputs": [],
   "source": [
    "# Hybrid "
   ]
  },
  {
   "cell_type": "code",
   "execution_count": 66,
   "id": "79eaf70d",
   "metadata": {},
   "outputs": [
    {
     "name": "stdout",
     "output_type": "stream",
     "text": [
      "this is m1\n",
      "this is m2\n",
      "this is m3\n",
      "this is m4\n"
     ]
    }
   ],
   "source": [
    "class A:\n",
    "    def m1(self):\n",
    "        print(\"this is m1\")\n",
    "        \n",
    "class B(A):\n",
    "    def m2(self):\n",
    "        print(\"this is m2\")\n",
    "        \n",
    "class D:\n",
    "    def m3(self):\n",
    "        print(\"this is m3\")\n",
    "        \n",
    "class C(B,D): \n",
    "    def m4(self):\n",
    "        print(\"this is m4\")\n",
    "        \n",
    "obj=C()\n",
    "obj.m1()\n",
    "obj.m2()\n",
    "obj.m3()\n",
    "obj.m4()        "
   ]
  },
  {
   "cell_type": "code",
   "execution_count": 67,
   "id": "d310c030",
   "metadata": {},
   "outputs": [],
   "source": [
    "# Hirarchical"
   ]
  },
  {
   "cell_type": "code",
   "execution_count": 68,
   "id": "c69b0e91",
   "metadata": {},
   "outputs": [
    {
     "name": "stdout",
     "output_type": "stream",
     "text": [
      "this is eating\n",
      "this is sleeping\n",
      "this is study\n",
      "this is eating\n",
      "this is sleeping\n",
      "this is acting\n"
     ]
    }
   ],
   "source": [
    "class person:\n",
    "    def eating(self):\n",
    "        print(\"this is eating\")\n",
    "        \n",
    "        \n",
    "    def sleeping(self):\n",
    "        print(\"this is sleeping\")\n",
    "        \n",
    "class student(person):  \n",
    "    def study(self):\n",
    "        print(\"this is study\")\n",
    "        \n",
    "s=student()\n",
    "s.eating()\n",
    "s.sleeping()\n",
    "s.study()\n",
    "        \n",
    "class actor(person):\n",
    "    def acting(self):\n",
    "        print(\"this is acting\")\n",
    "\n",
    "a=actor()\n",
    "a.eating()\n",
    "a.sleeping()\n",
    "a.acting()       "
   ]
  },
  {
   "cell_type": "code",
   "execution_count": 69,
   "id": "1a605176",
   "metadata": {},
   "outputs": [
    {
     "name": "stdout",
     "output_type": "stream",
     "text": [
      "this is m2 from c\n",
      "this is m1 from A\n"
     ]
    }
   ],
   "source": [
    "# MRO: Method Resolution Order: is a technique of any obj call method to identify its definition.firstly find in c then find a.\n",
    "class A:\n",
    "    def m1(self):\n",
    "        print(\"this is m1 from A\")\n",
    "\n",
    "class B:\n",
    "    def m1(self):\n",
    "        print(\"this is m1 from B\")\n",
    "    \n",
    "class C(A,B):\n",
    "    def m2(self):\n",
    "        print(\"this is m2 from c\")\n",
    "\n",
    "obj=C()\n",
    "obj.m2()\n",
    "obj.m1()        "
   ]
  },
  {
   "cell_type": "code",
   "execution_count": 70,
   "id": "ab82bafb",
   "metadata": {},
   "outputs": [],
   "source": [
    "# Concept Object class"
   ]
  },
  {
   "cell_type": "code",
   "execution_count": 71,
   "id": "5dc39bb0",
   "metadata": {},
   "outputs": [],
   "source": [
    "class A(object):\n",
    "    pass"
   ]
  },
  {
   "cell_type": "code",
   "execution_count": 72,
   "id": "bd0565f1",
   "metadata": {},
   "outputs": [
    {
     "data": {
      "text/plain": [
       "['__class__',\n",
       " '__delattr__',\n",
       " '__dir__',\n",
       " '__doc__',\n",
       " '__eq__',\n",
       " '__format__',\n",
       " '__ge__',\n",
       " '__getattribute__',\n",
       " '__gt__',\n",
       " '__hash__',\n",
       " '__init__',\n",
       " '__init_subclass__',\n",
       " '__le__',\n",
       " '__lt__',\n",
       " '__ne__',\n",
       " '__new__',\n",
       " '__reduce__',\n",
       " '__reduce_ex__',\n",
       " '__repr__',\n",
       " '__setattr__',\n",
       " '__sizeof__',\n",
       " '__str__',\n",
       " '__subclasshook__']"
      ]
     },
     "execution_count": 72,
     "metadata": {},
     "output_type": "execute_result"
    }
   ],
   "source": [
    "dir(object)"
   ]
  },
  {
   "cell_type": "code",
   "execution_count": 73,
   "id": "355c9bf3",
   "metadata": {},
   "outputs": [
    {
     "name": "stdout",
     "output_type": "stream",
     "text": [
      "this is cons\n"
     ]
    }
   ],
   "source": [
    "class test:\n",
    "    def __init__(self):\n",
    "        print(\"this is cons\")\n",
    "        \n",
    "t=test()                "
   ]
  },
  {
   "cell_type": "code",
   "execution_count": 74,
   "id": "954703fb",
   "metadata": {},
   "outputs": [],
   "source": [
    "class test:\n",
    "    pass\n",
    " \n",
    "        \n",
    "t=test()   "
   ]
  },
  {
   "cell_type": "code",
   "execution_count": 75,
   "id": "0a46487f",
   "metadata": {},
   "outputs": [],
   "source": [
    "# Data Encapsulation/Data Hiding: use instant data member"
   ]
  },
  {
   "cell_type": "code",
   "execution_count": 76,
   "id": "314aad39",
   "metadata": {},
   "outputs": [],
   "source": [
    "# without encapusulation"
   ]
  },
  {
   "cell_type": "code",
   "execution_count": 77,
   "id": "52e37c23",
   "metadata": {},
   "outputs": [
    {
     "name": "stdout",
     "output_type": "stream",
     "text": [
      "10000\n",
      "8000\n"
     ]
    }
   ],
   "source": [
    "class emp:\n",
    "    def __init__(self):\n",
    "        self.sal=10000\n",
    "        \n",
    "e=emp()\n",
    "print(e.sal)\n",
    "e.sal=8000        \n",
    "print(e.sal)               "
   ]
  },
  {
   "cell_type": "code",
   "execution_count": 78,
   "id": "6c5cb2e2",
   "metadata": {},
   "outputs": [],
   "source": [
    "# with encapsulation"
   ]
  },
  {
   "cell_type": "code",
   "execution_count": 79,
   "id": "79ff0477",
   "metadata": {},
   "outputs": [
    {
     "name": "stdout",
     "output_type": "stream",
     "text": [
      "10000\n",
      "8000\n"
     ]
    }
   ],
   "source": [
    "class emp:\n",
    "    def __init__(self):\n",
    "        self.__sal=10000             # private data member use, (__sal)\n",
    "    \n",
    "    def getsal(self):\n",
    "        return self.__sal\n",
    "    def setsal(self,s):\n",
    "        self.__sal=s\n",
    "    \n",
    "    \n",
    "    \n",
    "e=emp()\n",
    "#print(e.__sal)\n",
    "print(e.getsal())\n",
    "e.setsal(8000)\n",
    "print(e.getsal())"
   ]
  },
  {
   "cell_type": "code",
   "execution_count": 80,
   "id": "fd7808a3",
   "metadata": {},
   "outputs": [
    {
     "name": "stdout",
     "output_type": "stream",
     "text": [
      "10000\n",
      "10000\n"
     ]
    }
   ],
   "source": [
    "class emp:\n",
    "    def __init__(self):\n",
    "        self.__sal=10000            \n",
    "    \n",
    "    def getsal(self):\n",
    "        return self.__sal\n",
    "    \n",
    "    def setsal(self,s):\n",
    "        if(s>self.__sal):\n",
    "            self.__sal=s\n",
    "    \n",
    "    \n",
    "    \n",
    "e=emp()\n",
    "#print(e.__sal)\n",
    "print(e.getsal())\n",
    "e.setsal(8000)\n",
    "print(e.getsal())"
   ]
  },
  {
   "cell_type": "code",
   "execution_count": 81,
   "id": "384e6c0d",
   "metadata": {},
   "outputs": [],
   "source": [
    "# Polymorphism : one name many forms\n",
    "# Method Overriding\n",
    "# Operator Overloading"
   ]
  },
  {
   "cell_type": "code",
   "execution_count": 82,
   "id": "e2b17e98",
   "metadata": {},
   "outputs": [
    {
     "name": "stdout",
     "output_type": "stream",
     "text": [
      "this is m in B\n"
     ]
    }
   ],
   "source": [
    "class A:\n",
    "    def m(self):\n",
    "        print(\"this is m in A\")\n",
    "        \n",
    "class B(A):\n",
    "    def m(self):\n",
    "        print(\"this is m in B\")\n",
    "obj=B()\n",
    "obj.m()        "
   ]
  },
  {
   "cell_type": "code",
   "execution_count": 83,
   "id": "8d5ff43f",
   "metadata": {},
   "outputs": [
    {
     "name": "stdout",
     "output_type": "stream",
     "text": [
      "this is m in B\n",
      "this is m in A\n"
     ]
    }
   ],
   "source": [
    "class A:\n",
    "    def m(self):\n",
    "        print(\"this is m in A\")\n",
    "        \n",
    "class B(A):\n",
    "    def m(self):\n",
    "        print(\"this is m in B\")\n",
    "        super().m()\n",
    "        \n",
    "        \n",
    "obj=B()\n",
    "obj.m()  "
   ]
  },
  {
   "cell_type": "code",
   "execution_count": 84,
   "id": "2970ec18",
   "metadata": {},
   "outputs": [
    {
     "name": "stdout",
     "output_type": "stream",
     "text": [
      "this is m in B\n",
      "this is m1\n",
      "this is m2\n"
     ]
    }
   ],
   "source": [
    "class A:\n",
    "    def m(self):\n",
    "        print(\"this is m in A\")   \n",
    "    def m1(self):\n",
    "        print(\"this is m1\")      \n",
    "    def m2(self):\n",
    "        print(\"this is m2\")\n",
    "        \n",
    "        \n",
    "class B(A):\n",
    "    def m(self):\n",
    "        print(\"this is m in B\")\n",
    "        \n",
    "        \n",
    "        \n",
    "obj=B()\n",
    "obj.m()  \n",
    "obj.m1()\n",
    "obj.m2()"
   ]
  },
  {
   "cell_type": "code",
   "execution_count": 85,
   "id": "3833a8d3",
   "metadata": {},
   "outputs": [],
   "source": [
    "# Operator Overloading"
   ]
  },
  {
   "cell_type": "code",
   "execution_count": 86,
   "id": "e0eef275",
   "metadata": {},
   "outputs": [
    {
     "name": "stdout",
     "output_type": "stream",
     "text": [
      "8\n",
      "5\n"
     ]
    }
   ],
   "source": [
    "class point:\n",
    "    def __init__(self,a,b):\n",
    "        self.x=a\n",
    "        self.y=b\n",
    "\n",
    "    def __add__(self,other):\n",
    "        return 8\n",
    "   \n",
    "    def __mul__(self,other):\n",
    "        return 5\n",
    "\n",
    "\n",
    "p1=point(2,4)\n",
    "p2=point(6,4)\n",
    "print(p1+p2)\n",
    "print(p1*p2)"
   ]
  },
  {
   "cell_type": "code",
   "execution_count": 87,
   "id": "c162dbc7",
   "metadata": {},
   "outputs": [
    {
     "name": "stdout",
     "output_type": "stream",
     "text": [
      "(8, 8)\n",
      "(12, 16)\n"
     ]
    }
   ],
   "source": [
    "class point:\n",
    "    def __init__(self,a,b):\n",
    "        self.x=a\n",
    "        self.y=b\n",
    "\n",
    "    def __add__(self,other):\n",
    "        return (self.x+other.x,self.y+other.y)\n",
    "   \n",
    "    def __mul__(self,other):\n",
    "        return (self.x*other.x,self.y*other.y)\n",
    "\n",
    "\n",
    "p1=point(2,4)\n",
    "p2=point(6,4)\n",
    "print(p1+p2)\n",
    "print(p1*p2)"
   ]
  },
  {
   "cell_type": "code",
   "execution_count": 88,
   "id": "be66cd01",
   "metadata": {},
   "outputs": [],
   "source": [
    "# Abstraction: atleast one abstract method, ABC class are parent"
   ]
  },
  {
   "cell_type": "code",
   "execution_count": 91,
   "id": "b649efa9",
   "metadata": {},
   "outputs": [
    {
     "name": "stdout",
     "output_type": "stream",
     "text": [
      "this is area of circle\n",
      "this is area of rectangle\n"
     ]
    }
   ],
   "source": [
    "from abc import ABC,abstractmethod\n",
    "\n",
    "class Shape(ABC):\n",
    "    \n",
    "    @abstractmethod\n",
    "    def area(self):\n",
    "        pass\n",
    "    \n",
    "\n",
    "#s=Shape()    \n",
    "class Circle(Shape):\n",
    "    def area(self):\n",
    "        print(\"this is area of circle\")\n",
    "        \n",
    "class Rectangle(Shape):\n",
    "    def area(self):\n",
    "        print(\"this is area of rectangle\")  \n",
    "        \n",
    "obj=Circle()\n",
    "obj.area()\n",
    "\n",
    "obj=Rectangle()\n",
    "obj.area()\n",
    "\n",
    "    "
   ]
  },
  {
   "cell_type": "code",
   "execution_count": null,
   "id": "00f26fbd",
   "metadata": {},
   "outputs": [],
   "source": []
  },
  {
   "cell_type": "code",
   "execution_count": null,
   "id": "f80e2002",
   "metadata": {},
   "outputs": [],
   "source": []
  },
  {
   "cell_type": "code",
   "execution_count": null,
   "id": "bb400464",
   "metadata": {},
   "outputs": [],
   "source": []
  },
  {
   "cell_type": "code",
   "execution_count": null,
   "id": "e652a620",
   "metadata": {},
   "outputs": [],
   "source": []
  },
  {
   "cell_type": "code",
   "execution_count": null,
   "id": "2dd5f582",
   "metadata": {},
   "outputs": [],
   "source": []
  },
  {
   "cell_type": "code",
   "execution_count": null,
   "id": "e0530340",
   "metadata": {},
   "outputs": [],
   "source": []
  },
  {
   "cell_type": "code",
   "execution_count": null,
   "id": "f0235f40",
   "metadata": {},
   "outputs": [],
   "source": []
  },
  {
   "cell_type": "code",
   "execution_count": null,
   "id": "82ea0bc7",
   "metadata": {},
   "outputs": [],
   "source": []
  }
 ],
 "metadata": {
  "kernelspec": {
   "display_name": "Python 3 (ipykernel)",
   "language": "python",
   "name": "python3"
  },
  "language_info": {
   "codemirror_mode": {
    "name": "ipython",
    "version": 3
   },
   "file_extension": ".py",
   "mimetype": "text/x-python",
   "name": "python",
   "nbconvert_exporter": "python",
   "pygments_lexer": "ipython3",
   "version": "3.9.13"
  }
 },
 "nbformat": 4,
 "nbformat_minor": 5
}
