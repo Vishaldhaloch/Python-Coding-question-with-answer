{
 "cells": [
  {
   "cell_type": "code",
   "execution_count": 1,
   "id": "5a40a02e",
   "metadata": {},
   "outputs": [],
   "source": [
    "#OOPS "
   ]
  },
  {
   "cell_type": "code",
   "execution_count": 22,
   "id": "b99e5dd9",
   "metadata": {},
   "outputs": [],
   "source": [
    "class Atm:\n",
    "    def __init__(self):\n",
    "        self.pin=\"\"\n",
    "        self.__balance=0                      # Data encapsulation means hide ,__ to use hide,internally store _Atm__balance\n",
    "        print(\"\"\"Welcome to KOtak Mahindra Bank \n",
    "        \n",
    "        Here is your options:\n",
    "        \n",
    "        1. Balance Enquiry\n",
    "        2. Change Pin\n",
    "        3. Set BAlance\n",
    "        4. Exit\n",
    "        \n",
    "        \"\"\")\n",
    "        self.a=input()\n",
    "        if self.a==\"1\":\n",
    "            self.balance_enquiry()\n",
    "        elif self.a==\"2\":\n",
    "            self.change_pin()\n",
    "        elif self.a==\"3\":\n",
    "            self.set_balance()\n",
    "        elif self.a==\"4\":\n",
    "            print(\"Thankyou to banking with us\")\n",
    "        else:\n",
    "            print(\"Kindly choose a valid option.\")\n",
    "            \n",
    "            \n",
    "    def set_balance(self):\n",
    "        print(\"Welcome to set balance section.\")\n",
    "        set_bal=int(input(\"Kindly enter your balance\"))\n",
    "        self.__balance=set_bal\n",
    "        \n",
    "    def balance_enquiry(self):\n",
    "        print(\"Your available balance is :{}\".format(self.__balance))\n",
    "        \n",
    "    def change_pin(self):\n",
    "        set_pin=int(input(\"Kindly set your balance\"))\n",
    "        self.pin=set_pin\n",
    "        "
   ]
  },
  {
   "cell_type": "code",
   "execution_count": 23,
   "id": "c45bb69e",
   "metadata": {},
   "outputs": [
    {
     "ename": "AttributeError",
     "evalue": "'Atm' object has no attribute 'menu'",
     "output_type": "error",
     "traceback": [
      "\u001b[1;31m---------------------------------------------------------------------------\u001b[0m",
      "\u001b[1;31mAttributeError\u001b[0m                            Traceback (most recent call last)",
      "\u001b[1;32m~\\AppData\\Local\\Temp\\ipykernel_1532\\3806063571.py\u001b[0m in \u001b[0;36m<module>\u001b[1;34m\u001b[0m\n\u001b[1;32m----> 1\u001b[1;33m \u001b[0mvishal\u001b[0m\u001b[1;33m=\u001b[0m\u001b[0mAtm\u001b[0m\u001b[1;33m(\u001b[0m\u001b[1;33m)\u001b[0m\u001b[1;33m\u001b[0m\u001b[1;33m\u001b[0m\u001b[0m\n\u001b[0m",
      "\u001b[1;32m~\\AppData\\Local\\Temp\\ipykernel_1532\\83413406.py\u001b[0m in \u001b[0;36m__init__\u001b[1;34m(self)\u001b[0m\n\u001b[0;32m      3\u001b[0m         \u001b[0mself\u001b[0m\u001b[1;33m.\u001b[0m\u001b[0mpin\u001b[0m\u001b[1;33m=\u001b[0m\u001b[1;34m\"\"\u001b[0m\u001b[1;33m\u001b[0m\u001b[1;33m\u001b[0m\u001b[0m\n\u001b[0;32m      4\u001b[0m         \u001b[0mself\u001b[0m\u001b[1;33m.\u001b[0m\u001b[0m__balance\u001b[0m\u001b[1;33m=\u001b[0m\u001b[1;36m0\u001b[0m                      \u001b[1;31m# Data encapsulation means hide ,__ to use hide,internally store _Atm__balance\u001b[0m\u001b[1;33m\u001b[0m\u001b[1;33m\u001b[0m\u001b[0m\n\u001b[1;32m----> 5\u001b[1;33m         \u001b[0mself\u001b[0m\u001b[1;33m.\u001b[0m\u001b[0mmenu\u001b[0m\u001b[1;33m(\u001b[0m\u001b[1;33m)\u001b[0m\u001b[1;33m\u001b[0m\u001b[1;33m\u001b[0m\u001b[0m\n\u001b[0m\u001b[0;32m      6\u001b[0m         print(\"\"\"Welcome to KOtak Mahindra Bank \n\u001b[0;32m      7\u001b[0m \u001b[1;33m\u001b[0m\u001b[0m\n",
      "\u001b[1;31mAttributeError\u001b[0m: 'Atm' object has no attribute 'menu'"
     ]
    }
   ],
   "source": [
    "vishal=Atm()"
   ]
  },
  {
   "cell_type": "code",
   "execution_count": 24,
   "id": "3fb8edca",
   "metadata": {},
   "outputs": [],
   "source": [
    "vishal._Atm__balance=1000                  # chnge bal. outside class"
   ]
  },
  {
   "cell_type": "code",
   "execution_count": 25,
   "id": "c95b581a",
   "metadata": {},
   "outputs": [
    {
     "data": {
      "text/plain": [
       "1000"
      ]
     },
     "execution_count": 25,
     "metadata": {},
     "output_type": "execute_result"
    }
   ],
   "source": [
    "vishal._Atm__balance"
   ]
  },
  {
   "cell_type": "code",
   "execution_count": null,
   "id": "a46d03fe",
   "metadata": {},
   "outputs": [],
   "source": []
  },
  {
   "cell_type": "code",
   "execution_count": 28,
   "id": "dcf80cfb",
   "metadata": {},
   "outputs": [],
   "source": [
    "class Atm:\n",
    "    def __init__(self):\n",
    "        self.pin=\"\"\n",
    "        self.__balance=0                      # Data encapsulation means hide ,__ to use hide,internally store _Atm__balance\n",
    "        self.menu()\n",
    "        \n",
    "    def menu(self):\n",
    "        print(\"\"\"Welcome to KOtak Mahindra Bank \n",
    "        \n",
    "        Here is your options:\n",
    "        \n",
    "        1. Balance Enquiry\n",
    "        2. Change Pin\n",
    "        3. Set BAlance\n",
    "        4. Exit\n",
    "        \n",
    "        \"\"\")\n",
    "        self.a=input()\n",
    "        if self.a==\"1\":\n",
    "            self.balance_enquiry()\n",
    "        elif self.a==\"2\":\n",
    "            self.change_pin()\n",
    "        elif self.a==\"3\":\n",
    "            self.set_balance()\n",
    "        elif self.a==\"4\":\n",
    "            print(\"Thankyou to banking with us\")\n",
    "        else:\n",
    "            print(\"Kindly choose a valid option.\")\n",
    "            \n",
    "            \n",
    "    def set_balance(self):\n",
    "        print(\"Welcome to set balance section.\")\n",
    "        set_bal=int(input(\"Kindly enter your balance\"))\n",
    "        self.__balance=set_bal\n",
    "        self.menu()\n",
    "        \n",
    "    def balance_enquiry(self):\n",
    "        print(\"Your available balance is :{}\".format(self.__balance))\n",
    "        self.menu()\n",
    "        \n",
    "    def change_pin(self):\n",
    "        set_pin=int(input(\"Kindly set your balance\"))\n",
    "        self.pin=set_pin\n",
    "        self.menu()\n",
    "        "
   ]
  },
  {
   "cell_type": "code",
   "execution_count": 29,
   "id": "95d432a3",
   "metadata": {},
   "outputs": [
    {
     "name": "stdout",
     "output_type": "stream",
     "text": [
      "Welcome to KOtak Mahindra Bank \n",
      "        \n",
      "        Here is your options:\n",
      "        \n",
      "        1. Balance Enquiry\n",
      "        2. Change Pin\n",
      "        3. Set BAlance\n",
      "        4. Exit\n",
      "        \n",
      "        \n",
      "3\n",
      "Welcome to set balance section.\n",
      "Kindly enter your balance10000\n",
      "Welcome to KOtak Mahindra Bank \n",
      "        \n",
      "        Here is your options:\n",
      "        \n",
      "        1. Balance Enquiry\n",
      "        2. Change Pin\n",
      "        3. Set BAlance\n",
      "        4. Exit\n",
      "        \n",
      "        \n",
      "1\n",
      "Your available balance is :10000\n"
     ]
    }
   ],
   "source": [
    "vishal=Atm()"
   ]
  },
  {
   "cell_type": "code",
   "execution_count": null,
   "id": "12a908e6",
   "metadata": {},
   "outputs": [],
   "source": []
  },
  {
   "cell_type": "code",
   "execution_count": null,
   "id": "f76cdc95",
   "metadata": {},
   "outputs": [],
   "source": []
  },
  {
   "cell_type": "code",
   "execution_count": null,
   "id": "2c4b0f42",
   "metadata": {},
   "outputs": [],
   "source": []
  },
  {
   "cell_type": "code",
   "execution_count": null,
   "id": "4199d337",
   "metadata": {},
   "outputs": [],
   "source": []
  },
  {
   "cell_type": "code",
   "execution_count": null,
   "id": "e34f4e2d",
   "metadata": {},
   "outputs": [],
   "source": []
  },
  {
   "cell_type": "code",
   "execution_count": null,
   "id": "d0e5deac",
   "metadata": {},
   "outputs": [],
   "source": []
  },
  {
   "cell_type": "code",
   "execution_count": null,
   "id": "f8f519b5",
   "metadata": {},
   "outputs": [],
   "source": []
  },
  {
   "cell_type": "code",
   "execution_count": null,
   "id": "446e990a",
   "metadata": {},
   "outputs": [],
   "source": []
  },
  {
   "cell_type": "code",
   "execution_count": null,
   "id": "1065534e",
   "metadata": {},
   "outputs": [],
   "source": []
  },
  {
   "cell_type": "code",
   "execution_count": null,
   "id": "66a3f08f",
   "metadata": {},
   "outputs": [],
   "source": []
  },
  {
   "cell_type": "code",
   "execution_count": null,
   "id": "32e87aa5",
   "metadata": {},
   "outputs": [],
   "source": []
  },
  {
   "cell_type": "code",
   "execution_count": null,
   "id": "1ab1cdfd",
   "metadata": {},
   "outputs": [],
   "source": []
  },
  {
   "cell_type": "code",
   "execution_count": null,
   "id": "8dbe07a4",
   "metadata": {},
   "outputs": [],
   "source": []
  },
  {
   "cell_type": "code",
   "execution_count": null,
   "id": "1550afa4",
   "metadata": {},
   "outputs": [],
   "source": []
  },
  {
   "cell_type": "code",
   "execution_count": null,
   "id": "7fad5a8a",
   "metadata": {},
   "outputs": [],
   "source": []
  },
  {
   "cell_type": "code",
   "execution_count": null,
   "id": "a5035e67",
   "metadata": {},
   "outputs": [],
   "source": []
  },
  {
   "cell_type": "code",
   "execution_count": null,
   "id": "4279443f",
   "metadata": {},
   "outputs": [],
   "source": []
  }
 ],
 "metadata": {
  "kernelspec": {
   "display_name": "Python 3 (ipykernel)",
   "language": "python",
   "name": "python3"
  },
  "language_info": {
   "codemirror_mode": {
    "name": "ipython",
    "version": 3
   },
   "file_extension": ".py",
   "mimetype": "text/x-python",
   "name": "python",
   "nbconvert_exporter": "python",
   "pygments_lexer": "ipython3",
   "version": "3.9.13"
  }
 },
 "nbformat": 4,
 "nbformat_minor": 5
}
