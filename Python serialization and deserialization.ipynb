{
 "cells": [
  {
   "cell_type": "code",
   "execution_count": 1,
   "id": "a676c99b",
   "metadata": {},
   "outputs": [],
   "source": [
    "# serialize \n",
    "import pickle \n",
    "\n",
    "student_names = ['Alice','Bob','Elena','Jane','Kyle']\n",
    "\n",
    "with open('student_file.pkl', 'wb') as f:\n",
    "    pickle.dump(student_names, f) # dump used for write data and covert python object to byte steream"
   ]
  },
  {
   "cell_type": "code",
   "execution_count": 2,
   "id": "5542741a",
   "metadata": {},
   "outputs": [
    {
     "name": "stdout",
     "output_type": "stream",
     "text": [
      "['Alice', 'Bob', 'Elena', 'Jane', 'Kyle']\n"
     ]
    }
   ],
   "source": [
    "# deserialize\n",
    "with open('student_file.pkl', 'rb') as f:\n",
    "\n",
    "    student_names_loaded = pickle.load(f)  # load used for read data and convert byte stream into python object\n",
    "    print(student_names_loaded) "
   ]
  },
  {
   "cell_type": "code",
   "execution_count": null,
   "id": "07e1424f",
   "metadata": {},
   "outputs": [],
   "source": []
  },
  {
   "cell_type": "code",
   "execution_count": null,
   "id": "6b7a8d23",
   "metadata": {},
   "outputs": [],
   "source": []
  },
  {
   "cell_type": "code",
   "execution_count": null,
   "id": "356c6968",
   "metadata": {},
   "outputs": [],
   "source": []
  },
  {
   "cell_type": "code",
   "execution_count": null,
   "id": "667a9814",
   "metadata": {},
   "outputs": [],
   "source": []
  },
  {
   "cell_type": "code",
   "execution_count": null,
   "id": "3567a7fc",
   "metadata": {},
   "outputs": [],
   "source": []
  },
  {
   "cell_type": "code",
   "execution_count": null,
   "id": "e55b6f9f",
   "metadata": {},
   "outputs": [],
   "source": []
  },
  {
   "cell_type": "code",
   "execution_count": null,
   "id": "e218046e",
   "metadata": {},
   "outputs": [],
   "source": []
  }
 ],
 "metadata": {
  "kernelspec": {
   "display_name": "Python 3 (ipykernel)",
   "language": "python",
   "name": "python3"
  },
  "language_info": {
   "codemirror_mode": {
    "name": "ipython",
    "version": 3
   },
   "file_extension": ".py",
   "mimetype": "text/x-python",
   "name": "python",
   "nbconvert_exporter": "python",
   "pygments_lexer": "ipython3",
   "version": "3.11.5"
  }
 },
 "nbformat": 4,
 "nbformat_minor": 5
}
