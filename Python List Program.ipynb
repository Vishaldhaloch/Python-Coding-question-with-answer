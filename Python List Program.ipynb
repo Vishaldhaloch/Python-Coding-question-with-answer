{
 "cells": [
  {
   "cell_type": "code",
   "execution_count": 1,
   "id": "2cfae2dc",
   "metadata": {},
   "outputs": [],
   "source": [
    "# List Program\n",
    "# print reverse list\n",
    "# permanently reverse list \n",
    "# list of number, even numbers, odd numbers\n",
    "# search a number and its location, if multiple then print both\n",
    "# wap to remove duplicate elements\n",
    "# increase order sorting\n",
    "# frequency of each number \n"
   ]
  },
  {
   "cell_type": "code",
   "execution_count": 2,
   "id": "4fa42882",
   "metadata": {},
   "outputs": [
    {
     "name": "stdout",
     "output_type": "stream",
     "text": [
      "[1, 2, 5, 4, 7]\n"
     ]
    }
   ],
   "source": [
    "# Wap to remove duplicate elements from the list\n",
    "lst=[1,2,5,2,4,7,5,4]\n",
    "remove_duplicate=[]\n",
    "for i in lst:\n",
    "    if i not in remove_duplicate:\n",
    "        remove_duplicate.append(i)\n",
    "print(remove_duplicate)\n"
   ]
  },
  {
   "cell_type": "code",
   "execution_count": 3,
   "id": "18d4d31e",
   "metadata": {},
   "outputs": [
    {
     "data": {
      "text/plain": [
       "[6, 5, 4, 3, 2, 1]"
      ]
     },
     "execution_count": 3,
     "metadata": {},
     "output_type": "execute_result"
    }
   ],
   "source": [
    "# Wap to print reverse list permanently\n",
    "# method 1\n",
    "lst=[1,2,3,4,5,6]\n",
    "lst[::-1]"
   ]
  },
  {
   "cell_type": "code",
   "execution_count": 4,
   "id": "9d778bc0",
   "metadata": {},
   "outputs": [
    {
     "name": "stdout",
     "output_type": "stream",
     "text": [
      "[6, 5, 4, 3, 2, 1]\n"
     ]
    }
   ],
   "source": [
    "# Wap to print reverse list permanently\n",
    "# method 2\n",
    "lst=[1,2,3,4,5,6]\n",
    "rev=[]\n",
    "for i in lst:\n",
    "    rev=[i]+rev\n",
    "print(rev)"
   ]
  },
  {
   "cell_type": "code",
   "execution_count": 8,
   "id": "9c7231d5",
   "metadata": {},
   "outputs": [
    {
     "name": "stdout",
     "output_type": "stream",
     "text": [
      "[6, 5, 4, 3, 2, 1] "
     ]
    }
   ],
   "source": [
    "# wap to print reverse list permanently\n",
    "#method 3\n",
    "lst=[1,2,3,4,5,6]\n",
    "b=len(lst)\n",
    "c=[]\n",
    "for i in range(b,0,-1):\n",
    "    c.append(i)\n",
    "print(c,end=\" \")"
   ]
  },
  {
   "cell_type": "code",
   "execution_count": 9,
   "id": "46d08aac",
   "metadata": {},
   "outputs": [
    {
     "name": "stdout",
     "output_type": "stream",
     "text": [
      "[5, 4, 3, 2, 1] \n",
      "[1, 2, 3, 4, 5]\n"
     ]
    }
   ],
   "source": [
    "# wap to print reverse list\n",
    "lst=[1,2,3,4,5]\n",
    "b=len(lst)\n",
    "c=[]\n",
    "for i in range(b,0,-1):\n",
    "    c.append(i)\n",
    "print(c,end=\" \") \n",
    "print()\n",
    "print(lst)"
   ]
  },
  {
   "cell_type": "code",
   "execution_count": 10,
   "id": "04be6f62",
   "metadata": {},
   "outputs": [
    {
     "name": "stdout",
     "output_type": "stream",
     "text": [
      "odd_number count 4\n",
      "even_numbner count 3\n"
     ]
    }
   ],
   "source": [
    "# We have a list of number,find even numbers and odd numbers and count frequeny of odd and even number\n",
    "lst=[1,2,3,4,5,6,7]\n",
    "odd_count=0\n",
    "even_count=0\n",
    "for i in lst:\n",
    "    if i%2!=0:\n",
    "#         print(i)\n",
    "        odd_count=odd_count+1\n",
    "    else:\n",
    "        even_count=even_count+1\n",
    "        \n",
    "print(\"odd_number count\", odd_count)\n",
    "print(\"even_numbner count\", even_count)\n"
   ]
  },
  {
   "cell_type": "code",
   "execution_count": 12,
   "id": "8f7b2e1a",
   "metadata": {},
   "outputs": [
    {
     "name": "stdout",
     "output_type": "stream",
     "text": [
      "Enter the number:2\n",
      "[Number] 2  [index] 1\n"
     ]
    }
   ],
   "source": [
    "# Wap to search a number and its location, if multiple then print both\n",
    "# method 1\n",
    "n=int(input(\"Enter the number:\"))\n",
    "lst=[1,2,3,12,321,5,6]\n",
    "for i in lst:\n",
    "    c=lst.index(n)\n",
    "print(f\"[Number] {n}  [index]\", c)"
   ]
  },
  {
   "cell_type": "code",
   "execution_count": 5,
   "id": "2d0ffbd3",
   "metadata": {},
   "outputs": [
    {
     "name": "stdout",
     "output_type": "stream",
     "text": [
      "[1, 2, 3, 4, 5, 6, 7, 8, 18]\n"
     ]
    }
   ],
   "source": [
    "# Wap to increase order sorting\n",
    "lst=[2,8,5,3,7,4,18,1,6]\n",
    "for i in range(0,len(lst)):\n",
    "    for j in range(i+1,len(lst)):\n",
    "        if lst[i]>lst[j]:\n",
    "            lst[i],lst[j]=lst[j],lst[i]\n",
    "print(lst)"
   ]
  },
  {
   "cell_type": "code",
   "execution_count": 14,
   "id": "41c15ca3",
   "metadata": {},
   "outputs": [
    {
     "name": "stdout",
     "output_type": "stream",
     "text": [
      "1\n",
      "2\n",
      "5\n",
      "8\n",
      "6\n",
      "2\n",
      "5\n",
      "8\n",
      "{1: 1, 2: 2, 5: 2, 8: 2, 6: 1}\n"
     ]
    }
   ],
   "source": [
    "# Wap to count frequency of each number in a list\n",
    "lst=[1,2,5,8,6,2,5,8]\n",
    "c={}\n",
    "for i in lst:\n",
    "    print(i)\n",
    "    if i in c:\n",
    "        c[i]=c[i]+1\n",
    "    else:\n",
    "        c[i]=1\n",
    "print(c)        \n",
    "        "
   ]
  },
  {
   "cell_type": "code",
   "execution_count": 2,
   "id": "e4108d04",
   "metadata": {},
   "outputs": [
    {
     "name": "stdout",
     "output_type": "stream",
     "text": [
      "enter number =3\n",
      "The index position of 3 is 2\n",
      "The index position of 3 is 7\n"
     ]
    }
   ],
   "source": [
    "# Wap to search a number and its location from the list , if multiple number then print both\n",
    "n=int(input(\"enter number =\"))\n",
    "lst=[1,2,3,12,321,5,6,3]\n",
    "found=False\n",
    "for i in range(len(lst)):\n",
    "    if n==lst[i]:\n",
    "        print(f\"The index position of {n} is\",i)\n",
    "        found=True\n",
    "if not found:\n",
    "    print(\"not found\")"
   ]
  },
  {
   "cell_type": "code",
   "execution_count": 1,
   "id": "48a250d0",
   "metadata": {},
   "outputs": [
    {
     "name": "stdout",
     "output_type": "stream",
     "text": [
      "enter number =6\n",
      "The index position of 6 is 6\n"
     ]
    }
   ],
   "source": [
    "n=int(input(\"enter number =\"))\n",
    "lst=[1,2,3,12,321,5,6,3,2]\n",
    "for i in range(len(lst)):\n",
    "    if n==lst[i]:\n",
    "        print(f\"The index position of {n} is\",i)"
   ]
  },
  {
   "cell_type": "code",
   "execution_count": null,
   "id": "01a8d0ed",
   "metadata": {},
   "outputs": [],
   "source": []
  },
  {
   "cell_type": "code",
   "execution_count": null,
   "id": "4771490f",
   "metadata": {},
   "outputs": [],
   "source": []
  },
  {
   "cell_type": "code",
   "execution_count": null,
   "id": "e943f0e1",
   "metadata": {},
   "outputs": [],
   "source": []
  }
 ],
 "metadata": {
  "kernelspec": {
   "display_name": "Python 3 (ipykernel)",
   "language": "python",
   "name": "python3"
  },
  "language_info": {
   "codemirror_mode": {
    "name": "ipython",
    "version": 3
   },
   "file_extension": ".py",
   "mimetype": "text/x-python",
   "name": "python",
   "nbconvert_exporter": "python",
   "pygments_lexer": "ipython3",
   "version": "3.11.5"
  }
 },
 "nbformat": 4,
 "nbformat_minor": 5
}
